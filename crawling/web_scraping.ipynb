{
 "cells": [
  {
   "cell_type": "markdown",
   "metadata": {},
   "source": [
    "Web Scraping\n",
    "=============="
   ]
  },
  {
   "cell_type": "markdown",
   "metadata": {},
   "source": [
    "Parsing with HTML file\n",
    "-----------"
   ]
  },
  {
   "cell_type": "code",
   "execution_count": 10,
   "metadata": {},
   "outputs": [
    {
     "name": "stdout",
     "output_type": "stream",
     "text": [
      "<!DOCTYPE html>\n",
      "<html class=\"no-js\" lang=\"\">\n",
      " <head>\n",
      "  <title>\n",
      "   Test - A Sample Website\n",
      "  </title>\n",
      "  <meta charset=\"utf-8\"/>\n",
      "  <link href=\"css/normalize.css\" rel=\"stylesheet\"/>\n",
      "  <link href=\"css/main.css\" rel=\"stylesheet\"/>\n",
      " </head>\n",
      " <body>\n",
      "  <h1 id=\"site_title\">\n",
      "   Test Website\n",
      "  </h1>\n",
      "  <hr/>\n",
      "  <div class=\"article\">\n",
      "   <h2>\n",
      "    <a href=\"article_1.html\">\n",
      "     Article 1 Headline\n",
      "    </a>\n",
      "   </h2>\n",
      "   <p>\n",
      "    This is a summary of article 1\n",
      "   </p>\n",
      "  </div>\n",
      "  <hr/>\n",
      "  <div class=\"article\">\n",
      "   <h2>\n",
      "    <a href=\"article_2.html\">\n",
      "     Article 2 Headline\n",
      "    </a>\n",
      "   </h2>\n",
      "   <p>\n",
      "    This is a summary of article 2\n",
      "   </p>\n",
      "  </div>\n",
      "  <hr/>\n",
      "  <div class=\"footer\">\n",
      "   <p>\n",
      "    Footer Information\n",
      "   </p>\n",
      "  </div>\n",
      "  <script src=\"js/vendor/modernizr-3.5.0.min.js\">\n",
      "  </script>\n",
      "  <script src=\"js/plugins.js\">\n",
      "  </script>\n",
      "  <script src=\"js/main.js\">\n",
      "  </script>\n",
      " </body>\n",
      "</html>\n"
     ]
    }
   ],
   "source": [
    "from bs4 import BeautifulSoup\n",
    "import requests\n",
    "\n",
    "with open('simple.html') as html_file:\n",
    "    soup = BeautifulSoup(html_file, 'lxml')\n",
    "    \n",
    "print(soup.prettify()) # prettify() 메서드를 통해 가독성 있게 태그를 전달받을 수 있다"
   ]
  },
  {
   "cell_type": "code",
   "execution_count": 11,
   "metadata": {},
   "outputs": [
    {
     "name": "stdout",
     "output_type": "stream",
     "text": [
      "<title>Test - A Sample Website</title>\n"
     ]
    }
   ],
   "source": [
    "match = soup.title # attribute를 통해 접근하고자 하는 태그 선택 가능\n",
    "print(match)"
   ]
  },
  {
   "cell_type": "code",
   "execution_count": 12,
   "metadata": {},
   "outputs": [
    {
     "name": "stdout",
     "output_type": "stream",
     "text": [
      "Test - A Sample Website\n"
     ]
    }
   ],
   "source": [
    "match2 = soup.title.text\n",
    "print(match2)"
   ]
  },
  {
   "cell_type": "code",
   "execution_count": 13,
   "metadata": {},
   "outputs": [
    {
     "name": "stdout",
     "output_type": "stream",
     "text": [
      "<div class=\"article\">\n",
      "<h2><a href=\"article_1.html\">Article 1 Headline</a></h2>\n",
      "<p>This is a summary of article 1</p>\n",
      "</div>\n"
     ]
    }
   ],
   "source": [
    "match3 = soup.div\n",
    "print(match3)"
   ]
  },
  {
   "cell_type": "code",
   "execution_count": 15,
   "metadata": {},
   "outputs": [
    {
     "name": "stdout",
     "output_type": "stream",
     "text": [
      "<div class=\"footer\">\n",
      "<p>Footer Information</p>\n",
      "</div>\n"
     ]
    }
   ],
   "source": [
    "# find 메서드를 통해 태그 내의 특정 클래스에 접근 가능\n",
    "match4 = soup.find('div', class_ = 'footer')\n",
    "print(match4)"
   ]
  },
  {
   "cell_type": "code",
   "execution_count": 16,
   "metadata": {},
   "outputs": [
    {
     "name": "stdout",
     "output_type": "stream",
     "text": [
      "Article 1 Headline\n"
     ]
    }
   ],
   "source": [
    "article = soup.find('div', class_ = 'article')\n",
    "headline = article.h2.a.text\n",
    "print(headline)"
   ]
  },
  {
   "cell_type": "code",
   "execution_count": 17,
   "metadata": {},
   "outputs": [
    {
     "name": "stdout",
     "output_type": "stream",
     "text": [
      "This is a summary of article 1\n"
     ]
    }
   ],
   "source": [
    "summary = article.p.text\n",
    "print(summary)"
   ]
  },
  {
   "cell_type": "code",
   "execution_count": 18,
   "metadata": {},
   "outputs": [
    {
     "name": "stdout",
     "output_type": "stream",
     "text": [
      "Article 1 Headline\n",
      "This is a summary of article 1\n",
      "\n",
      "Article 2 Headline\n",
      "This is a summary of article 2\n",
      "\n"
     ]
    }
   ],
   "source": [
    "# find_all return a list of all the tags that match those arguments\n",
    "for article in soup.find_all('div', class_ = 'article'):\n",
    "    headline = article.h2.a.text\n",
    "    print(headline)\n",
    "    \n",
    "    summary = article.p.text\n",
    "    print(summary)\n",
    "    \n",
    "    print()"
   ]
  },
  {
   "cell_type": "markdown",
   "metadata": {},
   "source": [
    "Scrap from actual websites\n",
    "---------------"
   ]
  },
  {
   "cell_type": "code",
   "execution_count": 21,
   "metadata": {},
   "outputs": [],
   "source": [
    "source = requests.get('http://coreyms.com').text\n",
    "\n",
    "soup = BeautifulSoup(source, 'lxml')"
   ]
  },
  {
   "cell_type": "code",
   "execution_count": 22,
   "metadata": {},
   "outputs": [],
   "source": [
    "article = soup.find('article')"
   ]
  },
  {
   "cell_type": "code",
   "execution_count": 24,
   "metadata": {},
   "outputs": [
    {
     "name": "stdout",
     "output_type": "stream",
     "text": [
      "Python Tutorial: Itertools Module – Iterator Functions for Efficient Looping\n"
     ]
    }
   ],
   "source": [
    "headline = article.a.text\n",
    "print(headline)"
   ]
  },
  {
   "cell_type": "code",
   "execution_count": 25,
   "metadata": {},
   "outputs": [
    {
     "name": "stdout",
     "output_type": "stream",
     "text": [
      "In this Python Programming Tutorial, we will be learning about the itertools module. The itertools module is a collection of functions that allows us to work with iterators in an efficient way. Depending on your problem, this can save you a lot of memory and also a lot of work. Let’s get started…\n"
     ]
    }
   ],
   "source": [
    "summary = article.find('div', class_ = 'entry-content').p.text\n",
    "print(summary)"
   ]
  },
  {
   "cell_type": "code",
   "execution_count": 26,
   "metadata": {},
   "outputs": [
    {
     "name": "stdout",
     "output_type": "stream",
     "text": [
      "<iframe allowfullscreen=\"true\" class=\"youtube-player\" height=\"360\" src=\"https://www.youtube.com/embed/Qu3dThVy6KQ?version=3&amp;rel=1&amp;fs=1&amp;autohide=2&amp;showsearch=0&amp;showinfo=1&amp;iv_load_policy=1&amp;wmode=transparent\" style=\"border:0;\" type=\"text/html\" width=\"640\"></iframe>\n"
     ]
    }
   ],
   "source": [
    "vid_src = article.find('iframe', class_ = 'youtube-player')\n",
    "print(vid_src)"
   ]
  },
  {
   "cell_type": "code",
   "execution_count": 27,
   "metadata": {},
   "outputs": [
    {
     "name": "stdout",
     "output_type": "stream",
     "text": [
      "https://www.youtube.com/embed/Qu3dThVy6KQ?version=3&rel=1&fs=1&autohide=2&showsearch=0&showinfo=1&iv_load_policy=1&wmode=transparent\n"
     ]
    }
   ],
   "source": [
    "vid_src = article.find('iframe', class_ = 'youtube-player')['src']\n",
    "print(vid_src)"
   ]
  },
  {
   "cell_type": "code",
   "execution_count": 30,
   "metadata": {},
   "outputs": [
    {
     "name": "stdout",
     "output_type": "stream",
     "text": [
      "Qu3dThVy6KQ\n"
     ]
    }
   ],
   "source": [
    "vid_id = vid_src.split('/')[4]\n",
    "vid_id = vid_id.split('?')[0]\n",
    "print(vid_id)"
   ]
  },
  {
   "cell_type": "code",
   "execution_count": 31,
   "metadata": {},
   "outputs": [
    {
     "name": "stdout",
     "output_type": "stream",
     "text": [
      "http://youtube.com/watch?v=Qu3dThVy6KQ\n"
     ]
    }
   ],
   "source": [
    "yt_link = f'http://youtube.com/watch?v={vid_id}'\n",
    "print(yt_link)"
   ]
  },
  {
   "cell_type": "code",
   "execution_count": 41,
   "metadata": {},
   "outputs": [
    {
     "name": "stdout",
     "output_type": "stream",
     "text": [
      "Python Tutorial: Itertools Module – Iterator Functions for Efficient Looping\n",
      "In this Python Programming Tutorial, we will be learning about the itertools module. The itertools module is a collection of functions that allows us to work with iterators in an efficient way. Depending on your problem, this can save you a lot of memory and also a lot of work. Let’s get started…\n",
      "http://youtube.com/watch?v=Qu3dThVy6KQ\n",
      "\n",
      "Python Coding Problem: Creating Your Own Iterators\n",
      "In this Python Coding Problem, we will be creating our own iterators from scratch. First, we will create an iterator using a class. Then we will create an iterator with the same functionality using a generator. If you haven’t watched the tutorial video on Iterators and Iterables then I would suggest watching that first. With that said, let’s get started…\n",
      "http://youtube.com/watch?v=C3Z9lJXI6Qw\n",
      "\n",
      "Python Tutorial: Iterators and Iterables – What Are They and How Do They Work?\n",
      "In this Python Programming Tutorial, we will be learning about iterators and iterables. There is a lot of confusion around these terms and exactly what they mean. We’re also going to learn how to make an object ourselves that is both an iterable and an iterator. This video isn’t only about understanding these definitions. It’s also about understanding the concepts of iterators so that you can write better code. Understanding these underlying concepts is going to help you write code that is more efficient and will also help you see solutions to certain problems in a way you might not have thought of before. So with that said, let’s get started…\n",
      "http://youtube.com/watch?v=jTYiNjvnHZY\n",
      "\n",
      "Python Tutorial: Pipenv – Easily Manage Packages and Virtual Environments\n",
      "In this Python Programming Tutorial, we will be learning how to use Pipenv. Pipenv is a new package manager that combines pip and virtualenv into one easy-to-use tool. We will learn how to install pipenv, how to install new packages, how to manage our newly created environment for our project, and also look at some more advanced use cases. Let’s get started…\n",
      "http://youtube.com/watch?v=zDYL22QNiWk\n",
      "\n",
      "Python Django Tutorials – Full Series\n",
      "In this Python Django Tutorial, we will be learning how to get started using the Django framework. We will install the necessary packages and get a basic application running in our browser.\n",
      "http://youtube.com/watch?v=UmljXZIypDc\n",
      "\n",
      "Best Sublime Text Features and Shortcuts\n",
      "In this video, we will be learning about my favorite Sublime Text features and shortcuts for Windows. Knowing your way around your text editor will help you get things done much faster and be more productive. The features in this video have saved me a ton of time over the years. I have two different versions of this video depending on your operating system…\n",
      "http://youtube.com/watch?v=9FPFogHkgOc\n",
      "\n",
      "Python Tutorial: How to Set the Path and Switch Between Different Versions/Executables\n",
      "In this Python Programming Tutorial, we will be learning how to set the PATH environment variable. We will also learn how to modify the PATH in order to switch between different Python versions and executables. This is an essential skill that trips up many people when they first start learning Python and will definitely help you in many real-world situations. I have two different versions of this video depending on your operating system…\n",
      "http://youtube.com/watch?v=OdIHeg4jj2c\n",
      "\n",
      "Python Quick Tip: F-Strings – How to Use Them and Advanced String Formatting\n",
      "In this Python Programming Tutorial, we will be learning how to use f-strings to format strings. F-strings are new to Python3.6+ and are extremely useful once you learn how to use them. Viewers have likely seen me use f-strings in previous videos so this video will go into detail exactly how to use them so that everyone can follow along confidently. Let’s get started…\n",
      "http://youtube.com/watch?v=nghuHvKLhJA\n",
      "\n",
      "Big Announcements, Video Updates, and Future Plans\n",
      "For those of you who don’t know, I recently quit my previous job and will now be doing tutorials on YouTube full-time. In this video, we discuss what to expect now that this is a full-time job, and also some details about how all this will work. Thanks again to all of you who made it possible to do what I love full-time.\n",
      "http://youtube.com/watch?v=OPUP4ghN9oo\n",
      "\n",
      "Python Tutorial: Sets – Set Methods and Operations to Solve Common Problems\n",
      "In this Python Programming Tutorial, we will be looking at the Set data structure in-depth and discovering how it can help us solve some common problems. The set can not only solve certain problems more quickly but is also more efficient in many cases.\n",
      "http://youtube.com/watch?v=r3R3h5ly_8g\n",
      "\n"
     ]
    }
   ],
   "source": [
    "#import csv\n",
    "\n",
    "#csv_file = open('cms_scrape.csv', 'w')\n",
    "#csv_writer = csv.writer(csv_file)\n",
    "#csv_writer.writerow(['headline', 'summary', 'video_link'])\n",
    "\n",
    "for article in soup.find_all('article'):\n",
    "    headline = article.a.text\n",
    "    print(headline)\n",
    "    \n",
    "    summary = article.find('div', class_ = 'entry-content').p.text\n",
    "    print(summary)\n",
    "    \n",
    "    try:\n",
    "        vid_src = article.find('iframe', class_ = 'youtube-player')['src']\n",
    "        vid_id = vid_src.split('/')[4]\n",
    "        vid_id = vid_id.split('?')[0] \n",
    "        yt_link = f'http://youtube.com/watch?v={vid_id}'\n",
    "    \n",
    "    except Exception as e:\n",
    "        yt_link = None\n",
    "    print(yt_link)\n",
    "    \n",
    "    print()\n",
    "    \n",
    "    #csv_writer.writerow([headline, summary, yt_link])\n",
    "    \n",
    "csv_file.close()"
   ]
  },
  {
   "cell_type": "markdown",
   "metadata": {},
   "source": [
    "References\n",
    "--------\n",
    "\n",
    "https://www.youtube.com/watch?v=ng2o98k983k&index=43&list=PL-osiE80TeTt2d9bfVyTiXJA-UTHn6WwU"
   ]
  }
 ],
 "metadata": {
  "kernelspec": {
   "display_name": "Python 3",
   "language": "python",
   "name": "python3"
  },
  "language_info": {
   "codemirror_mode": {
    "name": "ipython",
    "version": 3
   },
   "file_extension": ".py",
   "mimetype": "text/x-python",
   "name": "python",
   "nbconvert_exporter": "python",
   "pygments_lexer": "ipython3",
   "version": "3.6.5"
  }
 },
 "nbformat": 4,
 "nbformat_minor": 2
}
