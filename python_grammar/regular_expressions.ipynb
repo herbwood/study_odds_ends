{
 "cells": [
  {
   "cell_type": "markdown",
   "metadata": {},
   "source": [
    "Regular Expressions\n",
    "============="
   ]
  },
  {
   "cell_type": "markdown",
   "metadata": {},
   "source": [
    "Literal Search\n",
    "--------"
   ]
  },
  {
   "cell_type": "code",
   "execution_count": 26,
   "metadata": {},
   "outputs": [],
   "source": [
    "import re\n",
    "\n",
    "text_to_search = '''\n",
    "abcdefghijklmnopqurtuvwxyz\n",
    "ABCDEFGHIJKLMNOPQRSTUVWXYZ\n",
    "1234567890\n",
    "Ha HaHa\n",
    "MetaCharacters (Need to be escaped):\n",
    ". ^ $ * + ? { } [ ] \\ | ( )\n",
    "coreyms.com\n",
    "321-555-4321\n",
    "123.555.1234\n",
    "123*555*1234\n",
    "800-555-1234\n",
    "900-555-1234\n",
    "Mr. Schafer\n",
    "Mr Smith\n",
    "Ms Davis\n",
    "Mrs. Robinson\n",
    "Mr. T\n",
    "\n",
    "cat\n",
    "bat\n",
    "mat\n",
    "pat\n",
    "'''\n",
    "\n",
    "sentence = 'Start a sentence and then bring it to an end'"
   ]
  },
  {
   "cell_type": "markdown",
   "metadata": {},
   "source": [
    "**raw string**  \n",
    "  \n",
    "just a string prefixed with an 'r' and that tells python  \n",
    "not to handle back slashes in any special way  \n",
    "\n",
    "this is important because we want our regular expressions to   \n",
    "interpret the strings we are passing in and not have python  \n",
    "doing anything to them first  "
   ]
  },
  {
   "cell_type": "code",
   "execution_count": 3,
   "metadata": {},
   "outputs": [
    {
     "name": "stdout",
     "output_type": "stream",
     "text": [
      "\tTab\n",
      "\\tTab\n"
     ]
    }
   ],
   "source": [
    "print('\\tTab')\n",
    "print(r'\\tTab')"
   ]
  },
  {
   "cell_type": "markdown",
   "metadata": {},
   "source": [
    "**compile method**  \n",
    "  \n",
    "compile method will allow us to seperate out our patterns into  \n",
    "a variable and also we'll make it easier to reuse that variable  \n",
    "to perform multiple searches  "
   ]
  },
  {
   "cell_type": "code",
   "execution_count": 5,
   "metadata": {},
   "outputs": [
    {
     "name": "stdout",
     "output_type": "stream",
     "text": [
      "<_sre.SRE_Match object; span=(1, 4), match='abc'>\n"
     ]
    }
   ],
   "source": [
    "pattern = re.compile(r'abc')\n",
    "\n",
    "matches = pattern.finditer(text_to_search)\n",
    "\n",
    "for match in matches:\n",
    "    print(match)"
   ]
  },
  {
   "cell_type": "markdown",
   "metadata": {},
   "source": [
    "span은 발견하고자 하는 문자열의 시작 위치와 끝 위치를 의미한다  "
   ]
  },
  {
   "cell_type": "code",
   "execution_count": 6,
   "metadata": {},
   "outputs": [
    {
     "name": "stdout",
     "output_type": "stream",
     "text": [
      "abc\n"
     ]
    }
   ],
   "source": [
    "print(text_to_search[1:4]) # span을 통해 원하는 값 찾기가능"
   ]
  },
  {
   "cell_type": "code",
   "execution_count": 9,
   "metadata": {},
   "outputs": [
    {
     "name": "stdout",
     "output_type": "stream",
     "text": [
      "<_sre.SRE_Match object; span=(111, 112), match='.'>\n",
      "<_sre.SRE_Match object; span=(146, 147), match='.'>\n",
      "<_sre.SRE_Match object; span=(167, 168), match='.'>\n",
      "<_sre.SRE_Match object; span=(171, 172), match='.'>\n",
      "<_sre.SRE_Match object; span=(218, 219), match='.'>\n",
      "<_sre.SRE_Match object; span=(249, 250), match='.'>\n",
      "<_sre.SRE_Match object; span=(262, 263), match='.'>\n"
     ]
    }
   ],
   "source": [
    "# 문자열 Escape 하는 방법 : \\ 붙이기\n",
    "# meta character에는 escape 해야함!\n",
    "pattern = re.compile(r'\\.')\n",
    "matches = pattern.finditer(text_to_search)\n",
    "for match in matches:\n",
    "    print(match)"
   ]
  },
  {
   "cell_type": "markdown",
   "metadata": {},
   "source": [
    "Meta Characters\n",
    "---------"
   ]
  },
  {
   "cell_type": "markdown",
   "metadata": {},
   "source": [
    "`.`       - Any Character Except New Line  \n",
    "`\\d`      - Digit (0-9)  \n",
    "`\\D`      - Not a Digit (0-9)  \n",
    "`\\w`      - Word Character (a-z, A-Z, 0-9, _)  \n",
    "`\\W`      - Not a Word Character  \n",
    "`\\s`      - Whitespace (space, tab, newline)  \n",
    "`\\S`      - Not Whitespace (space, tab, newline)  \n",
    "  \n",
    "`\\b`      - Word Boundary  \n",
    "`\\B`      - Not a Word Boundary  \n",
    "`^`       - Beginning of a String  \n",
    "`$`       - End of a String  \n",
    "  \n",
    "`[]`      - Matches Characters in brackets  \n",
    "`[^ ]`    - Matches Characters NOT in brackets  \n",
    "`|`       - Either Or  \n",
    "`( )`     - Group  \n",
    "  \n",
    "Quantifiers:  \n",
    "`*`       - 0 or More  \n",
    "`+`       - 1 or More  \n",
    "`?`       - 0 or One  \n",
    "`{3}`     - Exact Number  \n",
    "`{3,4}`   - Range of Numbers (Minimum, Maximum)  "
   ]
  },
  {
   "cell_type": "code",
   "execution_count": 12,
   "metadata": {},
   "outputs": [
    {
     "name": "stdout",
     "output_type": "stream",
     "text": [
      "<_sre.SRE_Match object; span=(55, 56), match='1'>\n",
      "<_sre.SRE_Match object; span=(56, 57), match='2'>\n",
      "<_sre.SRE_Match object; span=(57, 58), match='3'>\n",
      "<_sre.SRE_Match object; span=(58, 59), match='4'>\n",
      "<_sre.SRE_Match object; span=(59, 60), match='5'>\n",
      "<_sre.SRE_Match object; span=(60, 61), match='6'>\n",
      "<_sre.SRE_Match object; span=(61, 62), match='7'>\n",
      "<_sre.SRE_Match object; span=(62, 63), match='8'>\n",
      "<_sre.SRE_Match object; span=(63, 64), match='9'>\n",
      "<_sre.SRE_Match object; span=(64, 65), match='0'>\n",
      "<_sre.SRE_Match object; span=(151, 152), match='3'>\n",
      "<_sre.SRE_Match object; span=(152, 153), match='2'>\n",
      "<_sre.SRE_Match object; span=(153, 154), match='1'>\n",
      "<_sre.SRE_Match object; span=(155, 156), match='5'>\n",
      "<_sre.SRE_Match object; span=(156, 157), match='5'>\n",
      "<_sre.SRE_Match object; span=(157, 158), match='5'>\n",
      "<_sre.SRE_Match object; span=(159, 160), match='4'>\n",
      "<_sre.SRE_Match object; span=(160, 161), match='3'>\n",
      "<_sre.SRE_Match object; span=(161, 162), match='2'>\n",
      "<_sre.SRE_Match object; span=(162, 163), match='1'>\n",
      "<_sre.SRE_Match object; span=(164, 165), match='1'>\n",
      "<_sre.SRE_Match object; span=(165, 166), match='2'>\n",
      "<_sre.SRE_Match object; span=(166, 167), match='3'>\n",
      "<_sre.SRE_Match object; span=(168, 169), match='5'>\n",
      "<_sre.SRE_Match object; span=(169, 170), match='5'>\n",
      "<_sre.SRE_Match object; span=(170, 171), match='5'>\n",
      "<_sre.SRE_Match object; span=(172, 173), match='1'>\n",
      "<_sre.SRE_Match object; span=(173, 174), match='2'>\n",
      "<_sre.SRE_Match object; span=(174, 175), match='3'>\n",
      "<_sre.SRE_Match object; span=(175, 176), match='4'>\n",
      "<_sre.SRE_Match object; span=(177, 178), match='1'>\n",
      "<_sre.SRE_Match object; span=(178, 179), match='2'>\n",
      "<_sre.SRE_Match object; span=(179, 180), match='3'>\n",
      "<_sre.SRE_Match object; span=(181, 182), match='5'>\n",
      "<_sre.SRE_Match object; span=(182, 183), match='5'>\n",
      "<_sre.SRE_Match object; span=(183, 184), match='5'>\n",
      "<_sre.SRE_Match object; span=(185, 186), match='1'>\n",
      "<_sre.SRE_Match object; span=(186, 187), match='2'>\n",
      "<_sre.SRE_Match object; span=(187, 188), match='3'>\n",
      "<_sre.SRE_Match object; span=(188, 189), match='4'>\n",
      "<_sre.SRE_Match object; span=(190, 191), match='8'>\n",
      "<_sre.SRE_Match object; span=(191, 192), match='0'>\n",
      "<_sre.SRE_Match object; span=(192, 193), match='0'>\n",
      "<_sre.SRE_Match object; span=(194, 195), match='5'>\n",
      "<_sre.SRE_Match object; span=(195, 196), match='5'>\n",
      "<_sre.SRE_Match object; span=(196, 197), match='5'>\n",
      "<_sre.SRE_Match object; span=(198, 199), match='1'>\n",
      "<_sre.SRE_Match object; span=(199, 200), match='2'>\n",
      "<_sre.SRE_Match object; span=(200, 201), match='3'>\n",
      "<_sre.SRE_Match object; span=(201, 202), match='4'>\n",
      "<_sre.SRE_Match object; span=(203, 204), match='9'>\n",
      "<_sre.SRE_Match object; span=(204, 205), match='0'>\n",
      "<_sre.SRE_Match object; span=(205, 206), match='0'>\n",
      "<_sre.SRE_Match object; span=(207, 208), match='5'>\n",
      "<_sre.SRE_Match object; span=(208, 209), match='5'>\n",
      "<_sre.SRE_Match object; span=(209, 210), match='5'>\n",
      "<_sre.SRE_Match object; span=(211, 212), match='1'>\n",
      "<_sre.SRE_Match object; span=(212, 213), match='2'>\n",
      "<_sre.SRE_Match object; span=(213, 214), match='3'>\n",
      "<_sre.SRE_Match object; span=(214, 215), match='4'>\n"
     ]
    }
   ],
   "source": [
    "pattern = re.compile(r'\\d')\n",
    "matches = pattern.finditer(text_to_search)\n",
    "for match in matches:\n",
    "    print(match)"
   ]
  },
  {
   "cell_type": "code",
   "execution_count": 13,
   "metadata": {},
   "outputs": [
    {
     "name": "stdout",
     "output_type": "stream",
     "text": [
      "<_sre.SRE_Match object; span=(66, 68), match='Ha'>\n",
      "<_sre.SRE_Match object; span=(69, 71), match='Ha'>\n"
     ]
    }
   ],
   "source": [
    "pattern = re.compile(r'\\bHa') # 단어 앞에 공백이 있는 Ha를 찾아라\n",
    "matches = pattern.finditer(text_to_search)\n",
    "for match in matches:\n",
    "    print(match)"
   ]
  },
  {
   "cell_type": "code",
   "execution_count": 14,
   "metadata": {},
   "outputs": [
    {
     "name": "stdout",
     "output_type": "stream",
     "text": [
      "<_sre.SRE_Match object; span=(71, 73), match='Ha'>\n"
     ]
    }
   ],
   "source": [
    "pattern = re.compile(r'\\BHa') # 단어 앞에 공백이 없는 Ha를 찾아라\n",
    "matches = pattern.finditer(text_to_search)\n",
    "for match in matches:\n",
    "    print(match)"
   ]
  },
  {
   "cell_type": "code",
   "execution_count": 16,
   "metadata": {},
   "outputs": [
    {
     "name": "stdout",
     "output_type": "stream",
     "text": [
      "<_sre.SRE_Match object; span=(0, 5), match='Start'>\n"
     ]
    }
   ],
   "source": [
    "# ^는 이후에 나오는 문자열로 시작하는 문자열을 검색함\n",
    "pattern = re.compile(r'^Start')\n",
    "matches = pattern.finditer(sentence)\n",
    "for match in matches:\n",
    "    print(match)"
   ]
  },
  {
   "cell_type": "code",
   "execution_count": 19,
   "metadata": {},
   "outputs": [
    {
     "name": "stdout",
     "output_type": "stream",
     "text": [
      "<_sre.SRE_Match object; span=(12, 23), match='615-555-716'>\n",
      "<_sre.SRE_Match object; span=(102, 113), match='800-555-566'>\n",
      "<_sre.SRE_Match object; span=(191, 202), match='560-555-515'>\n",
      "<_sre.SRE_Match object; span=(281, 292), match='900-555-934'>\n",
      "<_sre.SRE_Match object; span=(378, 389), match='714-555-740'>\n",
      "<_sre.SRE_Match object; span=(467, 478), match='800-555-677'>\n",
      "<_sre.SRE_Match object; span=(557, 568), match='783-555-479'>\n",
      "<_sre.SRE_Match object; span=(647, 658), match='516-555-461'>\n",
      "<_sre.SRE_Match object; span=(740, 751), match='127-555-186'>\n",
      "<_sre.SRE_Match object; span=(829, 840), match='608-555-493'>\n",
      "<_sre.SRE_Match object; span=(915, 926), match='568-555-605'>\n",
      "<_sre.SRE_Match object; span=(1003, 1014), match='292-555-187'>\n",
      "<_sre.SRE_Match object; span=(1091, 1102), match='900-555-320'>\n",
      "<_sre.SRE_Match object; span=(1180, 1191), match='614-555-116'>\n",
      "<_sre.SRE_Match object; span=(1269, 1280), match='530-555-267'>\n",
      "<_sre.SRE_Match object; span=(1355, 1366), match='470-555-275'>\n",
      "<_sre.SRE_Match object; span=(1439, 1450), match='800-555-608'>\n",
      "<_sre.SRE_Match object; span=(1526, 1537), match='880-555-831'>\n",
      "<_sre.SRE_Match object; span=(1614, 1625), match='777-555-837'>\n",
      "<_sre.SRE_Match object; span=(1697, 1708), match='998-555-738'>\n",
      "<_sre.SRE_Match object; span=(1790, 1801), match='800-555-710'>\n",
      "<_sre.SRE_Match object; span=(1874, 1885), match='903-555-827'>\n",
      "<_sre.SRE_Match object; span=(1962, 1973), match='196-555-567'>\n",
      "<_sre.SRE_Match object; span=(2051, 2062), match='900-555-511'>\n",
      "<_sre.SRE_Match object; span=(2135, 2146), match='905-555-163'>\n",
      "<_sre.SRE_Match object; span=(2216, 2227), match='203-555-347'>\n",
      "<_sre.SRE_Match object; span=(2300, 2311), match='884-555-844'>\n",
      "<_sre.SRE_Match object; span=(2387, 2398), match='904-555-855'>\n",
      "<_sre.SRE_Match object; span=(2475, 2486), match='889-555-739'>\n",
      "<_sre.SRE_Match object; span=(2562, 2573), match='195-555-240'>\n",
      "<_sre.SRE_Match object; span=(2647, 2658), match='321-555-905'>\n",
      "<_sre.SRE_Match object; span=(2734, 2745), match='133-555-171'>\n",
      "<_sre.SRE_Match object; span=(2826, 2837), match='900-555-542'>\n",
      "<_sre.SRE_Match object; span=(2915, 2926), match='760-555-714'>\n",
      "<_sre.SRE_Match object; span=(3012, 3023), match='391-555-662'>\n",
      "<_sre.SRE_Match object; span=(3103, 3114), match='932-555-772'>\n",
      "<_sre.SRE_Match object; span=(3192, 3203), match='609-555-790'>\n",
      "<_sre.SRE_Match object; span=(3284, 3295), match='800-555-881'>\n",
      "<_sre.SRE_Match object; span=(3372, 3383), match='149-555-765'>\n",
      "<_sre.SRE_Match object; span=(3452, 3463), match='130-555-970'>\n",
      "<_sre.SRE_Match object; span=(3535, 3546), match='143-555-929'>\n",
      "<_sre.SRE_Match object; span=(3624, 3635), match='903-555-987'>\n",
      "<_sre.SRE_Match object; span=(3714, 3725), match='574-555-319'>\n",
      "<_sre.SRE_Match object; span=(3802, 3813), match='496-555-753'>\n"
     ]
    }
   ],
   "source": [
    "# 전화번호 찾기\n",
    "with open('data.txt', 'r') as f:\n",
    "    contents = f.read()\n",
    "    \n",
    "    pattern = re.compile(r'\\d\\d\\d[-.]\\d\\d\\d[-.]\\d\\d\\d') # -이나 .만 매치!\n",
    "    matches = pattern.finditer(contents)\n",
    "    \n",
    "    for match in matches:\n",
    "        print(match)"
   ]
  },
  {
   "cell_type": "code",
   "execution_count": 20,
   "metadata": {},
   "outputs": [
    {
     "name": "stdout",
     "output_type": "stream",
     "text": [
      "<_sre.SRE_Match object; span=(102, 113), match='800-555-566'>\n",
      "<_sre.SRE_Match object; span=(281, 292), match='900-555-934'>\n",
      "<_sre.SRE_Match object; span=(467, 478), match='800-555-677'>\n",
      "<_sre.SRE_Match object; span=(1091, 1102), match='900-555-320'>\n",
      "<_sre.SRE_Match object; span=(1439, 1450), match='800-555-608'>\n",
      "<_sre.SRE_Match object; span=(1790, 1801), match='800-555-710'>\n",
      "<_sre.SRE_Match object; span=(2051, 2062), match='900-555-511'>\n",
      "<_sre.SRE_Match object; span=(2826, 2837), match='900-555-542'>\n",
      "<_sre.SRE_Match object; span=(3284, 3295), match='800-555-881'>\n"
     ]
    }
   ],
   "source": [
    "# 전화번호 찾기\n",
    "# 800이나 900으로 시작하는 번호만 찾기\n",
    "with open('data.txt', 'r') as f:\n",
    "    contents = f.read()\n",
    "    \n",
    "    pattern = re.compile(r'[89]00[-.]\\d\\d\\d[-.]\\d\\d\\d') # -이나 .만 매치!\n",
    "    matches = pattern.finditer(contents)\n",
    "    \n",
    "    for match in matches:\n",
    "        print(match)"
   ]
  },
  {
   "cell_type": "code",
   "execution_count": 23,
   "metadata": {},
   "outputs": [
    {
     "name": "stdout",
     "output_type": "stream",
     "text": [
      "<_sre.SRE_Match object; span=(55, 56), match='1'>\n",
      "<_sre.SRE_Match object; span=(56, 57), match='2'>\n",
      "<_sre.SRE_Match object; span=(57, 58), match='3'>\n",
      "<_sre.SRE_Match object; span=(151, 152), match='3'>\n",
      "<_sre.SRE_Match object; span=(152, 153), match='2'>\n",
      "<_sre.SRE_Match object; span=(153, 154), match='1'>\n",
      "<_sre.SRE_Match object; span=(160, 161), match='3'>\n",
      "<_sre.SRE_Match object; span=(161, 162), match='2'>\n",
      "<_sre.SRE_Match object; span=(162, 163), match='1'>\n",
      "<_sre.SRE_Match object; span=(164, 165), match='1'>\n",
      "<_sre.SRE_Match object; span=(165, 166), match='2'>\n",
      "<_sre.SRE_Match object; span=(166, 167), match='3'>\n",
      "<_sre.SRE_Match object; span=(172, 173), match='1'>\n",
      "<_sre.SRE_Match object; span=(173, 174), match='2'>\n",
      "<_sre.SRE_Match object; span=(174, 175), match='3'>\n",
      "<_sre.SRE_Match object; span=(177, 178), match='1'>\n",
      "<_sre.SRE_Match object; span=(178, 179), match='2'>\n",
      "<_sre.SRE_Match object; span=(179, 180), match='3'>\n",
      "<_sre.SRE_Match object; span=(185, 186), match='1'>\n",
      "<_sre.SRE_Match object; span=(186, 187), match='2'>\n",
      "<_sre.SRE_Match object; span=(187, 188), match='3'>\n",
      "<_sre.SRE_Match object; span=(198, 199), match='1'>\n",
      "<_sre.SRE_Match object; span=(199, 200), match='2'>\n",
      "<_sre.SRE_Match object; span=(200, 201), match='3'>\n",
      "<_sre.SRE_Match object; span=(211, 212), match='1'>\n",
      "<_sre.SRE_Match object; span=(212, 213), match='2'>\n",
      "<_sre.SRE_Match object; span=(213, 214), match='3'>\n"
     ]
    }
   ],
   "source": [
    "with open('data.txt', 'r') as f:\n",
    "    contents = f.read()\n",
    "    \n",
    "    pattern = re.compile(r'[1-3]') # - 으로 범위 지정하기\n",
    "    matches = pattern.finditer(text_to_search)\n",
    "    \n",
    "    for match in matches:\n",
    "        print(match)"
   ]
  },
  {
   "cell_type": "code",
   "execution_count": 27,
   "metadata": {},
   "outputs": [
    {
     "name": "stdout",
     "output_type": "stream",
     "text": [
      "<_sre.SRE_Match object; span=(267, 270), match='cat'>\n",
      "<_sre.SRE_Match object; span=(271, 274), match='bat'>\n",
      "<_sre.SRE_Match object; span=(275, 278), match='mat'>\n"
     ]
    }
   ],
   "source": [
    "# ^이 []안으로 들어오게 되면 []안에 있는 것이 아닌 것만 검색하는 기능을 가짐\n",
    "pattern = re.compile(r'[^p]at') # p로 시작하는 문자열 제외\n",
    "matches = pattern.finditer(text_to_search)\n",
    "for match in matches:\n",
    "    print(match)"
   ]
  },
  {
   "cell_type": "markdown",
   "metadata": {},
   "source": [
    "Quantifier\n",
    "----------"
   ]
  },
  {
   "cell_type": "code",
   "execution_count": 28,
   "metadata": {},
   "outputs": [
    {
     "name": "stdout",
     "output_type": "stream",
     "text": [
      "<_sre.SRE_Match object; span=(151, 163), match='321-555-4321'>\n",
      "<_sre.SRE_Match object; span=(164, 176), match='123.555.1234'>\n",
      "<_sre.SRE_Match object; span=(177, 189), match='123*555*1234'>\n",
      "<_sre.SRE_Match object; span=(190, 202), match='800-555-1234'>\n",
      "<_sre.SRE_Match object; span=(203, 215), match='900-555-1234'>\n"
     ]
    }
   ],
   "source": [
    "# Quantifier를 이용하여 전화번호 찾기\n",
    "pattern = re.compile(r'\\d{3}.\\d{3}.\\d{4}') \n",
    "matches = pattern.finditer(text_to_search)\n",
    "for match in matches:\n",
    "    print(match)"
   ]
  },
  {
   "cell_type": "code",
   "execution_count": 31,
   "metadata": {},
   "outputs": [
    {
     "name": "stdout",
     "output_type": "stream",
     "text": [
      "<_sre.SRE_Match object; span=(216, 227), match='Mr. Schafer'>\n",
      "<_sre.SRE_Match object; span=(228, 236), match='Mr Smith'>\n",
      "<_sre.SRE_Match object; span=(237, 245), match='Ms Davis'>\n",
      "<_sre.SRE_Match object; span=(246, 259), match='Mrs. Robinson'>\n",
      "<_sre.SRE_Match object; span=(260, 265), match='Mr. T'>\n"
     ]
    }
   ],
   "source": [
    "# 일정하지 않은 이름 형식에서 이름 불러오기\n",
    "\n",
    "# group을 이용하여 Mr, MS, Mrs 셋 중 하나 매치\n",
    "# .이 0이거나 그 이상 있어야 하므로 ?\n",
    "# 이후 공백 문자열 \\s\n",
    "# 대문자 문자열 [A-Z]\n",
    "# 이후 알파벳 문자열이 있거나 없으므로 \\w*\n",
    "\n",
    "pattern = re.compile(r'(Mr|Ms|Mrs).?\\s[A-Z]\\w*')\n",
    "matches = pattern.finditer(text_to_search)\n",
    "for match in matches:\n",
    "    print(match)"
   ]
  },
  {
   "cell_type": "markdown",
   "metadata": {},
   "source": [
    "Example : Email Matching\n",
    "    ---------------"
   ]
  },
  {
   "cell_type": "code",
   "execution_count": 32,
   "metadata": {},
   "outputs": [
    {
     "name": "stdout",
     "output_type": "stream",
     "text": [
      "<_sre.SRE_Match object; span=(1, 24), match='CoreyMSchafer@gmail.com'>\n",
      "<_sre.SRE_Match object; span=(25, 53), match='corey.schafer@university.edu'>\n",
      "<_sre.SRE_Match object; span=(54, 83), match='corey-321-schafer@my-work.net'>\n"
     ]
    }
   ],
   "source": [
    "# email에 해당하는 문자열 모두 매칭하기\n",
    "\n",
    "emails = '''\n",
    "CoreyMSchafer@gmail.com\n",
    "corey.schafer@university.edu\n",
    "corey-321-schafer@my-work.net\n",
    "'''\n",
    "\n",
    "pattern = re.compile(r'[a-zA-Z0-9_.+-]+@[a-zA-Z0-9-]+\\.[a-zA-Z0-9-.]+')\n",
    "\n",
    "matches = pattern.finditer(emails)\n",
    "\n",
    "for match in matches:\n",
    "    print(match)"
   ]
  },
  {
   "cell_type": "markdown",
   "metadata": {},
   "source": [
    "Groups\n",
    "-------"
   ]
  },
  {
   "cell_type": "code",
   "execution_count": 35,
   "metadata": {},
   "outputs": [
    {
     "name": "stdout",
     "output_type": "stream",
     "text": [
      "https://www.google.com\n",
      "http://coreyms.com\n",
      "https://youtube.com\n",
      "https://www.nasa.gov\n"
     ]
    }
   ],
   "source": [
    "urls = '''\n",
    "https://www.google.com\n",
    "http://coreyms.com\n",
    "https://youtube.com\n",
    "https://www.nasa.gov\n",
    "'''\n",
    "\n",
    "pattern = re.compile(r'https?://(www\\.)?(\\w+)(\\.\\w+)')\n",
    "\n",
    "matches = pattern.finditer(urls)\n",
    "\n",
    "# 위의 패턴에는 3개의 그룹이 있고, group함수에 인자로 원하는 그룹을 출력할 수 있다\n",
    "for match in matches:\n",
    "    print(match.group(0))"
   ]
  },
  {
   "cell_type": "code",
   "execution_count": 36,
   "metadata": {
    "scrolled": true
   },
   "outputs": [
    {
     "name": "stdout",
     "output_type": "stream",
     "text": [
      "\n",
      "google.com\n",
      "coreyms.com\n",
      "youtube.com\n",
      "nasa.gov\n",
      "\n"
     ]
    }
   ],
   "source": [
    "subbed_urls = pattern.sub(r'\\2\\3', urls) # 패턴에서 sub 함수를 통해 특정 그룹을 불러올 수 있다 \n",
    "print(subbed_urls)"
   ]
  },
  {
   "cell_type": "markdown",
   "metadata": {},
   "source": [
    "Other Methods\n",
    "------------"
   ]
  },
  {
   "cell_type": "code",
   "execution_count": 37,
   "metadata": {},
   "outputs": [
    {
     "name": "stdout",
     "output_type": "stream",
     "text": [
      "Mr\n",
      "Mr\n",
      "Ms\n",
      "Mrs\n",
      "Mr\n"
     ]
    }
   ],
   "source": [
    "# findall will just  return the matches as a list of strings\n",
    "# only return group\n",
    "pattern = re.compile(r'(Mr|Ms|Mrs).?\\s[A-Z]\\w*')\n",
    "matches = pattern.findall(text_to_search)\n",
    "for match in matches:\n",
    "    print(match)"
   ]
  },
  {
   "cell_type": "code",
   "execution_count": 38,
   "metadata": {},
   "outputs": [
    {
     "name": "stdout",
     "output_type": "stream",
     "text": [
      "<_sre.SRE_Match object; span=(0, 5), match='Start'>\n"
     ]
    }
   ],
   "source": [
    "# match 메소드는 주어진 문자열이 제일 처음 나오는 문자열을 매칭함\n",
    "pattern = re.compile(r'^Start')\n",
    "matches = pattern.match(sentence)\n",
    "print(matches)"
   ]
  },
  {
   "cell_type": "code",
   "execution_count": 39,
   "metadata": {},
   "outputs": [
    {
     "name": "stdout",
     "output_type": "stream",
     "text": [
      "<_sre.SRE_Match object; span=(0, 5), match='Start'>\n"
     ]
    }
   ],
   "source": [
    "# search 메서드는 주어진 문자열이 처음 나오는 모든 문자열을 매칭함\n",
    "pattern = re.compile(r'^Start')\n",
    "matches = pattern.search(sentence)\n",
    "print(matches)"
   ]
  },
  {
   "cell_type": "code",
   "execution_count": 40,
   "metadata": {},
   "outputs": [
    {
     "name": "stdout",
     "output_type": "stream",
     "text": [
      "<_sre.SRE_Match object; span=(0, 5), match='Start'>\n"
     ]
    }
   ],
   "source": [
    "# flag를 통해 대문자 소문자 모두 매치\n",
    "pattern = re.compile(r'^start', re.IGNORECASE)\n",
    "matches = pattern.match(sentence)\n",
    "print(matches)"
   ]
  },
  {
   "cell_type": "markdown",
   "metadata": {},
   "source": [
    "Reference\n",
    "---------\n",
    "\n",
    "https://www.youtube.com/watch?v=K8L6KVGG-7o&index=30&list=PL-osiE80TeTt2d9bfVyTiXJA-UTHn6WwU"
   ]
  }
 ],
 "metadata": {
  "kernelspec": {
   "display_name": "Python 3",
   "language": "python",
   "name": "python3"
  },
  "language_info": {
   "codemirror_mode": {
    "name": "ipython",
    "version": 3
   },
   "file_extension": ".py",
   "mimetype": "text/x-python",
   "name": "python",
   "nbconvert_exporter": "python",
   "pygments_lexer": "ipython3",
   "version": "3.6.5"
  }
 },
 "nbformat": 4,
 "nbformat_minor": 2
}
