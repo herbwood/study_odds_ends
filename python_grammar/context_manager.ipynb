{
 "cells": [
  {
   "cell_type": "markdown",
   "metadata": {},
   "source": [
    "Context Manager\n",
    "==========="
   ]
  },
  {
   "cell_type": "markdown",
   "metadata": {},
   "source": [
    "it handles the teardown of the resources for us so that we don't  \n",
    "have to remember to do it and more that it is handled automatically for us  \n",
    "  \n",
    "**Anything to do with Opening and Closing!!**"
   ]
  },
  {
   "cell_type": "markdown",
   "metadata": {},
   "source": [
    "Context Manager using Class\n",
    "-----------"
   ]
  },
  {
   "cell_type": "code",
   "execution_count": 4,
   "metadata": {},
   "outputs": [
    {
     "name": "stdout",
     "output_type": "stream",
     "text": [
      "True\n"
     ]
    }
   ],
   "source": [
    "class Open_File():\n",
    "    \n",
    "    def __init__(self, filename, mode):\n",
    "        self.filename = filename\n",
    "        self.mode = mode\n",
    "        \n",
    "    def __enter__(self):\n",
    "        self.file = open(self.filename, self.mode)\n",
    "        return self.file\n",
    "    \n",
    "    def __exit__(self, exc_type, exc_val, traceback):\n",
    "        self.file.close()\n",
    "        \n",
    "with Open_File('sample.txt', 'w') as f:\n",
    "    f.write('Seung hee is Beautiful')\n",
    "    \n",
    "print(f.closed)"
   ]
  },
  {
   "cell_type": "markdown",
   "metadata": {},
   "source": [
    "Context Manager using Function\n",
    "------------"
   ]
  },
  {
   "cell_type": "code",
   "execution_count": 6,
   "metadata": {},
   "outputs": [
    {
     "name": "stdout",
     "output_type": "stream",
     "text": [
      "True\n"
     ]
    }
   ],
   "source": [
    "from contextlib import contextmanager\n",
    "\n",
    "@contextmanager\n",
    "def open_file(file, mode):\n",
    "    try:\n",
    "        f = open(file, mode)\n",
    "        yield f\n",
    "    finally:\n",
    "        f.close()\n",
    "    \n",
    "with open_file('sample.txt', 'w') as f:\n",
    "    f.write('Seung hee is lovely')\n",
    "    \n",
    "print(f.closed)"
   ]
  },
  {
   "cell_type": "markdown",
   "metadata": {},
   "source": [
    "Example\n",
    "----"
   ]
  },
  {
   "cell_type": "code",
   "execution_count": 14,
   "metadata": {},
   "outputs": [
    {
     "name": "stdout",
     "output_type": "stream",
     "text": [
      "['.ipynb_checkpoints', 'csv.ipynb', 'datetime.ipynb', 'functools_partial.py', 'json.ipynb', 'os.ipynb', 'pickle.py', 'pillow_basics.py', 'random.ipynb', 'read_csv.py', 'states.json']\n",
      "['.ipynb_checkpoints', 'closures.ipynb', 'comprehensions.ipynb', 'context_manager.ipynb', 'decorators.ipynb', 'duck_eafp.ipynb', 'first_class_functions.ipynb', 'function.ipynb', 'generators.ipynb', 'named_tuple.ipynb', 'regular_expressions.ipynb', 'sample.txt', 'scope.ipynb', 'string.ipynb']\n"
     ]
    }
   ],
   "source": [
    "# 디렉터리를 옮기고 작업을 실행한 후에 원래 디렉터리로 돌아가는 작업을 반복한다\n",
    "# 열고 teardown하는 작업이 반복되므로 context manager를 적용하기에 적합하다\n",
    "\n",
    "import os\n",
    "from contextlib import contextmanager\n",
    "\n",
    "cwd = os.getcwd()\n",
    "os.chdir('../external_library')\n",
    "print(os.listdir())\n",
    "os.chdir(cwd)\n",
    "\n",
    "cwd = os.getcwd()\n",
    "os.chdir('../python_grammar')\n",
    "print(os.listdir())\n",
    "os.chdir(cwd)"
   ]
  },
  {
   "cell_type": "code",
   "execution_count": 15,
   "metadata": {},
   "outputs": [
    {
     "name": "stdout",
     "output_type": "stream",
     "text": [
      "['.ipynb_checkpoints', 'csv.ipynb', 'datetime.ipynb', 'functools_partial.py', 'json.ipynb', 'os.ipynb', 'pickle.py', 'pillow_basics.py', 'random.ipynb', 'read_csv.py', 'states.json']\n",
      "['.ipynb_checkpoints', 'closures.ipynb', 'comprehensions.ipynb', 'context_manager.ipynb', 'decorators.ipynb', 'duck_eafp.ipynb', 'first_class_functions.ipynb', 'function.ipynb', 'generators.ipynb', 'named_tuple.ipynb', 'regular_expressions.ipynb', 'sample.txt', 'scope.ipynb', 'string.ipynb']\n"
     ]
    }
   ],
   "source": [
    "import os\n",
    "from contextlib import contextmanager\n",
    "\n",
    "@contextmanager\n",
    "def change_dir(destination):\n",
    "    try:\n",
    "        cwd = os.getcwd()\n",
    "        os.chdir(destination)\n",
    "        yield # ready to do whatever\n",
    "    finally:\n",
    "        os.chdir(cwd)\n",
    "        \n",
    "with change_dir('../external_library'):\n",
    "    print(os.listdir())\n",
    "    \n",
    "with change_dir('../python_grammar'):\n",
    "    print(os.listdir())"
   ]
  },
  {
   "cell_type": "markdown",
   "metadata": {},
   "source": [
    "References\n",
    "----------\n",
    "\n",
    "https://www.youtube.com/watch?v=-aKFBoZpiqA&list=PL-osiE80TeTt2d9bfVyTiXJA-UTHn6WwU&index=46"
   ]
  }
 ],
 "metadata": {
  "kernelspec": {
   "display_name": "Python 3",
   "language": "python",
   "name": "python3"
  },
  "language_info": {
   "codemirror_mode": {
    "name": "ipython",
    "version": 3
   },
   "file_extension": ".py",
   "mimetype": "text/x-python",
   "name": "python",
   "nbconvert_exporter": "python",
   "pygments_lexer": "ipython3",
   "version": "3.6.5"
  }
 },
 "nbformat": 4,
 "nbformat_minor": 2
}
