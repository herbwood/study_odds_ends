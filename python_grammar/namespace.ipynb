{
 "cells": [
  {
   "cell_type": "markdown",
   "metadata": {},
   "source": [
    "if __name__ == '__main__'\n",
    "=========="
   ]
  },
  {
   "cell_type": "markdown",
   "metadata": {},
   "source": [
    "What is means\n",
    "---------"
   ]
  },
  {
   "cell_type": "markdown",
   "metadata": {},
   "source": [
    "Python runs a file it first goes thorough(before it even runs any code) if sets some special variables and `name` is one of those special variables   \n",
    "\n",
    "When python runs a python file directly, it sets this name variable equal to main   \n",
    "\n",
    "Can check if this file is ran directly by python or is it being imported  "
   ]
  },
  {
   "cell_type": "code",
   "execution_count": 1,
   "metadata": {},
   "outputs": [
    {
     "name": "stdout",
     "output_type": "stream",
     "text": [
      "__main__\n"
     ]
    }
   ],
   "source": [
    "print(__name__)"
   ]
  },
  {
   "cell_type": "code",
   "execution_count": 3,
   "metadata": {},
   "outputs": [
    {
     "name": "stdout",
     "output_type": "stream",
     "text": [
      "Run directly\n"
     ]
    }
   ],
   "source": [
    "if __name__ == '__main__':\n",
    "    print('Run directly')\n",
    "else:\n",
    "    print('Run from Import')"
   ]
  },
  {
   "cell_type": "markdown",
   "metadata": {},
   "source": [
    "The reason this is used is because you know sometimes there is code that you only want to run whenever you're running this as the main file \n",
    "and sometimes there's code that you only want to run whenever it's being imported."
   ]
  },
  {
   "cell_type": "markdown",
   "metadata": {},
   "source": [
    "References\n",
    "---------\n",
    "\n",
    "https://www.youtube.com/watch?v=6tNS--WetLI&list=PL-osiE80TeTt2d9bfVyTiXJA-UTHn6WwU&index=54"
   ]
  }
 ],
 "metadata": {
  "kernelspec": {
   "display_name": "Python 3",
   "language": "python",
   "name": "python3"
  },
  "language_info": {
   "codemirror_mode": {
    "name": "ipython",
    "version": 3
   },
   "file_extension": ".py",
   "mimetype": "text/x-python",
   "name": "python",
   "nbconvert_exporter": "python",
   "pygments_lexer": "ipython3",
   "version": "3.6.5"
  }
 },
 "nbformat": 4,
 "nbformat_minor": 2
}
