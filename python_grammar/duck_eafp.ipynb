{
 "cells": [
  {
   "cell_type": "markdown",
   "metadata": {},
   "source": [
    "Pyhonic : Duck Typing and the concept EAFP\n",
    "    ===================="
   ]
  },
  {
   "cell_type": "markdown",
   "metadata": {},
   "source": [
    "Duck Typing\n",
    "----------"
   ]
  },
  {
   "cell_type": "markdown",
   "metadata": {},
   "source": [
    "meaning that we simply don't care what type of object we are working with.  \n",
    "we are only care if our object can do wahat we asked it to do  "
   ]
  },
  {
   "cell_type": "code",
   "execution_count": 1,
   "metadata": {},
   "outputs": [
    {
     "name": "stdout",
     "output_type": "stream",
     "text": [
      "Quack, quack\n",
      "Flap, Flap!\n",
      "\n",
      "This has to be a Duck!\n",
      "\n"
     ]
    }
   ],
   "source": [
    "class Duck:\n",
    "    \n",
    "    def quack(self):\n",
    "        print('Quack, quack')\n",
    "        \n",
    "    def fly(self):\n",
    "        print('Flap, Flap!')\n",
    "        \n",
    "\n",
    "class Person:\n",
    "    \n",
    "    def quack(self):\n",
    "        print(\"I'm Quacking Like a Duck!\")\n",
    "        \n",
    "    def fly(self):\n",
    "        print(\"I'm Flapping my Arms!\")\n",
    "        \n",
    "\n",
    "def quack_and_fly(thing):\n",
    "    # Not Duck-Typed(Non-Pythonic)\n",
    "    # LBYL(Look Before You Leave)\n",
    "    if isinstance(thing, Duck):\n",
    "        thing.quack()\n",
    "        thing.fly()\n",
    "    else:\n",
    "        print('This has to be a Duck!')\n",
    "        \n",
    "    print()\n",
    "    \n",
    "d = Duck()\n",
    "quack_and_fly(d)\n",
    "\n",
    "p = Person()\n",
    "quack_and_fly(p)"
   ]
  },
  {
   "cell_type": "markdown",
   "metadata": {},
   "source": [
    "위의 예시는 Person 클래스의 인스턴스가 Duck처럼 행동하는데도 Duck의 인스턴스가 아니라는 이유로 예외처리된다.   \n",
    "하지만 파이썬은 Duck처럼 작동한다면 Duck으로 여기는 스타일을 선호하고 이는 아래의 코드 예시에서 볼 수 있다.    \n",
    "어떤 종류의 객체인지 중요하지 않고, 우리가 요청한 일을 잘 처리할 수 있는지 여부가 중요하다.  "
   ]
  },
  {
   "cell_type": "code",
   "execution_count": 3,
   "metadata": {},
   "outputs": [
    {
     "name": "stdout",
     "output_type": "stream",
     "text": [
      "Quack, quack\n",
      "Flap, Flap!\n",
      "\n",
      "I'm Quacking Like a Duck!\n",
      "I'm Flapping my Arms!\n",
      "\n"
     ]
    }
   ],
   "source": [
    "def quack_and_fly(thing):\n",
    "    # Pythonic\n",
    "    thing.quack()\n",
    "    thing.fly()\n",
    "    print()\n",
    "    \n",
    "d = Duck()\n",
    "quack_and_fly(d)\n",
    "\n",
    "p = Person()\n",
    "quack_and_fly(p)"
   ]
  },
  {
   "cell_type": "markdown",
   "metadata": {},
   "source": [
    "EAFP(Easier to Ask Forgiveness not Permission)\n",
    "-----------------"
   ]
  },
  {
   "cell_type": "markdown",
   "metadata": {},
   "source": [
    "하지만 duck typing으로 인해 아무 객체나 전달되어 오류가 발생할 수가 있다. 이를 위해 EAFP 개념이 등장한다.  "
   ]
  },
  {
   "cell_type": "markdown",
   "metadata": {},
   "source": [
    "**Strength of EAFP**  \n",
    "  \n",
    "1. slightly faster at the situations if you don't expect a lot of exceptions because whenever you ask   \n",
    "for permisson you have to access your object multiple times. However, EAFP access only one time.   \n",
    "If it works, it works, if not, if does not work.  \n",
    "\n",
    "2. More readable  "
   ]
  },
  {
   "cell_type": "code",
   "execution_count": 4,
   "metadata": {},
   "outputs": [],
   "source": [
    "# Non-Pythonic\n",
    "def quack_and_fly(thing):\n",
    "    if hasattr(thing, 'quack'):\n",
    "        if callable(thing.quack):\n",
    "            thing.quack()\n",
    "            \n",
    "    if hasattr(thing, 'fly'):\n",
    "        if callable(thing.fly):\n",
    "            thing.fly()\n",
    "            \n",
    "    print()"
   ]
  },
  {
   "cell_type": "code",
   "execution_count": 5,
   "metadata": {},
   "outputs": [
    {
     "name": "stdout",
     "output_type": "stream",
     "text": [
      "Quack, quack\n",
      "Flap, Flap!\n",
      "'Duck' object has no attribute 'bark'\n",
      "\n",
      "I'm Quacking Like a Duck!\n",
      "I'm Flapping my Arms!\n",
      "'Person' object has no attribute 'bark'\n",
      "\n"
     ]
    }
   ],
   "source": [
    "# Pythonic\n",
    "def quack_and_fly(thing):\n",
    "    try:\n",
    "        thing.quack()\n",
    "        thing.fly()\n",
    "        thing.bark()\n",
    "    except AttributeError as e:\n",
    "        print(e)\n",
    "        \n",
    "    print()\n",
    "    \n",
    "d = Duck()\n",
    "quack_and_fly(d)\n",
    "\n",
    "p = Person()\n",
    "quack_and_fly(p)"
   ]
  },
  {
   "cell_type": "markdown",
   "metadata": {},
   "source": [
    "Example\n",
    "-------"
   ]
  },
  {
   "cell_type": "code",
   "execution_count": 7,
   "metadata": {},
   "outputs": [
    {
     "name": "stdout",
     "output_type": "stream",
     "text": [
      "Missing some keys\n"
     ]
    }
   ],
   "source": [
    "person = {'name' : 'Jess', 'age' : 23}\n",
    "\n",
    "# LBYL\n",
    "if 'name' in person and 'age' in person and 'job' in person:\n",
    "    print(\"I'm {name}. I'm {age} years old and I am a {job}\".format(**person))\n",
    "else:\n",
    "    print('Missing some keys')"
   ]
  },
  {
   "cell_type": "code",
   "execution_count": 8,
   "metadata": {},
   "outputs": [
    {
     "name": "stdout",
     "output_type": "stream",
     "text": [
      "Missing 'job' key\n"
     ]
    }
   ],
   "source": [
    "# EAFP\n",
    "try:\n",
    "    print(\"I'm {name}. I'm {age} years old and I am a {job}\".format(**person))\n",
    "except KeyError as e:\n",
    "    print('Missing {} key'.format(e))"
   ]
  },
  {
   "cell_type": "markdown",
   "metadata": {},
   "source": [
    "Reference\n",
    "-------------\n",
    "\n",
    "https://www.youtube.com/watch?v=x3v9zMX1s4s&list=PL-osiE80TeTt2d9bfVyTiXJA-UTHn6WwU&index=32"
   ]
  }
 ],
 "metadata": {
  "kernelspec": {
   "display_name": "Python 3",
   "language": "python",
   "name": "python3"
  },
  "language_info": {
   "codemirror_mode": {
    "name": "ipython",
    "version": 3
   },
   "file_extension": ".py",
   "mimetype": "text/x-python",
   "name": "python",
   "nbconvert_exporter": "python",
   "pygments_lexer": "ipython3",
   "version": "3.6.5"
  }
 },
 "nbformat": 4,
 "nbformat_minor": 2
}
