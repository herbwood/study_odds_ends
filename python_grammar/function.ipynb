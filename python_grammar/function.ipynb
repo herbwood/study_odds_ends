{
 "cells": [
  {
   "cell_type": "markdown",
   "metadata": {},
   "source": [
    "Function\n",
    "======"
   ]
  },
  {
   "cell_type": "code",
   "execution_count": 1,
   "metadata": {},
   "outputs": [],
   "source": [
    "# 아직 아무것도 안하지만 공백으로 둠으로써 에러를 발생시키고 싶지 않을 때\n",
    "def hello_func():\n",
    "    pass"
   ]
  },
  {
   "cell_type": "code",
   "execution_count": 2,
   "metadata": {},
   "outputs": [
    {
     "name": "stdout",
     "output_type": "stream",
     "text": [
      "<function hello_func at 0x0000027DDE9CAB70>\n"
     ]
    }
   ],
   "source": [
    "# 함수가 저장된 메모리 장소 출력\n",
    "print(hello_func)"
   ]
  },
  {
   "cell_type": "markdown",
   "metadata": {},
   "source": [
    "**특정 작업을 일괄적으로 수정할 수 있는 것이 함수 사용의 장점!**  \n",
    "**DRY(Don't Repeat Yourself)**  "
   ]
  },
  {
   "cell_type": "code",
   "execution_count": 4,
   "metadata": {},
   "outputs": [
    {
     "name": "stdout",
     "output_type": "stream",
     "text": [
      "Hi,You\n"
     ]
    }
   ],
   "source": [
    "# 함수 파라미터 디폴트값 지정 가능!\n",
    "def hello_func(greeting, name = 'You'):\n",
    "    return '{},{}'.format(greeting, name)\n",
    "\n",
    "print(hello_func('Hi'))"
   ]
  },
  {
   "cell_type": "markdown",
   "metadata": {},
   "source": [
    "*args 사용방법\n",
    "-------------"
   ]
  },
  {
   "cell_type": "code",
   "execution_count": 9,
   "metadata": {},
   "outputs": [],
   "source": [
    "# 대부분 *args와 **kwargs는 함수를 정의 할 때 사용됩니다.\n",
    "# *args와 **kwargs는 가변 갯수의 인자들을 함수에 넣어줍니다.   \n",
    "# 여기서 가변 갯수의 인자라 함은, 사용자들이 얼마나 \n",
    "# 많은 인자들을 함수에 넣을지 모르는,즉 갯수가 변할 수 있는 \n",
    "# 상황에서 *args와 **kwargs를 사용할 수 있다는 뜻입니다.  \n",
    "# *args는 키워드 되지않은 가변 갯수의 인자들을 함수에 보낼 때 사용합니다. "
   ]
  },
  {
   "cell_type": "code",
   "execution_count": 11,
   "metadata": {},
   "outputs": [
    {
     "name": "stdout",
     "output_type": "stream",
     "text": [
      "first: a\n",
      "other *argv :  python\n",
      "other *argv :  egg\n",
      "other *argv :  test\n"
     ]
    }
   ],
   "source": [
    "def test_var_args(f_arg, *argv):\n",
    "    print (\"first:\", f_arg)\n",
    "    for arg in argv:\n",
    "        print (\"other *argv : \", arg)\n",
    "\n",
    "test_var_args('a', 'python', 'egg', 'test')"
   ]
  },
  {
   "cell_type": "markdown",
   "metadata": {},
   "source": [
    "**kargs 사용방법\n",
    "-------------"
   ]
  },
  {
   "cell_type": "code",
   "execution_count": 12,
   "metadata": {},
   "outputs": [],
   "source": [
    "# **kwargs는 키워드된 가변 갯수의 인자들을 함수에 보낼 때 사용합니다.\n",
    "# (역주: 가장 큰 차이는 keyword이냐 nonkeyword이냐입니다.) \n",
    "# **kwargs는 함수가 이름이 지정된 인자를 처리할 때 사용해야합니다."
   ]
  },
  {
   "cell_type": "code",
   "execution_count": 26,
   "metadata": {},
   "outputs": [
    {
     "name": "stdout",
     "output_type": "stream",
     "text": [
      "1 : a\n",
      "2 : b\n",
      "3 : c\n"
     ]
    }
   ],
   "source": [
    "tests2 = {'1' : 'a', '2' : 'b', '3' : 'c'}\n",
    "def greet_me(**kwargs):\n",
    "    if kwargs is not None:\n",
    "        for key, value in kwargs.items():\n",
    "            print(\"%s : %s\" % (key, value))\n",
    "            \n",
    "greet_me(**tests2)"
   ]
  },
  {
   "cell_type": "markdown",
   "metadata": {},
   "source": [
    "함수를 호출하기 위한 *args와 **kwargs\n",
    "--------"
   ]
  },
  {
   "cell_type": "code",
   "execution_count": 21,
   "metadata": {},
   "outputs": [
    {
     "name": "stdout",
     "output_type": "stream",
     "text": [
      "a\n",
      "b\n",
      "c\n"
     ]
    }
   ],
   "source": [
    "def test_args_kwargs(arg1, arg2, arg3):\n",
    "        print (arg1)\n",
    "        print (arg2)\n",
    "        print (arg3)\n",
    "        \n",
    "test_args_kwargs('a', 'b', 'c')"
   ]
  },
  {
   "cell_type": "markdown",
   "metadata": {},
   "source": [
    "더 단순하게 하는 방법"
   ]
  },
  {
   "cell_type": "code",
   "execution_count": 20,
   "metadata": {},
   "outputs": [
    {
     "name": "stdout",
     "output_type": "stream",
     "text": [
      "two\n",
      "3\n",
      "5\n"
     ]
    }
   ],
   "source": [
    "tests = (\"two\", 3, 5)\n",
    "def test_args_kwargs(*args):\n",
    "    for arg in args:\n",
    "        print(arg)\n",
    "test_args_kwargs(*tests)"
   ]
  },
  {
   "cell_type": "code",
   "execution_count": 27,
   "metadata": {},
   "outputs": [
    {
     "name": "stdout",
     "output_type": "stream",
     "text": [
      "1\n",
      "2\n",
      "3\n"
     ]
    }
   ],
   "source": [
    "tests2 = {'1' : 'a', '2' : 'b', '3' : 'c'}\n",
    "def test_args_kwargs(**kargs):\n",
    "    for karg in kargs:\n",
    "        print(karg)\n",
    "test_args_kwargs(**tests2)    "
   ]
  },
  {
   "cell_type": "code",
   "execution_count": 29,
   "metadata": {},
   "outputs": [
    {
     "data": {
      "text/plain": [
       "False"
      ]
     },
     "execution_count": 29,
     "metadata": {},
     "output_type": "execute_result"
    }
   ],
   "source": [
    "# 참 거짓 값을 리턴하게 만드는 방법\n",
    "def is_loop(year):\n",
    "    return year % 4 == 0 and (year % 100 != 0 or year % 400 == 0)\n",
    "\n",
    "is_loop(2017)"
   ]
  },
  {
   "cell_type": "markdown",
   "metadata": {},
   "source": [
    "함수 활용법\n",
    "--------"
   ]
  },
  {
   "cell_type": "code",
   "execution_count": 30,
   "metadata": {},
   "outputs": [
    {
     "name": "stdout",
     "output_type": "stream",
     "text": [
      "28\n"
     ]
    }
   ],
   "source": [
    "month_days = [0, 31, 28, 31, 30, 31, 30, 31, 31, 30, 31, 30, 31]\n",
    "\n",
    "\n",
    "def is_leap(year):\n",
    "    \"\"\"Return True for leap years, False for non-leap years.\"\"\"\n",
    "\n",
    "    return year % 4 == 0 and (year % 100 != 0 or year % 400 == 0)\n",
    "\n",
    "\n",
    "def days_in_month(year, month):\n",
    "    \"\"\"Return number of days in that month in that year.\"\"\"\n",
    "    if not 1 <= month <= 12:\n",
    "        return 'Invalid Month'\n",
    "\n",
    "    if month == 2 and is_leap(year):\n",
    "        return 29\n",
    "\n",
    "    return month_days[month]\n",
    "\n",
    "print(days_in_month(2017, 2))"
   ]
  }
 ],
 "metadata": {
  "kernelspec": {
   "display_name": "Python 3",
   "language": "python",
   "name": "python3"
  },
  "language_info": {
   "codemirror_mode": {
    "name": "ipython",
    "version": 3
   },
   "file_extension": ".py",
   "mimetype": "text/x-python",
   "name": "python",
   "nbconvert_exporter": "python",
   "pygments_lexer": "ipython3",
   "version": "3.6.5"
  }
 },
 "nbformat": 4,
 "nbformat_minor": 2
}
