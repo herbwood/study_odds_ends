{
 "cells": [
  {
   "cell_type": "markdown",
   "metadata": {},
   "source": [
    "String\n",
    "====="
   ]
  },
  {
   "cell_type": "markdown",
   "metadata": {},
   "source": [
    "f string\n",
    "------"
   ]
  },
  {
   "cell_type": "code",
   "execution_count": 2,
   "metadata": {},
   "outputs": [
    {
     "name": "stdout",
     "output_type": "stream",
     "text": [
      "Hello, Michael, Welcome!\n"
     ]
    }
   ],
   "source": [
    "greeting = 'Hello'\n",
    "name = 'Michael'\n",
    "\n",
    "message = f'{greeting}, {name}, Welcome!'\n",
    "print(message)"
   ]
  },
  {
   "cell_type": "markdown",
   "metadata": {},
   "source": [
    "String Formatting\n",
    "----------"
   ]
  },
  {
   "cell_type": "code",
   "execution_count": 7,
   "metadata": {},
   "outputs": [
    {
     "name": "stdout",
     "output_type": "stream",
     "text": [
      "My name is Jenny and I am 23 years old\n"
     ]
    }
   ],
   "source": [
    "person = {'name' : 'Jenny', 'age' : 23}\n",
    "sentence = 'My name is {0[name]} and I am {0[age]} years old'.format(person)\n",
    "print(sentence)"
   ]
  },
  {
   "cell_type": "code",
   "execution_count": 9,
   "metadata": {},
   "outputs": [
    {
     "name": "stdout",
     "output_type": "stream",
     "text": [
      "My name is Jack and I am 33 years old\n"
     ]
    }
   ],
   "source": [
    "class Person():\n",
    "    \n",
    "    def __init__(self, name, age):\n",
    "        self.name = name\n",
    "        self.age = age\n",
    "        \n",
    "p1 = Person('Jack', '33')\n",
    "\n",
    "sentence = 'My name is {0.name} and I am {0.age} years old'.format(p1)\n",
    "print(sentence)"
   ]
  },
  {
   "cell_type": "code",
   "execution_count": 11,
   "metadata": {},
   "outputs": [
    {
     "name": "stdout",
     "output_type": "stream",
     "text": [
      "My name is Jack and I am 33 years old\n"
     ]
    }
   ],
   "source": [
    "sentence = 'My name is {name} and I am {age} years old'.format(name = 'Jack', age = '33')\n",
    "print(sentence)"
   ]
  },
  {
   "cell_type": "code",
   "execution_count": 12,
   "metadata": {},
   "outputs": [
    {
     "name": "stdout",
     "output_type": "stream",
     "text": [
      "My name is Jenny and I am 23 years old\n"
     ]
    }
   ],
   "source": [
    "person = {'name' : 'Jenny', 'age' : 23}\n",
    "sentence = 'My name is {name} and I am {age} years old'.format(**person)\n",
    "print(sentence)"
   ]
  },
  {
   "cell_type": "code",
   "execution_count": 14,
   "metadata": {},
   "outputs": [
    {
     "name": "stdout",
     "output_type": "stream",
     "text": [
      "The value is 001\n",
      "The value is 002\n",
      "The value is 003\n",
      "The value is 004\n",
      "The value is 005\n",
      "The value is 006\n",
      "The value is 007\n",
      "The value is 008\n",
      "The value is 009\n",
      "The value is 010\n"
     ]
    }
   ],
   "source": [
    "for i in range(1, 11):\n",
    "    sentence = 'The value is {:03}'.format(i)\n",
    "    print(sentence)"
   ]
  },
  {
   "cell_type": "code",
   "execution_count": 18,
   "metadata": {},
   "outputs": [
    {
     "name": "stdout",
     "output_type": "stream",
     "text": [
      "Pi is equal to 3.142\n"
     ]
    }
   ],
   "source": [
    "pi = 3.14159265\n",
    "\n",
    "sentence = 'Pi is equal to {:.3f}'.format(pi)\n",
    "print(sentence)"
   ]
  },
  {
   "cell_type": "code",
   "execution_count": 20,
   "metadata": {},
   "outputs": [
    {
     "name": "stdout",
     "output_type": "stream",
     "text": [
      "1MB is equal to 1,000,000.00 bytes\n"
     ]
    }
   ],
   "source": [
    "sentence = '1MB is equal to {:,.2f} bytes'.format(1000 ** 2)\n",
    "print(sentence)"
   ]
  },
  {
   "cell_type": "code",
   "execution_count": 21,
   "metadata": {},
   "outputs": [
    {
     "name": "stdout",
     "output_type": "stream",
     "text": [
      "November 12, 2018\n"
     ]
    }
   ],
   "source": [
    "import datetime\n",
    "my_date = datetime.datetime(2018, 11, 12, 12, 30, 45)\n",
    "sentence = '{:%B %d, %Y}'.format(my_date)\n",
    "print(sentence)"
   ]
  }
 ],
 "metadata": {
  "kernelspec": {
   "display_name": "Python 3",
   "language": "python",
   "name": "python3"
  },
  "language_info": {
   "codemirror_mode": {
    "name": "ipython",
    "version": 3
   },
   "file_extension": ".py",
   "mimetype": "text/x-python",
   "name": "python",
   "nbconvert_exporter": "python",
   "pygments_lexer": "ipython3",
   "version": "3.6.5"
  }
 },
 "nbformat": 4,
 "nbformat_minor": 2
}
