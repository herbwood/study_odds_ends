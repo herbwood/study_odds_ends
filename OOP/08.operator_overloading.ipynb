{
 "cells": [
  {
   "cell_type": "markdown",
   "metadata": {},
   "source": [
    "Operator Overloading\n",
    "=========="
   ]
  },
  {
   "cell_type": "markdown",
   "metadata": {},
   "source": [
    "객체에서 필요한 연산자를 재정의하는 것  "
   ]
  },
  {
   "cell_type": "code",
   "execution_count": 1,
   "metadata": {},
   "outputs": [],
   "source": [
    "class Figure:\n",
    "    def __init__(self, width, height):\n",
    "        self.width = width\n",
    "        self.height = height"
   ]
  },
  {
   "cell_type": "code",
   "execution_count": 7,
   "metadata": {},
   "outputs": [
    {
     "data": {
      "text/plain": [
       "5"
      ]
     },
     "execution_count": 7,
     "metadata": {},
     "output_type": "execute_result"
    }
   ],
   "source": [
    "class Quadrangle:\n",
    "    def __init__(self, width, height):\n",
    "        self.width = width\n",
    "        self.height = height\n",
    "        \n",
    "    def __add__(self, other):\n",
    "        return Quadrangle(self.width + other.width, self.height + other.height)\n",
    "    \n",
    "    def __mul__(self, num):\n",
    "        return Quadrangle(self.width * num, self.height * num)\n",
    "    \n",
    "    def __len__(self):\n",
    "        return self.width ** 2 + self.height ** 2\n",
    "    \n",
    "    def __getitem__(self, index):\n",
    "        if index == 0:\n",
    "            return self.width\n",
    "        elif index == 1:\n",
    "            return self.height\n",
    "        \n",
    "    def __str__(self):\n",
    "        return 'width : {}, height : {}'.format(self.width, self.height)\n",
    "    \n",
    "    def __eq__(self, other):\n",
    "        if ((self.width == other.width ) and (self.height == other.height)):\n",
    "            return True\n",
    "        else:\n",
    "            return False\n",
    "    \n",
    "\n",
    "rectangle1 = Quadrangle(2, 3)\n",
    "figure1 = Figure(3, 4)\n",
    "rectangle2 = rectangle1 + figure1\n",
    "rectangle2.width  # rectangle1.width + figure1.width"
   ]
  },
  {
   "cell_type": "code",
   "execution_count": 12,
   "metadata": {},
   "outputs": [
    {
     "name": "stdout",
     "output_type": "stream",
     "text": [
      "5 7\n",
      "width : 6, height : 9\n",
      "5 7\n",
      "13\n",
      "False\n"
     ]
    }
   ],
   "source": [
    "rectangle3 = rectangle1 * 3\n",
    "print(rectangle2.width, rectangle2.height)\n",
    "print(str(rectangle3))\n",
    "print(rectangle2[0], rectangle2[1])\n",
    "print(len(rectangle1))\n",
    "print(rectangle1 == rectangle2)"
   ]
  },
  {
   "cell_type": "markdown",
   "metadata": {},
   "source": [
    "References\n",
    "----------\n",
    "\n",
    "http://www.fun-coding.org/PL&OOP1-9.html"
   ]
  }
 ],
 "metadata": {
  "kernelspec": {
   "display_name": "Python 3",
   "language": "python",
   "name": "python3"
  },
  "language_info": {
   "codemirror_mode": {
    "name": "ipython",
    "version": 3
   },
   "file_extension": ".py",
   "mimetype": "text/x-python",
   "name": "python",
   "nbconvert_exporter": "python",
   "pygments_lexer": "ipython3",
   "version": "3.6.5"
  }
 },
 "nbformat": 4,
 "nbformat_minor": 2
}
