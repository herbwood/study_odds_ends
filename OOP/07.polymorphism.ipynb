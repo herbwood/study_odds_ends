{
 "cells": [
  {
   "cell_type": "markdown",
   "metadata": {},
   "source": [
    "Polymorphism\n",
    "=========="
   ]
  },
  {
   "cell_type": "markdown",
   "metadata": {},
   "source": [
    "같은 모양의 코드가 다른 동작을 하는 것   \n",
    "\n",
    "키보드의 예로  \n",
    "push(keyboard): 키보드를 누룬다는 동일한 코드에 대해    \n",
    "ENTER, ESC, A 등 실제 키에 따라 동작이 다른 것을 의미함  \n",
    "\n",
    "다형성은 코드의 양을 줄이고, 여러 객체 타입을 하나의 타입으로 관리가 가능하여 유지보수에 좋음  "
   ]
  },
  {
   "cell_type": "code",
   "execution_count": 3,
   "metadata": {},
   "outputs": [
    {
     "name": "stdout",
     "output_type": "stream",
     "text": [
      "Dave sells something\n",
      "June sells something\n",
      "SeungHee develops something\n",
      "Dong sells something\n"
     ]
    }
   ],
   "source": [
    "class SalesWorker:\n",
    "    \n",
    "    def __init__(self, name):\n",
    "        self.name = name\n",
    "        \n",
    "    def work(self):\n",
    "        print(self.name, 'sells something')\n",
    "        \n",
    "class DevWorker:\n",
    "    \n",
    "    def __init__(self, name):\n",
    "        self.name = name\n",
    "        \n",
    "    def work(self):\n",
    "        print(self.name, 'develops something')\n",
    "        \n",
    "worker1 = SalesWorker('Dave')\n",
    "worker2 = SalesWorker('June')\n",
    "worker3 = DevWorker('SeungHee')\n",
    "worker4 = SalesWorker('Dong')\n",
    "\n",
    "workers = [worker1, worker2, worker3, worker4]\n",
    "\n",
    "for worker in workers:\n",
    "    worker.work()"
   ]
  },
  {
   "cell_type": "markdown",
   "metadata": {},
   "source": [
    "References\n",
    "----------\n",
    "\n",
    "http://www.fun-coding.org/PL&OOP1-8.html"
   ]
  }
 ],
 "metadata": {
  "kernelspec": {
   "display_name": "Python 3",
   "language": "python",
   "name": "python3"
  },
  "language_info": {
   "codemirror_mode": {
    "name": "ipython",
    "version": 3
   },
   "file_extension": ".py",
   "mimetype": "text/x-python",
   "name": "python",
   "nbconvert_exporter": "python",
   "pygments_lexer": "ipython3",
   "version": "3.6.5"
  }
 },
 "nbformat": 4,
 "nbformat_minor": 2
}
