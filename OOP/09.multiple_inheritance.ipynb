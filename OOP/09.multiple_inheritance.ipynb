{
 "cells": [
  {
   "cell_type": "markdown",
   "metadata": {},
   "source": [
    "Multiple Inheritance\n",
    "============="
   ]
  },
  {
   "cell_type": "markdown",
   "metadata": {},
   "source": [
    "다중 상속: 2개 이상의 클래스를 상속받는 경우"
   ]
  },
  {
   "cell_type": "code",
   "execution_count": 1,
   "metadata": {},
   "outputs": [],
   "source": [
    "class Person:\n",
    "    def sleep(self):\n",
    "        print('sleep')\n",
    "        \n",
    "class Student(Person):\n",
    "    def study(self):\n",
    "        print('study hard')\n",
    "        \n",
    "class Worker(Person):\n",
    "    def work(self):\n",
    "        print('work hard')\n",
    "        \n",
    "class PartTimer(Student, Worker):\n",
    "    def find_job(self):\n",
    "        print('find a job')"
   ]
  },
  {
   "cell_type": "code",
   "execution_count": 2,
   "metadata": {},
   "outputs": [
    {
     "name": "stdout",
     "output_type": "stream",
     "text": [
      "sleep\n",
      "study hard\n",
      "work hard\n",
      "find a job\n"
     ]
    }
   ],
   "source": [
    "parttimer1 = PartTimer()\n",
    "parttimer1.sleep()\n",
    "parttimer1.study()\n",
    "parttimer1.work()\n",
    "parttimer1.find_job()"
   ]
  },
  {
   "cell_type": "markdown",
   "metadata": {},
   "source": [
    "상속 순서에 따른 호출 결과\n",
    "-----------"
   ]
  },
  {
   "cell_type": "markdown",
   "metadata": {},
   "source": [
    "다중 상속된 클래스의 나열 순서가 자식 클래스가 속성(멤버변수,메서드) 호출에 영향을 줌"
   ]
  },
  {
   "cell_type": "code",
   "execution_count": 4,
   "metadata": {},
   "outputs": [],
   "source": [
    "class Person:\n",
    "    def sleep(self):\n",
    "        print('sleep')\n",
    "        \n",
    "class Student(Person):\n",
    "    def study(self):\n",
    "        print('study hard')\n",
    "        \n",
    "    def play(self):\n",
    "        print('play with friends')\n",
    "        \n",
    "class Worker(Person):\n",
    "    def work(self):\n",
    "        print('work hard')\n",
    "        \n",
    "    def play(self):\n",
    "        print('drinks alone')\n",
    "        \n",
    "class PartTimer(Student, Worker):\n",
    "    def find_job(self):\n",
    "        print('find a job')"
   ]
  },
  {
   "cell_type": "code",
   "execution_count": 5,
   "metadata": {},
   "outputs": [
    {
     "name": "stdout",
     "output_type": "stream",
     "text": [
      "play with friends\n"
     ]
    }
   ],
   "source": [
    "parttimer1 = PartTimer()\n",
    "parttimer1.play()  # 먼저 상속하는 순서의 메서드를 반환한다"
   ]
  },
  {
   "cell_type": "code",
   "execution_count": 7,
   "metadata": {},
   "outputs": [
    {
     "name": "stdout",
     "output_type": "stream",
     "text": [
      "drinks alone\n"
     ]
    }
   ],
   "source": [
    "class Partimer2(Worker, Student):\n",
    "    def find_job(self):\n",
    "        print('find a job')\n",
    "        \n",
    "parttimer2 = Partimer2()\n",
    "parttimer2.play()"
   ]
  },
  {
   "cell_type": "markdown",
   "metadata": {},
   "source": [
    "super() 내장함수로 메서드 호출 중복 방지\n",
    "-----------------"
   ]
  },
  {
   "cell_type": "markdown",
   "metadata": {},
   "source": [
    "최상위 클래스 Person의 메서드를 두 번 호출하는 문제가 생김"
   ]
  },
  {
   "cell_type": "code",
   "execution_count": 8,
   "metadata": {},
   "outputs": [],
   "source": [
    "class Person:\n",
    "    def __init__(self):\n",
    "        print('I am a person')\n",
    " \n",
    "class Student(Person):\n",
    "    def __init__(self):\n",
    "        Person.__init__(self)\n",
    "        print('I am a student')\n",
    "        \n",
    "class Worker(Person):\n",
    "    def __init__(self):\n",
    "        Person.__init__(self)\n",
    "        print('I am a worker')\n",
    "        \n",
    "class PartTimer(Student, Worker):\n",
    "    def __init__(self):\n",
    "        Student.__init__(self)\n",
    "        Worker.__init__(self)\n",
    "        print('I am a part-timer and student')"
   ]
  },
  {
   "cell_type": "code",
   "execution_count": 9,
   "metadata": {},
   "outputs": [
    {
     "name": "stdout",
     "output_type": "stream",
     "text": [
      "I am a person\n",
      "I am a student\n",
      "I am a person\n",
      "I am a worker\n",
      "I am a part-timer and student\n"
     ]
    }
   ],
   "source": [
    "parttimer1 = PartTimer()"
   ]
  },
  {
   "cell_type": "code",
   "execution_count": 10,
   "metadata": {},
   "outputs": [],
   "source": [
    "class Person:\n",
    "    def __init__(self):\n",
    "        print('I am a person')\n",
    " \n",
    "class Student(Person):\n",
    "    def __init__(self):\n",
    "        super().__init__()\n",
    "        print('I am a student')\n",
    "        \n",
    "class Worker(Person):\n",
    "    def __init__(self):\n",
    "        super().__init__()\n",
    "        print('I am a worker')\n",
    "        \n",
    "class PartTimer(Student, Worker):\n",
    "    def __init__(self):\n",
    "        super().__init__()\n",
    "        print('I am a part-timer and student')"
   ]
  },
  {
   "cell_type": "code",
   "execution_count": 11,
   "metadata": {},
   "outputs": [
    {
     "name": "stdout",
     "output_type": "stream",
     "text": [
      "I am a person\n",
      "I am a worker\n",
      "I am a student\n",
      "I am a part-timer and student\n"
     ]
    }
   ],
   "source": [
    "parttimer1 = PartTimer()"
   ]
  },
  {
   "cell_type": "markdown",
   "metadata": {},
   "source": [
    "__mro__ 메서드로 상속구조 파악하기\n",
    "----------"
   ]
  },
  {
   "cell_type": "markdown",
   "metadata": {},
   "source": [
    "MRO : Method Resolution Order의 약자"
   ]
  },
  {
   "cell_type": "code",
   "execution_count": 12,
   "metadata": {},
   "outputs": [
    {
     "data": {
      "text/plain": [
       "(__main__.PartTimer,\n",
       " __main__.Student,\n",
       " __main__.Worker,\n",
       " __main__.Person,\n",
       " object)"
      ]
     },
     "execution_count": 12,
     "metadata": {},
     "output_type": "execute_result"
    }
   ],
   "source": [
    "PartTimer.__mro__"
   ]
  },
  {
   "cell_type": "markdown",
   "metadata": {},
   "source": [
    "References\n",
    "--------\n",
    "\n",
    "http://www.fun-coding.org/PL&OOP1-10.html"
   ]
  }
 ],
 "metadata": {
  "kernelspec": {
   "display_name": "Python 3",
   "language": "python",
   "name": "python3"
  },
  "language_info": {
   "codemirror_mode": {
    "name": "ipython",
    "version": 3
   },
   "file_extension": ".py",
   "mimetype": "text/x-python",
   "name": "python",
   "nbconvert_exporter": "python",
   "pygments_lexer": "ipython3",
   "version": "3.6.5"
  }
 },
 "nbformat": 4,
 "nbformat_minor": 2
}
