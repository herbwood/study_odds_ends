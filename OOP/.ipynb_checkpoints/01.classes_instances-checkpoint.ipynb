{
 "cells": [
  {
   "cell_type": "markdown",
   "metadata": {},
   "source": [
    "Classes and Instances\n",
    "================"
   ]
  },
  {
   "cell_type": "markdown",
   "metadata": {},
   "source": [
    "Class is useful because it helps us logically group our data and functions in a way that's easy to reuse and also easy to build upon if need to be  \n",
    "\n",
    "data and functions that are associated with a specific class is called attributes and methods  \n",
    "\n",
    "class is a blueprint for creating instances, objects that are made by class is instances  "
   ]
  },
  {
   "cell_type": "code",
   "execution_count": 1,
   "metadata": {
    "scrolled": true
   },
   "outputs": [
    {
     "name": "stdout",
     "output_type": "stream",
     "text": [
      "<__main__.Employee object at 0x000001EAAE65AE10>\n",
      "<__main__.Employee object at 0x000001EAAE65ADD8>\n"
     ]
    }
   ],
   "source": [
    "class Employee:\n",
    "    pass\n",
    "\n",
    "emp_1 = Employee()\n",
    "emp_2 = Employee()\n",
    "\n",
    "# 각자 고유한 주소값을 가지고 있는 Employee Class의 instances\n",
    "print(emp_1)\n",
    "print(emp_2)"
   ]
  },
  {
   "cell_type": "markdown",
   "metadata": {},
   "source": [
    "Attributes\n",
    "-------"
   ]
  },
  {
   "cell_type": "markdown",
   "metadata": {},
   "source": [
    "Instance variable contain data that is unique to each instance  "
   ]
  },
  {
   "cell_type": "code",
   "execution_count": 2,
   "metadata": {},
   "outputs": [
    {
     "name": "stdout",
     "output_type": "stream",
     "text": [
      "June\n",
      "Seung\n"
     ]
    }
   ],
   "source": [
    "# 각 객체에 대해 하나하나 속성을 저장하는 것보다 클래스에서 일괄적을 관리하는 것이 편하다 \n",
    "emp_1.first = 'June'\n",
    "emp_1.last = 'Kwon'\n",
    "emp_1.email = 'kwonjune@gmail.com'\n",
    "emp_1.pay = 50000\n",
    "\n",
    "emp_2.first = 'Seung'\n",
    "emp_2.last = 'Oh'\n",
    "emp_2.email = 'ohseung@gmail.com'\n",
    "emp_2.pay = 60000\n",
    "\n",
    "print(emp_1.first)\n",
    "print(emp_2.first)"
   ]
  },
  {
   "cell_type": "code",
   "execution_count": 4,
   "metadata": {},
   "outputs": [
    {
     "name": "stdout",
     "output_type": "stream",
     "text": [
      "June.Kwon@compay.com\n",
      "Seung.Oh@compay.com\n"
     ]
    }
   ],
   "source": [
    "# 위의 instance variable을 한꺼번에 지정하기 위한 init method\n",
    "class Employee:\n",
    "    \n",
    "    def __init__(self, first, last, pay):\n",
    "        self.first = first\n",
    "        self.last = last\n",
    "        self.pay = pay\n",
    "        self.email = first + '.' + last + '@compay.com'\n",
    "\n",
    "# 여기서 self는 instance 이름과 동일시된다. \n",
    "emp_1 = Employee('June', 'Kwon', 50000)\n",
    "emp_2 = Employee('Seung', 'Oh', 60000)\n",
    "\n",
    "print(emp_1.email)\n",
    "print(emp_2.email)"
   ]
  },
  {
   "cell_type": "markdown",
   "metadata": {},
   "source": [
    "Methods\n",
    "-------"
   ]
  },
  {
   "cell_type": "code",
   "execution_count": 6,
   "metadata": {},
   "outputs": [
    {
     "name": "stdout",
     "output_type": "stream",
     "text": [
      "June Kwon\n"
     ]
    }
   ],
   "source": [
    "class Employee:\n",
    "    \n",
    "    def __init__(self, first, last, pay):\n",
    "        self.first = first\n",
    "        self.last = last\n",
    "        self.pay = pay\n",
    "        self.email = first + '.' + last + '@compay.com'\n",
    "        \n",
    "    def fullname(self):\n",
    "        return '{} {}'.format(self.first, self.last)\n",
    "\n",
    "# attribute이 아니라 method이기 때문에 괄호() 필수!\n",
    "emp_1 = Employee('June', 'Kwon', 50000)\n",
    "\n",
    "# print(Employee.fullname(emp_1))과 동일한 값 출력\n",
    "# self가 emp_1와 동일하기 때문에!\n",
    "print(emp_1.fullname())"
   ]
  },
  {
   "cell_type": "markdown",
   "metadata": {},
   "source": [
    "References\n",
    "===========\n",
    "\n",
    "https://www.youtube.com/watch?v=ZDa-Z5JzLYM&list=PL-osiE80TeTt2d9bfVyTiXJA-UTHn6WwU&index=37"
   ]
  }
 ],
 "metadata": {
  "kernelspec": {
   "display_name": "Python 3",
   "language": "python",
   "name": "python3"
  },
  "language_info": {
   "codemirror_mode": {
    "name": "ipython",
    "version": 3
   },
   "file_extension": ".py",
   "mimetype": "text/x-python",
   "name": "python",
   "nbconvert_exporter": "python",
   "pygments_lexer": "ipython3",
   "version": "3.6.5"
  }
 },
 "nbformat": 4,
 "nbformat_minor": 2
}
