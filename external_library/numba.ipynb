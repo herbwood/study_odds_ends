{
 "cells": [
  {
   "cell_type": "markdown",
   "metadata": {},
   "source": [
    "Numba\n",
    "======"
   ]
  },
  {
   "cell_type": "code",
   "execution_count": 4,
   "metadata": {},
   "outputs": [
    {
     "name": "stdout",
     "output_type": "stream",
     "text": [
      "99999999\n",
      "Wall time: 6.43 s\n",
      "==========\n",
      "99999999\n",
      "Wall time: 40.9 ms\n"
     ]
    }
   ],
   "source": [
    "from numba import jit\n",
    "import numpy as np\n",
    "\n",
    "def sum_python(n):\n",
    "    s = 0\n",
    "    for i in range(n):\n",
    "        s += i\n",
    "    return i\n",
    "\n",
    "%time print(sum_python(100000000))\n",
    "print('=' * 10)\n",
    "\n",
    "@jit\n",
    "def sum_numba(n):\n",
    "    s = 0\n",
    "    for i in range(n):\n",
    "        s += i\n",
    "    return i    \n",
    "\n",
    "%time print(sum_numba(100000000))"
   ]
  },
  {
   "cell_type": "code",
   "execution_count": null,
   "metadata": {},
   "outputs": [],
   "source": []
  }
 ],
 "metadata": {
  "kernelspec": {
   "display_name": "Python 3",
   "language": "python",
   "name": "python3"
  },
  "language_info": {
   "codemirror_mode": {
    "name": "ipython",
    "version": 3
   },
   "file_extension": ".py",
   "mimetype": "text/x-python",
   "name": "python",
   "nbconvert_exporter": "python",
   "pygments_lexer": "ipython3",
   "version": "3.6.8"
  }
 },
 "nbformat": 4,
 "nbformat_minor": 4
}
