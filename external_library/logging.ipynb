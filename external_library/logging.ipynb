{
 "cells": [
  {
   "cell_type": "markdown",
   "metadata": {},
   "source": [
    "Logging\n",
    "========"
   ]
  },
  {
   "cell_type": "markdown",
   "metadata": {},
   "source": [
    "Logging Basics\n",
    "---------"
   ]
  },
  {
   "cell_type": "markdown",
   "metadata": {},
   "source": [
    "Logging is definitely something that you'll need to have in place once  \n",
    "yout application grows beyond a basic project. Having good logs in  \n",
    "place is going to allow you to look at behaviors over time and give us a better overall picture of what's going on and you can also pipe it  \n",
    "into some visualization software to get a better perspective  "
   ]
  },
  {
   "cell_type": "markdown",
   "metadata": {},
   "source": [
    "Logging levels allow us to specify exactly what we want to log by  \n",
    "seperating these into categories  \n",
    "There are 5 different levels of logging  \n",
    "\n",
    "`DEBUG`: Detailed information, typically of interest only when diagnosing problems.  \n",
    "\n",
    "`INFO`: Confirmation that things are working as expected.  \n",
    "\n",
    "`WARNING`: An indication that something unexpected happened, or indicative of some problem in the near future (e.g. ‘disk space low’).  \n",
    "The software is still working as expected.  \n",
    "  \n",
    "`ERROR`: Due to a more serious problem, the software has not been able to perform some function.  \n",
    "  \n",
    "`CRITICAL`: A serious error, indicating that the program itself may be unable to continue running.  "
   ]
  },
  {
   "cell_type": "code",
   "execution_count": 2,
   "metadata": {},
   "outputs": [],
   "source": [
    "import logging\n",
    "\n",
    "def add(x, y):\n",
    "    return x + y\n",
    "\n",
    "def sub(x, y):\n",
    "    return x - y\n",
    "\n",
    "def mul(x, y):\n",
    "    return x * y\n",
    "\n",
    "def div(x, y):\n",
    "    return x / y\n",
    "\n",
    "num1 = 10\n",
    "num2 = 2\n",
    "\n",
    "# 디폴트 값이 warning이므로 아래 값들을 \n",
    "# debug와 info 값들을 log하지 않을 것이다\n",
    "add_result = add(num1, num2)\n",
    "logging.debug('Add : {} + {} = {}'.format(num1, num2, add_result))\n",
    "\n",
    "sub_result = sub(num1, num2)\n",
    "logging.debug('Sub : {} - {} = {}'.format(num1, num2, sub_result))\n",
    "\n",
    "mul_result = mul(num1, num2)\n",
    "logging.debug('Mul : {} * {} = {}'.format(num1, num2, mul_result))\n",
    "\n",
    "div_result = div(num1, num2)\n",
    "logging.debug('Div : {} / {} = {}'.format(num1, num2, div_result))"
   ]
  },
  {
   "cell_type": "code",
   "execution_count": 3,
   "metadata": {},
   "outputs": [
    {
     "name": "stderr",
     "output_type": "stream",
     "text": [
      "WARNING:root:Add : 10 + 2 = 12\n",
      "WARNING:root:Sub : 10 - 2 = 8\n",
      "WARNING:root:Mul : 10 * 2 = 20\n",
      "WARNING:root:Div : 10 / 2 = 5.0\n"
     ]
    }
   ],
   "source": [
    "add_result = add(num1, num2)\n",
    "logging.warning('Add : {} + {} = {}'.format(num1, num2, add_result))\n",
    "\n",
    "sub_result = sub(num1, num2)\n",
    "logging.warning('Sub : {} - {} = {}'.format(num1, num2, sub_result))\n",
    "\n",
    "mul_result = mul(num1, num2)\n",
    "logging.warning('Mul : {} * {} = {}'.format(num1, num2, mul_result))\n",
    "\n",
    "div_result = div(num1, num2)\n",
    "logging.warning('Div : {} / {} = {}'.format(num1, num2, div_result))"
   ]
  },
  {
   "cell_type": "code",
   "execution_count": 5,
   "metadata": {},
   "outputs": [],
   "source": [
    "# logging 레벨 변경\n",
    "logging.basicConfig(level = logging.DEBUG)\n",
    "\n",
    "add_result = add(num1, num2)\n",
    "logging.debug('Add : {} + {} = {}'.format(num1, num2, add_result))\n",
    "\n",
    "sub_result = sub(num1, num2)\n",
    "logging.debug('Sub : {} - {} = {}'.format(num1, num2, sub_result))\n",
    "\n",
    "mul_result = mul(num1, num2)\n",
    "logging.debug('Mul : {} * {} = {}'.format(num1, num2, mul_result))\n",
    "\n",
    "div_result = div(num1, num2)\n",
    "logging.debug('Div : {} / {} = {}'.format(num1, num2, div_result))"
   ]
  },
  {
   "cell_type": "markdown",
   "metadata": {},
   "source": [
    "Creating Log files\n",
    "-----------"
   ]
  },
  {
   "cell_type": "code",
   "execution_count": 6,
   "metadata": {},
   "outputs": [],
   "source": [
    "logging.basicConfig(filename = 'test.log', level = logging.DEBUG)\n",
    "\n",
    "add_result = add(num1, num2)\n",
    "logging.debug('Add : {} + {} = {}'.format(num1, num2, add_result))\n",
    "\n",
    "sub_result = sub(num1, num2)\n",
    "logging.debug('Sub : {} - {} = {}'.format(num1, num2, sub_result))\n",
    "\n",
    "mul_result = mul(num1, num2)\n",
    "logging.debug('Mul : {} * {} = {}'.format(num1, num2, mul_result))\n",
    "\n",
    "div_result = div(num1, num2)\n",
    "logging.debug('Div : {} / {} = {}'.format(num1, num2, div_result))"
   ]
  },
  {
   "cell_type": "markdown",
   "metadata": {},
   "source": [
    "Changing Formats\n",
    "---------"
   ]
  },
  {
   "cell_type": "code",
   "execution_count": 7,
   "metadata": {},
   "outputs": [],
   "source": [
    "logging.basicConfig(filename = 'test.log', level = logging.DEBUG,\n",
    "                   format = '%(asctime)s:%(levelname)s:%(message)')"
   ]
  },
  {
   "cell_type": "code",
   "execution_count": 10,
   "metadata": {},
   "outputs": [],
   "source": [
    "import logging\n",
    "\n",
    "logging.basicConfig(filename='employee.log', level=logging.INFO,\n",
    "                    format='%(levelname)s:%(message)s')\n",
    "\n",
    "\n",
    "class Employee:\n",
    "    \"\"\"A sample Employee class\"\"\"\n",
    "\n",
    "    def __init__(self, first, last):\n",
    "        self.first = first\n",
    "        self.last = last\n",
    "\n",
    "        logging.info('Created Employee: {} - {}'.format(self.fullname, self.email))\n",
    "\n",
    "    @property\n",
    "    def email(self):\n",
    "        return '{}.{}@email.com'.format(self.first, self.last)\n",
    "\n",
    "    @property\n",
    "    def fullname(self):\n",
    "        return '{} {}'.format(self.first, self.last)\n",
    "\n",
    "\n",
    "emp_1 = Employee('John', 'Smith')\n",
    "emp_2 = Employee('Corey', 'Schafer')\n",
    "emp_3 = Employee('Jane', 'Doe')"
   ]
  },
  {
   "cell_type": "markdown",
   "metadata": {},
   "source": [
    "References\n",
    "----------\n",
    "\n",
    "https://www.youtube.com/watch?v=-ARI4Cz-awo&list=PL-osiE80TeTt2d9bfVyTiXJA-UTHn6WwU&index=49"
   ]
  },
  {
   "cell_type": "code",
   "execution_count": null,
   "metadata": {},
   "outputs": [],
   "source": []
  }
 ],
 "metadata": {
  "kernelspec": {
   "display_name": "Python 3",
   "language": "python",
   "name": "python3"
  },
  "language_info": {
   "codemirror_mode": {
    "name": "ipython",
    "version": 3
   },
   "file_extension": ".py",
   "mimetype": "text/x-python",
   "name": "python",
   "nbconvert_exporter": "python",
   "pygments_lexer": "ipython3",
   "version": "3.6.5"
  }
 },
 "nbformat": 4,
 "nbformat_minor": 2
}
