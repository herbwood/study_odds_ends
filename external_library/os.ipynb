{
 "cells": [
  {
   "cell_type": "code",
   "execution_count": 3,
   "metadata": {},
   "outputs": [
    {
     "name": "stdout",
     "output_type": "stream",
     "text": [
      "C:\\Users\\default.DESKTOP-S5Q9GAA\\Documents\\Programs\\study_odds_ends\\external_library\n"
     ]
    }
   ],
   "source": [
    "import os\n",
    "\n",
    "# 현재 작업 중인 디렉터리 출력\n",
    "print(os.getcwd())"
   ]
  },
  {
   "cell_type": "code",
   "execution_count": 5,
   "metadata": {},
   "outputs": [
    {
     "name": "stdout",
     "output_type": "stream",
     "text": [
      "C:\\Users\\default.DESKTOP-S5Q9GAA\\Documents\\Programs\\study_odds_ends\n"
     ]
    }
   ],
   "source": [
    "# 작업 디렉터리 변경하기\n",
    "os.chdir('C:\\\\Users\\\\default.DESKTOP-S5Q9GAA\\\\Documents\\\\Programs\\\\study_odds_ends')\n",
    "print(os.getcwd())"
   ]
  },
  {
   "cell_type": "code",
   "execution_count": 6,
   "metadata": {},
   "outputs": [
    {
     "name": "stdout",
     "output_type": "stream",
     "text": [
      "['.git', '.ipynb_checkpoints', '.pytest_cache', '.vscode', 'crawling', 'external_library', 'inner_functions', 'naver_id_password.txt', 'pictures', 'python_grammar', 'test.py', '__pycache__']\n"
     ]
    }
   ],
   "source": [
    "# 작업 디렉터리에 있는 폴더와 파일 출력\n",
    "print(os.listdir())"
   ]
  },
  {
   "cell_type": "code",
   "execution_count": 11,
   "metadata": {},
   "outputs": [],
   "source": [
    "# 새로운 폴더 만들기(상위 폴더만 만들기)\n",
    "os.mkdir('os-demo-2')"
   ]
  },
  {
   "cell_type": "code",
   "execution_count": 12,
   "metadata": {},
   "outputs": [
    {
     "name": "stdout",
     "output_type": "stream",
     "text": [
      "['.git', '.ipynb_checkpoints', '.pytest_cache', '.vscode', 'crawling', 'external_library', 'inner_functions', 'naver_id_password.txt', 'os-demo-1', 'os-demo-2', 'pictures', 'python_grammar', 'test.py', '__pycache__']\n"
     ]
    }
   ],
   "source": [
    "print(os.listdir())"
   ]
  },
  {
   "cell_type": "code",
   "execution_count": 14,
   "metadata": {},
   "outputs": [],
   "source": [
    "# 새로운 폴더 만들기2(하위 폴더까지 포함)\n",
    "os.makedirs('os-demo-3/sub-dir-1')"
   ]
  },
  {
   "cell_type": "code",
   "execution_count": 15,
   "metadata": {},
   "outputs": [],
   "source": [
    "os.chdir('C:\\\\Users\\\\default.DESKTOP-S5Q9GAA\\\\Documents\\\\Programs\\\\study_odds_ends\\\\os-demo-3')"
   ]
  },
  {
   "cell_type": "code",
   "execution_count": 16,
   "metadata": {},
   "outputs": [
    {
     "name": "stdout",
     "output_type": "stream",
     "text": [
      "['sub-dir-1']\n"
     ]
    }
   ],
   "source": [
    "print(os.listdir())"
   ]
  },
  {
   "cell_type": "code",
   "execution_count": 18,
   "metadata": {},
   "outputs": [],
   "source": [
    "# 폴더 삭제하기\n",
    "os.chdir('C:\\\\Users\\\\default.DESKTOP-S5Q9GAA\\\\Documents\\\\Programs\\\\study_odds_ends')\n",
    "os.rmdir('os-demo-2')"
   ]
  },
  {
   "cell_type": "code",
   "execution_count": 19,
   "metadata": {},
   "outputs": [
    {
     "data": {
      "text/plain": [
       "['.git',\n",
       " '.ipynb_checkpoints',\n",
       " '.pytest_cache',\n",
       " '.vscode',\n",
       " 'crawling',\n",
       " 'external_library',\n",
       " 'inner_functions',\n",
       " 'naver_id_password.txt',\n",
       " 'os-demo-1',\n",
       " 'os-demo-3',\n",
       " 'pictures',\n",
       " 'python_grammar',\n",
       " 'test.py',\n",
       " '__pycache__']"
      ]
     },
     "execution_count": 19,
     "metadata": {},
     "output_type": "execute_result"
    }
   ],
   "source": [
    "os.listdir()"
   ]
  },
  {
   "cell_type": "code",
   "execution_count": 20,
   "metadata": {},
   "outputs": [],
   "source": [
    "# 폴더 삭제하기(하위 폴더까지 전부)\n",
    "os.removedirs('os-demo-3/sub-dir-1')"
   ]
  },
  {
   "cell_type": "code",
   "execution_count": 31,
   "metadata": {},
   "outputs": [
    {
     "data": {
      "text/plain": [
       "['.git',\n",
       " '.ipynb_checkpoints',\n",
       " '.pytest_cache',\n",
       " '.vscode',\n",
       " 'crawling',\n",
       " 'external_library',\n",
       " 'inner_functions',\n",
       " 'naver_id_password.txt',\n",
       " 'os-demo-1',\n",
       " 'pictures',\n",
       " 'python_grammar',\n",
       " 'test.py',\n",
       " '__pycache__']"
      ]
     },
     "execution_count": 31,
     "metadata": {},
     "output_type": "execute_result"
    }
   ],
   "source": [
    "os.listdir()"
   ]
  },
  {
   "cell_type": "code",
   "execution_count": 32,
   "metadata": {},
   "outputs": [],
   "source": [
    "# 파일 이름 새로 짓기\n",
    "os.rename('test.py', 'demo.py')"
   ]
  },
  {
   "cell_type": "code",
   "execution_count": 33,
   "metadata": {},
   "outputs": [
    {
     "data": {
      "text/plain": [
       "['.git',\n",
       " '.ipynb_checkpoints',\n",
       " '.pytest_cache',\n",
       " '.vscode',\n",
       " 'crawling',\n",
       " 'demo.py',\n",
       " 'external_library',\n",
       " 'inner_functions',\n",
       " 'naver_id_password.txt',\n",
       " 'os-demo-1',\n",
       " 'pictures',\n",
       " 'python_grammar',\n",
       " '__pycache__']"
      ]
     },
     "execution_count": 33,
     "metadata": {},
     "output_type": "execute_result"
    }
   ],
   "source": [
    "os.listdir()"
   ]
  },
  {
   "cell_type": "code",
   "execution_count": 34,
   "metadata": {},
   "outputs": [],
   "source": [
    "# 폴더 이름 새로 짓기\n",
    "os.rename('os-demo-1', 'os-demo-11')"
   ]
  },
  {
   "cell_type": "code",
   "execution_count": 35,
   "metadata": {},
   "outputs": [
    {
     "data": {
      "text/plain": [
       "['.git',\n",
       " '.ipynb_checkpoints',\n",
       " '.pytest_cache',\n",
       " '.vscode',\n",
       " 'crawling',\n",
       " 'demo.py',\n",
       " 'external_library',\n",
       " 'inner_functions',\n",
       " 'naver_id_password.txt',\n",
       " 'os-demo-11',\n",
       " 'pictures',\n",
       " 'python_grammar',\n",
       " '__pycache__']"
      ]
     },
     "execution_count": 35,
     "metadata": {},
     "output_type": "execute_result"
    }
   ],
   "source": [
    "os.listdir()"
   ]
  },
  {
   "cell_type": "code",
   "execution_count": 36,
   "metadata": {},
   "outputs": [
    {
     "name": "stdout",
     "output_type": "stream",
     "text": [
      "os.stat_result(st_mode=33206, st_ino=562949953440783, st_dev=1719506458, st_nlink=1, st_uid=0, st_gid=0, st_size=193, st_atime=1540576096, st_mtime=1540576256, st_ctime=1540576096)\n"
     ]
    }
   ],
   "source": [
    "# 파일에 대한 유용한 정보 얻기\n",
    "print(os.stat('demo.py'))"
   ]
  },
  {
   "cell_type": "code",
   "execution_count": 37,
   "metadata": {},
   "outputs": [
    {
     "data": {
      "text/plain": [
       "193"
      ]
     },
     "execution_count": 37,
     "metadata": {},
     "output_type": "execute_result"
    }
   ],
   "source": [
    "# 파일의 용량 얻기\n",
    "os.stat('demo.py').st_size"
   ]
  },
  {
   "cell_type": "code",
   "execution_count": 39,
   "metadata": {},
   "outputs": [
    {
     "name": "stdout",
     "output_type": "stream",
     "text": [
      "2018-10-27 02:50:56.271331\n"
     ]
    }
   ],
   "source": [
    "# 파일이 마지막으로 수정된 시간 얻기\n",
    "# datetime 모듈로 timestamp를 사람이 인지할 수 있는 시간대로 변환하기\n",
    "from datetime import datetime\n",
    "mod_time = os.stat('demo.py').st_mtime\n",
    "print(datetime.fromtimestamp(mod_time))"
   ]
  },
  {
   "cell_type": "code",
   "execution_count": 40,
   "metadata": {},
   "outputs": [
    {
     "name": "stdout",
     "output_type": "stream",
     "text": [
      "Current Path :  C:\\Users\\default.DESKTOP-S5Q9GAA\\Documents\\Programs\\study_odds_ends\n",
      "Directories :  ['.git', '.ipynb_checkpoints', '.pytest_cache', '.vscode', 'crawling', 'external_library', 'inner_functions', 'os-demo-11', 'pictures', 'python_grammar', '__pycache__']\n",
      "Files :  ['demo.py', 'naver_id_password.txt']\n",
      "\n",
      "Current Path :  C:\\Users\\default.DESKTOP-S5Q9GAA\\Documents\\Programs\\study_odds_ends\\.git\n",
      "Directories :  ['hooks', 'info', 'logs', 'objects', 'refs']\n",
      "Files :  ['COMMIT_EDITMSG', 'config', 'description', 'HEAD', 'index']\n",
      "\n",
      "Current Path :  C:\\Users\\default.DESKTOP-S5Q9GAA\\Documents\\Programs\\study_odds_ends\\.git\\hooks\n",
      "Directories :  []\n",
      "Files :  ['applypatch-msg.sample', 'commit-msg.sample', 'fsmonitor-watchman.sample', 'post-update.sample', 'pre-applypatch.sample', 'pre-commit.sample', 'pre-push.sample', 'pre-rebase.sample', 'pre-receive.sample', 'prepare-commit-msg.sample', 'update.sample']\n",
      "\n",
      "Current Path :  C:\\Users\\default.DESKTOP-S5Q9GAA\\Documents\\Programs\\study_odds_ends\\.git\\info\n",
      "Directories :  []\n",
      "Files :  ['exclude']\n",
      "\n",
      "Current Path :  C:\\Users\\default.DESKTOP-S5Q9GAA\\Documents\\Programs\\study_odds_ends\\.git\\logs\n",
      "Directories :  ['refs']\n",
      "Files :  ['HEAD']\n",
      "\n",
      "Current Path :  C:\\Users\\default.DESKTOP-S5Q9GAA\\Documents\\Programs\\study_odds_ends\\.git\\logs\\refs\n",
      "Directories :  ['heads', 'remotes']\n",
      "Files :  []\n",
      "\n",
      "Current Path :  C:\\Users\\default.DESKTOP-S5Q9GAA\\Documents\\Programs\\study_odds_ends\\.git\\logs\\refs\\heads\n",
      "Directories :  []\n",
      "Files :  ['master']\n",
      "\n",
      "Current Path :  C:\\Users\\default.DESKTOP-S5Q9GAA\\Documents\\Programs\\study_odds_ends\\.git\\logs\\refs\\remotes\n",
      "Directories :  ['origin']\n",
      "Files :  []\n",
      "\n",
      "Current Path :  C:\\Users\\default.DESKTOP-S5Q9GAA\\Documents\\Programs\\study_odds_ends\\.git\\logs\\refs\\remotes\\origin\n",
      "Directories :  []\n",
      "Files :  ['master']\n",
      "\n",
      "Current Path :  C:\\Users\\default.DESKTOP-S5Q9GAA\\Documents\\Programs\\study_odds_ends\\.git\\objects\n",
      "Directories :  ['05', '0a', '12', '13', '17', '19', '1f', '21', '22', '28', '29', '31', '34', '35', '3e', '42', '4c', '4d', '53', '59', '5a', '5b', '5c', '5e', '63', '66', '68', '69', '6b', '6e', '72', '73', '76', '77', '79', '7a', '7c', '7d', '80', '81', '82', '83', '89', '90', '91', '96', '97', '98', '9c', 'a6', 'a9', 'aa', 'b2', 'b3', 'be', 'c1', 'c4', 'c5', 'c7', 'cb', 'cf', 'd2', 'd7', 'd9', 'df', 'e5', 'e6', 'eb', 'ee', 'f1', 'f6', 'f8', 'f9', 'fb', 'fd', 'info', 'pack']\n",
      "Files :  []\n",
      "\n",
      "Current Path :  C:\\Users\\default.DESKTOP-S5Q9GAA\\Documents\\Programs\\study_odds_ends\\.git\\objects\\05\n",
      "Directories :  []\n",
      "Files :  ['a56741193447da361d656a241a6ff89aacfdab']\n",
      "\n",
      "Current Path :  C:\\Users\\default.DESKTOP-S5Q9GAA\\Documents\\Programs\\study_odds_ends\\.git\\objects\\0a\n",
      "Directories :  []\n",
      "Files :  ['9e1c7e3988bcc1bd274c98d56a0403907eed90']\n",
      "\n",
      "Current Path :  C:\\Users\\default.DESKTOP-S5Q9GAA\\Documents\\Programs\\study_odds_ends\\.git\\objects\\12\n",
      "Directories :  []\n",
      "Files :  ['41780b42a04e726bf7eff5bf4855bb2955de95', 'e10137f5c3dd883a38cb7c23a885fe8243399f', 'ea3c7b6cf0906387b9f47aea9d68bed7d11855']\n",
      "\n",
      "Current Path :  C:\\Users\\default.DESKTOP-S5Q9GAA\\Documents\\Programs\\study_odds_ends\\.git\\objects\\13\n",
      "Directories :  []\n",
      "Files :  ['a3f95e303e009f2f01dada2217014fe74c25b8', 'f1ffe9155ae1ead06ff4dfc0a7713334002d52']\n",
      "\n",
      "Current Path :  C:\\Users\\default.DESKTOP-S5Q9GAA\\Documents\\Programs\\study_odds_ends\\.git\\objects\\17\n",
      "Directories :  []\n",
      "Files :  ['9374a778fead7ed04ec9674ce92b13ee4f3062']\n",
      "\n",
      "Current Path :  C:\\Users\\default.DESKTOP-S5Q9GAA\\Documents\\Programs\\study_odds_ends\\.git\\objects\\19\n",
      "Directories :  []\n",
      "Files :  ['de2e0afdd7ee02b88d63acf5e2acaa13e5faeb']\n",
      "\n",
      "Current Path :  C:\\Users\\default.DESKTOP-S5Q9GAA\\Documents\\Programs\\study_odds_ends\\.git\\objects\\1f\n",
      "Directories :  []\n",
      "Files :  ['ec3b8be4cee7e947525a664c0124a71050bba4']\n",
      "\n",
      "Current Path :  C:\\Users\\default.DESKTOP-S5Q9GAA\\Documents\\Programs\\study_odds_ends\\.git\\objects\\21\n",
      "Directories :  []\n",
      "Files :  ['4009c86ad3f11c38c36bd4a1a156314380aea6']\n",
      "\n",
      "Current Path :  C:\\Users\\default.DESKTOP-S5Q9GAA\\Documents\\Programs\\study_odds_ends\\.git\\objects\\22\n",
      "Directories :  []\n",
      "Files :  ['5e2715b0c1663e9bda82784538a9d76d818874']\n",
      "\n",
      "Current Path :  C:\\Users\\default.DESKTOP-S5Q9GAA\\Documents\\Programs\\study_odds_ends\\.git\\objects\\28\n",
      "Directories :  []\n",
      "Files :  ['c1e1c6372d1fe4d4571304c97dc0ee44cb29d6']\n",
      "\n",
      "Current Path :  C:\\Users\\default.DESKTOP-S5Q9GAA\\Documents\\Programs\\study_odds_ends\\.git\\objects\\29\n",
      "Directories :  []\n",
      "Files :  ['90ac62d81aa64094e95ff96631e49a291a6596']\n",
      "\n",
      "Current Path :  C:\\Users\\default.DESKTOP-S5Q9GAA\\Documents\\Programs\\study_odds_ends\\.git\\objects\\31\n",
      "Directories :  []\n",
      "Files :  ['04bfc6b66e8a2ef6a87b20d4f4b4c3f4b30a0a']\n",
      "\n",
      "Current Path :  C:\\Users\\default.DESKTOP-S5Q9GAA\\Documents\\Programs\\study_odds_ends\\.git\\objects\\34\n",
      "Directories :  []\n",
      "Files :  ['fa217557437f9c4a7950191b01d809c1993a93']\n",
      "\n",
      "Current Path :  C:\\Users\\default.DESKTOP-S5Q9GAA\\Documents\\Programs\\study_odds_ends\\.git\\objects\\35\n",
      "Directories :  []\n",
      "Files :  ['2c291cc63aa27358a9dd9c754d9c7ab977c20a', 'e54e9021aa249d30593d35bf064d283095974b']\n",
      "\n",
      "Current Path :  C:\\Users\\default.DESKTOP-S5Q9GAA\\Documents\\Programs\\study_odds_ends\\.git\\objects\\3e\n",
      "Directories :  []\n",
      "Files :  ['d932768978b43b0d930d0e155065d49ebf8cbe']\n",
      "\n",
      "Current Path :  C:\\Users\\default.DESKTOP-S5Q9GAA\\Documents\\Programs\\study_odds_ends\\.git\\objects\\42\n",
      "Directories :  []\n",
      "Files :  ['d61465f5314cfc6cb45272abbb048d7c36debb']\n",
      "\n",
      "Current Path :  C:\\Users\\default.DESKTOP-S5Q9GAA\\Documents\\Programs\\study_odds_ends\\.git\\objects\\4c\n",
      "Directories :  []\n",
      "Files :  ['2175a2b27505ed20f1956fbd1b8ad5b14c2834']\n",
      "\n",
      "Current Path :  C:\\Users\\default.DESKTOP-S5Q9GAA\\Documents\\Programs\\study_odds_ends\\.git\\objects\\4d\n",
      "Directories :  []\n",
      "Files :  ['f22ecc9327687a94e7c1e0fc327169d9a8f098']\n",
      "\n",
      "Current Path :  C:\\Users\\default.DESKTOP-S5Q9GAA\\Documents\\Programs\\study_odds_ends\\.git\\objects\\53\n",
      "Directories :  []\n",
      "Files :  ['b5bd5ab0a5cf25e64df2a5799891891af2e244']\n",
      "\n",
      "Current Path :  C:\\Users\\default.DESKTOP-S5Q9GAA\\Documents\\Programs\\study_odds_ends\\.git\\objects\\59\n",
      "Directories :  []\n",
      "Files :  ['a229641b579aa3f65a8c08a4d24286562854db', 'dcb764bc94da19feeddf571910cab59322d11e']\n",
      "\n",
      "Current Path :  C:\\Users\\default.DESKTOP-S5Q9GAA\\Documents\\Programs\\study_odds_ends\\.git\\objects\\5a\n",
      "Directories :  []\n",
      "Files :  ['75b29e78bb2f2ad50c616771e1992a334b018f', 'fa52d94e7b8dd5042c603ff26b6cccd8062c86']\n",
      "\n",
      "Current Path :  C:\\Users\\default.DESKTOP-S5Q9GAA\\Documents\\Programs\\study_odds_ends\\.git\\objects\\5b\n",
      "Directories :  []\n",
      "Files :  ['4f375b748cd33f50d08036606a26d85399837b']\n",
      "\n",
      "Current Path :  C:\\Users\\default.DESKTOP-S5Q9GAA\\Documents\\Programs\\study_odds_ends\\.git\\objects\\5c\n",
      "Directories :  []\n",
      "Files :  ['dbc186868a3bc3b4ca8dfcdd6db25e0f3397a6']\n",
      "\n",
      "Current Path :  C:\\Users\\default.DESKTOP-S5Q9GAA\\Documents\\Programs\\study_odds_ends\\.git\\objects\\5e\n",
      "Directories :  []\n",
      "Files :  ['652f11859f600df7fad9fe287d1bb8634e9d37']\n",
      "\n",
      "Current Path :  C:\\Users\\default.DESKTOP-S5Q9GAA\\Documents\\Programs\\study_odds_ends\\.git\\objects\\63\n",
      "Directories :  []\n",
      "Files :  ['31b7060e3a3b1030363e5b85515a7e70f2114d']\n",
      "\n",
      "Current Path :  C:\\Users\\default.DESKTOP-S5Q9GAA\\Documents\\Programs\\study_odds_ends\\.git\\objects\\66\n",
      "Directories :  []\n",
      "Files :  ['b9c8d46ddc4c8b4f42b40721b2851b21f62145']\n",
      "\n",
      "Current Path :  C:\\Users\\default.DESKTOP-S5Q9GAA\\Documents\\Programs\\study_odds_ends\\.git\\objects\\68\n",
      "Directories :  []\n",
      "Files :  ['8fb524992c918f18a4555075e40ce5272f89ee']\n",
      "\n",
      "Current Path :  C:\\Users\\default.DESKTOP-S5Q9GAA\\Documents\\Programs\\study_odds_ends\\.git\\objects\\69\n",
      "Directories :  []\n",
      "Files :  ['99272f93377a32fa9bbd0f3635c2326911b970', 'a13cdbf89b8b0a972e35595ffad75be59c6122']\n",
      "\n",
      "Current Path :  C:\\Users\\default.DESKTOP-S5Q9GAA\\Documents\\Programs\\study_odds_ends\\.git\\objects\\6b\n",
      "Directories :  []\n",
      "Files :  ['d62a7d5bc70e859ef15517e82661e602f652f9']\n",
      "\n",
      "Current Path :  C:\\Users\\default.DESKTOP-S5Q9GAA\\Documents\\Programs\\study_odds_ends\\.git\\objects\\6e\n",
      "Directories :  []\n",
      "Files :  ['718e83e0614b932b071ce30e0b43ddb23885d2']\n",
      "\n",
      "Current Path :  C:\\Users\\default.DESKTOP-S5Q9GAA\\Documents\\Programs\\study_odds_ends\\.git\\objects\\72\n",
      "Directories :  []\n",
      "Files :  ['c88c3a87e63cf671cf0eb9ebba8d9a52d73082']\n",
      "\n",
      "Current Path :  C:\\Users\\default.DESKTOP-S5Q9GAA\\Documents\\Programs\\study_odds_ends\\.git\\objects\\73\n",
      "Directories :  []\n",
      "Files :  ['c0831c89eb8c638814f08be526606406e52a3c']\n",
      "\n",
      "Current Path :  C:\\Users\\default.DESKTOP-S5Q9GAA\\Documents\\Programs\\study_odds_ends\\.git\\objects\\76\n",
      "Directories :  []\n",
      "Files :  ['a4b102830c64a505acd740bedde89137c7206a']\n",
      "\n",
      "Current Path :  C:\\Users\\default.DESKTOP-S5Q9GAA\\Documents\\Programs\\study_odds_ends\\.git\\objects\\77\n",
      "Directories :  []\n",
      "Files :  ['98f799d7d5441b950eac946f82df1a927e1cb4']\n",
      "\n",
      "Current Path :  C:\\Users\\default.DESKTOP-S5Q9GAA\\Documents\\Programs\\study_odds_ends\\.git\\objects\\79\n",
      "Directories :  []\n",
      "Files :  ['aae11e2eedae87ff3610237a07ae4fa7fab9b7']\n",
      "\n",
      "Current Path :  C:\\Users\\default.DESKTOP-S5Q9GAA\\Documents\\Programs\\study_odds_ends\\.git\\objects\\7a\n",
      "Directories :  []\n",
      "Files :  ['cb955a38b3a7da96729f7f45584c960b4a00c3']\n",
      "\n",
      "Current Path :  C:\\Users\\default.DESKTOP-S5Q9GAA\\Documents\\Programs\\study_odds_ends\\.git\\objects\\7c\n",
      "Directories :  []\n",
      "Files :  ['e503c2dd97ba78597f6ff6e4393132753573f6']\n",
      "\n",
      "Current Path :  C:\\Users\\default.DESKTOP-S5Q9GAA\\Documents\\Programs\\study_odds_ends\\.git\\objects\\7d\n",
      "Directories :  []\n",
      "Files :  ['61f1b52c15dd300f3d219c0c9bf8574495e4a9', 'a86fbe14e47aa54109e7571531150dbdf6aefc']\n",
      "\n",
      "Current Path :  C:\\Users\\default.DESKTOP-S5Q9GAA\\Documents\\Programs\\study_odds_ends\\.git\\objects\\80\n",
      "Directories :  []\n",
      "Files :  ['96c6b96cb36d7f1cefb30c57dacb092a965208']\n",
      "\n",
      "Current Path :  C:\\Users\\default.DESKTOP-S5Q9GAA\\Documents\\Programs\\study_odds_ends\\.git\\objects\\81\n",
      "Directories :  []\n",
      "Files :  ['0f1c1bfe5ccb0533788d98a8ada1f5987fb41b', 'b1dce3bdd41381c4021be082ef1040c08c8af1']\n",
      "\n",
      "Current Path :  C:\\Users\\default.DESKTOP-S5Q9GAA\\Documents\\Programs\\study_odds_ends\\.git\\objects\\82\n",
      "Directories :  []\n",
      "Files :  ['135124ffe5d06d95ec3fb58ad8d458a9742675']\n",
      "\n",
      "Current Path :  C:\\Users\\default.DESKTOP-S5Q9GAA\\Documents\\Programs\\study_odds_ends\\.git\\objects\\83\n",
      "Directories :  []\n",
      "Files :  ['bd5f5b12afcabf6e472e7e23feeaf18d0917ee']\n",
      "\n",
      "Current Path :  C:\\Users\\default.DESKTOP-S5Q9GAA\\Documents\\Programs\\study_odds_ends\\.git\\objects\\89\n",
      "Directories :  []\n",
      "Files :  ['23bfc72ee3a22d64f4039facb06c68b6cada59']\n",
      "\n",
      "Current Path :  C:\\Users\\default.DESKTOP-S5Q9GAA\\Documents\\Programs\\study_odds_ends\\.git\\objects\\90\n",
      "Directories :  []\n",
      "Files :  ['74e7aea3e06de58cf0a9608653e6cb8c806d10']\n",
      "\n",
      "Current Path :  C:\\Users\\default.DESKTOP-S5Q9GAA\\Documents\\Programs\\study_odds_ends\\.git\\objects\\91\n",
      "Directories :  []\n",
      "Files :  ['ea44a218fbd2f408430959283f0419c921093e']\n",
      "\n",
      "Current Path :  C:\\Users\\default.DESKTOP-S5Q9GAA\\Documents\\Programs\\study_odds_ends\\.git\\objects\\96\n",
      "Directories :  []\n",
      "Files :  ['44f88fc2284797a7988ef1951db987ec2167b0']\n",
      "\n",
      "Current Path :  C:\\Users\\default.DESKTOP-S5Q9GAA\\Documents\\Programs\\study_odds_ends\\.git\\objects\\97\n",
      "Directories :  []\n",
      "Files :  ['6898465d06e074b6bac5667f935dc3d95b94a5']\n",
      "\n",
      "Current Path :  C:\\Users\\default.DESKTOP-S5Q9GAA\\Documents\\Programs\\study_odds_ends\\.git\\objects\\98\n",
      "Directories :  []\n",
      "Files :  ['102b0da80a680fe9142ea71ca9e2d625837f44']\n",
      "\n",
      "Current Path :  C:\\Users\\default.DESKTOP-S5Q9GAA\\Documents\\Programs\\study_odds_ends\\.git\\objects\\9c\n",
      "Directories :  []\n",
      "Files :  ['43ff63ad1f76d66343a4bdc58528505bb76473', 'dc114153d631b9df3642e10b6e1d27c2809ed3']\n",
      "\n",
      "Current Path :  C:\\Users\\default.DESKTOP-S5Q9GAA\\Documents\\Programs\\study_odds_ends\\.git\\objects\\a6\n",
      "Directories :  []\n",
      "Files :  ['0eca4ea58a8b18883bf7ec89c88b61e64c6f2b']\n",
      "\n",
      "Current Path :  C:\\Users\\default.DESKTOP-S5Q9GAA\\Documents\\Programs\\study_odds_ends\\.git\\objects\\a9\n",
      "Directories :  []\n",
      "Files :  ['19cb7410a0a2f142e9c65acb7790a4127b3a83']\n",
      "\n",
      "Current Path :  C:\\Users\\default.DESKTOP-S5Q9GAA\\Documents\\Programs\\study_odds_ends\\.git\\objects\\aa\n",
      "Directories :  []\n",
      "Files :  ['2f321279a289b71c85c4d0bfa3f16a1d3a114d', '7e2f7a4c2c47e421a0fe08299fedc0a0954043']\n",
      "\n",
      "Current Path :  C:\\Users\\default.DESKTOP-S5Q9GAA\\Documents\\Programs\\study_odds_ends\\.git\\objects\\b2\n",
      "Directories :  []\n",
      "Files :  ['c63aa1a42bc6cf038b5e8e8f4c39c5139960fd', 'e140b910f90d115e22f05ffb492a37bfa665f3']\n",
      "\n",
      "Current Path :  C:\\Users\\default.DESKTOP-S5Q9GAA\\Documents\\Programs\\study_odds_ends\\.git\\objects\\b3\n",
      "Directories :  []\n",
      "Files :  ['1acc01b2b278b5f4a2cc69c381dd926aa99dd3']\n",
      "\n",
      "Current Path :  C:\\Users\\default.DESKTOP-S5Q9GAA\\Documents\\Programs\\study_odds_ends\\.git\\objects\\be\n",
      "Directories :  []\n",
      "Files :  ['4ae87fd84bf18c7f25633fd38d1d4a6f6a49c0']\n",
      "\n",
      "Current Path :  C:\\Users\\default.DESKTOP-S5Q9GAA\\Documents\\Programs\\study_odds_ends\\.git\\objects\\c1\n",
      "Directories :  []\n",
      "Files :  ['0ff7cc324d913ada053b705ae7ea6928b0e7dc']\n",
      "\n",
      "Current Path :  C:\\Users\\default.DESKTOP-S5Q9GAA\\Documents\\Programs\\study_odds_ends\\.git\\objects\\c4\n",
      "Directories :  []\n",
      "Files :  ['4935f047c246164ac8444cf436d0a6b4d00053']\n",
      "\n",
      "Current Path :  C:\\Users\\default.DESKTOP-S5Q9GAA\\Documents\\Programs\\study_odds_ends\\.git\\objects\\c5\n",
      "Directories :  []\n",
      "Files :  ['0ea15e2c71dd6f66c408629277639224d5b9be', 'd3ef32130748817790f1a4af4594c3365d27e9']\n",
      "\n",
      "Current Path :  C:\\Users\\default.DESKTOP-S5Q9GAA\\Documents\\Programs\\study_odds_ends\\.git\\objects\\c7\n",
      "Directories :  []\n",
      "Files :  ['ba735a88c315d47aa1a1340b3f197b6f507731']\n",
      "\n",
      "Current Path :  C:\\Users\\default.DESKTOP-S5Q9GAA\\Documents\\Programs\\study_odds_ends\\.git\\objects\\cb\n",
      "Directories :  []\n",
      "Files :  ['87d0c50577c3b5778ae4430b9c25fe87b2b674']\n",
      "\n",
      "Current Path :  C:\\Users\\default.DESKTOP-S5Q9GAA\\Documents\\Programs\\study_odds_ends\\.git\\objects\\cf\n",
      "Directories :  []\n",
      "Files :  ['05d9ecaf3ffbf8cb6660c531027a45197c573d', 'a9b91f602f1b158f37dd4f98824d9055084bfa']\n",
      "\n",
      "Current Path :  C:\\Users\\default.DESKTOP-S5Q9GAA\\Documents\\Programs\\study_odds_ends\\.git\\objects\\d2\n",
      "Directories :  []\n",
      "Files :  ['8fcfc45608bee460e77ff4c9a975b5ca61f837']\n",
      "\n",
      "Current Path :  C:\\Users\\default.DESKTOP-S5Q9GAA\\Documents\\Programs\\study_odds_ends\\.git\\objects\\d7\n",
      "Directories :  []\n",
      "Files :  ['06df60b20affffe3592cf04a3a61d40aab7c0b', '0c46ccbe3708308abcfbc2ff3031ba84a11473']\n",
      "\n",
      "Current Path :  C:\\Users\\default.DESKTOP-S5Q9GAA\\Documents\\Programs\\study_odds_ends\\.git\\objects\\d9\n",
      "Directories :  []\n",
      "Files :  ['3604fb143db58bcd316585e58148d9e485970c', 'ab0effa77b3c6a13432715d8f5a387d8ca3400']\n",
      "\n",
      "Current Path :  C:\\Users\\default.DESKTOP-S5Q9GAA\\Documents\\Programs\\study_odds_ends\\.git\\objects\\df\n",
      "Directories :  []\n",
      "Files :  ['30d56a8bda0340085d2d74b11e160b564b5ea6']\n",
      "\n",
      "Current Path :  C:\\Users\\default.DESKTOP-S5Q9GAA\\Documents\\Programs\\study_odds_ends\\.git\\objects\\e5\n",
      "Directories :  []\n",
      "Files :  ['95872dadf9afbd9b6b8fa0feb5adef9f1a5e3c', 'bf5cd8ef6bc990ca6f4ffa7434a3216e780a1b']\n",
      "\n",
      "Current Path :  C:\\Users\\default.DESKTOP-S5Q9GAA\\Documents\\Programs\\study_odds_ends\\.git\\objects\\e6\n",
      "Directories :  []\n",
      "Files :  ['9de29bb2d1d6434b8b29ae775ad8c2e48c5391', 'd488bfc676b2eb5fbbd7ee411753c4fc7a0a83']\n",
      "\n",
      "Current Path :  C:\\Users\\default.DESKTOP-S5Q9GAA\\Documents\\Programs\\study_odds_ends\\.git\\objects\\eb\n",
      "Directories :  []\n",
      "Files :  ['ff7c5339afb377bf9cfcf433a9fc325e5fbe2c']\n",
      "\n",
      "Current Path :  C:\\Users\\default.DESKTOP-S5Q9GAA\\Documents\\Programs\\study_odds_ends\\.git\\objects\\ee\n",
      "Directories :  []\n",
      "Files :  ['0ce5624575b2a54f79b1d775186ad4628f3104']\n",
      "\n",
      "Current Path :  C:\\Users\\default.DESKTOP-S5Q9GAA\\Documents\\Programs\\study_odds_ends\\.git\\objects\\f1\n",
      "Directories :  []\n",
      "Files :  ['a4b73f1afb394bb0e49841e3a689fcefa6a203']\n",
      "\n",
      "Current Path :  C:\\Users\\default.DESKTOP-S5Q9GAA\\Documents\\Programs\\study_odds_ends\\.git\\objects\\f6\n",
      "Directories :  []\n",
      "Files :  ['315f2d173c4fdeab3bdf7f5b868dd90b453fe6']\n",
      "\n",
      "Current Path :  C:\\Users\\default.DESKTOP-S5Q9GAA\\Documents\\Programs\\study_odds_ends\\.git\\objects\\f8\n",
      "Directories :  []\n",
      "Files :  ['204f37296c18ed8467404108680f33a118033f', '96d03d3d6bf23327fd1d096228a39202dab821']\n",
      "\n",
      "Current Path :  C:\\Users\\default.DESKTOP-S5Q9GAA\\Documents\\Programs\\study_odds_ends\\.git\\objects\\f9\n",
      "Directories :  []\n",
      "Files :  ['6f8157d8f62579622612d036ba62743369e33c']\n",
      "\n",
      "Current Path :  C:\\Users\\default.DESKTOP-S5Q9GAA\\Documents\\Programs\\study_odds_ends\\.git\\objects\\fb\n",
      "Directories :  []\n",
      "Files :  ['295421b6f4048e52a3eb9b2f206ba8e8e88f96']\n",
      "\n",
      "Current Path :  C:\\Users\\default.DESKTOP-S5Q9GAA\\Documents\\Programs\\study_odds_ends\\.git\\objects\\fd\n",
      "Directories :  []\n",
      "Files :  ['e33885af323e71d5fd460e41e1cf4abdfdf570']\n",
      "\n",
      "Current Path :  C:\\Users\\default.DESKTOP-S5Q9GAA\\Documents\\Programs\\study_odds_ends\\.git\\objects\\info\n",
      "Directories :  []\n",
      "Files :  []\n",
      "\n",
      "Current Path :  C:\\Users\\default.DESKTOP-S5Q9GAA\\Documents\\Programs\\study_odds_ends\\.git\\objects\\pack\n",
      "Directories :  []\n",
      "Files :  []\n",
      "\n",
      "Current Path :  C:\\Users\\default.DESKTOP-S5Q9GAA\\Documents\\Programs\\study_odds_ends\\.git\\refs\n",
      "Directories :  ['heads', 'remotes', 'tags']\n",
      "Files :  []\n",
      "\n",
      "Current Path :  C:\\Users\\default.DESKTOP-S5Q9GAA\\Documents\\Programs\\study_odds_ends\\.git\\refs\\heads\n",
      "Directories :  []\n",
      "Files :  ['master']\n",
      "\n",
      "Current Path :  C:\\Users\\default.DESKTOP-S5Q9GAA\\Documents\\Programs\\study_odds_ends\\.git\\refs\\remotes\n",
      "Directories :  ['origin']\n",
      "Files :  []\n",
      "\n",
      "Current Path :  C:\\Users\\default.DESKTOP-S5Q9GAA\\Documents\\Programs\\study_odds_ends\\.git\\refs\\remotes\\origin\n",
      "Directories :  []\n",
      "Files :  ['master']\n",
      "\n",
      "Current Path :  C:\\Users\\default.DESKTOP-S5Q9GAA\\Documents\\Programs\\study_odds_ends\\.git\\refs\\tags\n",
      "Directories :  []\n",
      "Files :  []\n",
      "\n",
      "Current Path :  C:\\Users\\default.DESKTOP-S5Q9GAA\\Documents\\Programs\\study_odds_ends\\.ipynb_checkpoints\n",
      "Directories :  []\n",
      "Files :  ['webtoon_data-checkpoint.ipynb']\n",
      "\n",
      "Current Path :  C:\\Users\\default.DESKTOP-S5Q9GAA\\Documents\\Programs\\study_odds_ends\\.pytest_cache\n",
      "Directories :  ['v']\n",
      "Files :  []\n",
      "\n",
      "Current Path :  C:\\Users\\default.DESKTOP-S5Q9GAA\\Documents\\Programs\\study_odds_ends\\.pytest_cache\\v\n",
      "Directories :  ['cache']\n",
      "Files :  []\n",
      "\n",
      "Current Path :  C:\\Users\\default.DESKTOP-S5Q9GAA\\Documents\\Programs\\study_odds_ends\\.pytest_cache\\v\\cache\n",
      "Directories :  []\n",
      "Files :  ['nodeids']\n",
      "\n",
      "Current Path :  C:\\Users\\default.DESKTOP-S5Q9GAA\\Documents\\Programs\\study_odds_ends\\.vscode\n",
      "Directories :  []\n",
      "Files :  ['launch.json']\n",
      "\n",
      "Current Path :  C:\\Users\\default.DESKTOP-S5Q9GAA\\Documents\\Programs\\study_odds_ends\\crawling\n",
      "Directories :  ['websaver']\n",
      "Files :  ['parser.py', 'selenium_parser.py', 'session_parser.py', 'webtoon_data.ipynb', 'webtoon_list.py', 'web_requests.py']\n",
      "\n",
      "Current Path :  C:\\Users\\default.DESKTOP-S5Q9GAA\\Documents\\Programs\\study_odds_ends\\crawling\\websaver\n",
      "Directories :  ['parsed_data', 'websaver']\n",
      "Files :  ['db.sqlite3', 'manage.py', 'parser.py']\n",
      "\n",
      "Current Path :  C:\\Users\\default.DESKTOP-S5Q9GAA\\Documents\\Programs\\study_odds_ends\\crawling\\websaver\\parsed_data\n",
      "Directories :  ['migrations', '__pycache__']\n",
      "Files :  ['admin.py', 'apps.py', 'models.py', 'tests.py', 'views.py', '__init__.py']\n",
      "\n",
      "Current Path :  C:\\Users\\default.DESKTOP-S5Q9GAA\\Documents\\Programs\\study_odds_ends\\crawling\\websaver\\parsed_data\\migrations\n",
      "Directories :  ['__pycache__']\n",
      "Files :  ['0001_initial.py', '0002_auto_20180923_2134.py', '__init__.py']\n",
      "\n",
      "Current Path :  C:\\Users\\default.DESKTOP-S5Q9GAA\\Documents\\Programs\\study_odds_ends\\crawling\\websaver\\parsed_data\\migrations\\__pycache__\n",
      "Directories :  []\n",
      "Files :  ['0001_initial.cpython-36.pyc', '0002_auto_20180923_2134.cpython-36.pyc', '__init__.cpython-36.pyc']\n",
      "\n",
      "Current Path :  C:\\Users\\default.DESKTOP-S5Q9GAA\\Documents\\Programs\\study_odds_ends\\crawling\\websaver\\parsed_data\\__pycache__\n",
      "Directories :  []\n",
      "Files :  ['admin.cpython-36.pyc', 'models.cpython-36.pyc', '__init__.cpython-36.pyc']\n",
      "\n",
      "Current Path :  C:\\Users\\default.DESKTOP-S5Q9GAA\\Documents\\Programs\\study_odds_ends\\crawling\\websaver\\websaver\n",
      "Directories :  ['__pycache__']\n",
      "Files :  ['settings.py', 'urls.py', 'wsgi.py', '__init__.py']\n",
      "\n",
      "Current Path :  C:\\Users\\default.DESKTOP-S5Q9GAA\\Documents\\Programs\\study_odds_ends\\crawling\\websaver\\websaver\\__pycache__\n",
      "Directories :  []\n",
      "Files :  ['settings.cpython-36.pyc', 'urls.cpython-36.pyc', 'wsgi.cpython-36.pyc', '__init__.cpython-36.pyc']\n",
      "\n",
      "Current Path :  C:\\Users\\default.DESKTOP-S5Q9GAA\\Documents\\Programs\\study_odds_ends\\external_library\n",
      "Directories :  ['.ipynb_checkpoints']\n",
      "Files :  ['aapl.csv', 'functools_partial.py', 'os.ipynb', 'pickle.py', 'pillow_basics.py', 'read_csv.py']\n",
      "\n",
      "Current Path :  C:\\Users\\default.DESKTOP-S5Q9GAA\\Documents\\Programs\\study_odds_ends\\external_library\\.ipynb_checkpoints\n",
      "Directories :  []\n",
      "Files :  ['os-checkpoint.ipynb']\n",
      "\n",
      "Current Path :  C:\\Users\\default.DESKTOP-S5Q9GAA\\Documents\\Programs\\study_odds_ends\\inner_functions\n",
      "Directories :  []\n",
      "Files :  []\n",
      "\n",
      "Current Path :  C:\\Users\\default.DESKTOP-S5Q9GAA\\Documents\\Programs\\study_odds_ends\\os-demo-11\n",
      "Directories :  []\n",
      "Files :  []\n",
      "\n",
      "Current Path :  C:\\Users\\default.DESKTOP-S5Q9GAA\\Documents\\Programs\\study_odds_ends\\pictures\n",
      "Directories :  []\n",
      "Files :  ['french_artist.jpg', 'french_artist.png']\n",
      "\n",
      "Current Path :  C:\\Users\\default.DESKTOP-S5Q9GAA\\Documents\\Programs\\study_odds_ends\\python_grammar\n",
      "Directories :  []\n",
      "Files :  ['regular_expression.py']\n",
      "\n",
      "Current Path :  C:\\Users\\default.DESKTOP-S5Q9GAA\\Documents\\Programs\\study_odds_ends\\__pycache__\n",
      "Directories :  []\n",
      "Files :  ['pickle.cpython-36.pyc', 'requests.cpython-36.pyc']\n",
      "\n"
     ]
    }
   ],
   "source": [
    "# 하위 디렉터리 검색하기\n",
    "for dirpath, dirnames, filenames in os.walk(os.getcwd()):\n",
    "    print('Current Path : ', dirpath)\n",
    "    print('Directories : ', dirnames)\n",
    "    print('Files : ', filenames)\n",
    "    print()"
   ]
  },
  {
   "cell_type": "code",
   "execution_count": 44,
   "metadata": {},
   "outputs": [
    {
     "data": {
      "text/plain": [
       "environ({'ALLUSERSPROFILE': 'C:\\\\ProgramData', 'APPDATA': 'C:\\\\Users\\\\default.DESKTOP-S5Q9GAA\\\\AppData\\\\Roaming', 'COMMONPROGRAMFILES': 'C:\\\\Program Files\\\\Common Files', 'COMMONPROGRAMFILES(X86)': 'C:\\\\Program Files (x86)\\\\Common Files', 'COMMONPROGRAMW6432': 'C:\\\\Program Files\\\\Common Files', 'COMPUTERNAME': 'DESKTOP-S5Q9GAA', 'COMSPEC': 'C:\\\\WINDOWS\\\\system32\\\\cmd.exe', 'DRIVERDATA': 'C:\\\\Windows\\\\System32\\\\Drivers\\\\DriverData', 'HOMEDRIVE': 'C:', 'HOMEPATH': '\\\\Users\\\\default.DESKTOP-S5Q9GAA', 'LOCALAPPDATA': 'C:\\\\Users\\\\default.DESKTOP-S5Q9GAA\\\\AppData\\\\Local', 'LOGONSERVER': '\\\\\\\\DESKTOP-S5Q9GAA', 'NUMBER_OF_PROCESSORS': '8', 'ONEDRIVE': 'C:\\\\Users\\\\default.DESKTOP-S5Q9GAA\\\\OneDrive', 'OS': 'Windows_NT', 'PATH': 'C:\\\\Users\\\\default.DESKTOP-S5Q9GAA\\\\Anaconda3;C:\\\\Users\\\\default.DESKTOP-S5Q9GAA\\\\Anaconda3\\\\Library\\\\mingw-w64\\\\bin;C:\\\\Users\\\\default.DESKTOP-S5Q9GAA\\\\Anaconda3\\\\Library\\\\usr\\\\bin;C:\\\\Users\\\\default.DESKTOP-S5Q9GAA\\\\Anaconda3\\\\Library\\\\bin;C:\\\\Users\\\\default.DESKTOP-S5Q9GAA\\\\Anaconda3\\\\Scripts;C:\\\\Users\\\\default.DESKTOP-S5Q9GAA\\\\Anaconda3\\\\Library\\\\bin;C:\\\\WINDOWS\\\\system32;C:\\\\WINDOWS;C:\\\\WINDOWS\\\\System32\\\\Wbem;C:\\\\WINDOWS\\\\System32\\\\WindowsPowerShell\\\\v1.0\\\\;C:\\\\Program Files\\\\Git\\\\cmd;C:\\\\WINDOWS\\\\System32\\\\OpenSSH\\\\;C:\\\\Users\\\\default.DESKTOP-S5Q9GAA\\\\AppData\\\\Local\\\\Microsoft\\\\WindowsApps;;C:\\\\Users\\\\default.DESKTOP-S5Q9GAA\\\\AppData\\\\Local\\\\Programs\\\\Microsoft VS Code\\\\bin', 'PATHEXT': '.COM;.EXE;.BAT;.CMD;.VBS;.VBE;.JS;.JSE;.WSF;.WSH;.MSC', 'PROCESSOR_ARCHITECTURE': 'AMD64', 'PROCESSOR_IDENTIFIER': 'Intel64 Family 6 Model 142 Stepping 10, GenuineIntel', 'PROCESSOR_LEVEL': '6', 'PROCESSOR_REVISION': '8e0a', 'PROGRAMDATA': 'C:\\\\ProgramData', 'PROGRAMFILES': 'C:\\\\Program Files', 'PROGRAMFILES(X86)': 'C:\\\\Program Files (x86)', 'PROGRAMW6432': 'C:\\\\Program Files', 'PSMODULEPATH': 'C:\\\\Program Files\\\\WindowsPowerShell\\\\Modules;C:\\\\WINDOWS\\\\system32\\\\WindowsPowerShell\\\\v1.0\\\\Modules', 'PUBLIC': 'C:\\\\Users\\\\Public', 'SESSIONNAME': 'Console', 'SYSTEMDRIVE': 'C:', 'SYSTEMROOT': 'C:\\\\WINDOWS', 'TEMP': 'C:\\\\Users\\\\DEFAUL~1.DES\\\\AppData\\\\Local\\\\Temp', 'TMP': 'C:\\\\Users\\\\DEFAUL~1.DES\\\\AppData\\\\Local\\\\Temp', 'USERDOMAIN': 'DESKTOP-S5Q9GAA', 'USERDOMAIN_ROAMINGPROFILE': 'DESKTOP-S5Q9GAA', 'USERNAME': 'default', 'USERPROFILE': 'C:\\\\Users\\\\default.DESKTOP-S5Q9GAA', 'WINDIR': 'C:\\\\WINDOWS', 'CONDA_PREFIX': 'C:\\\\Users\\\\default.DESKTOP-S5Q9GAA\\\\Anaconda3', 'JPY_INTERRUPT_EVENT': '1420', 'IPY_INTERRUPT_EVENT': '1420', 'JPY_PARENT_PID': '1340', 'TERM': 'xterm-color', 'CLICOLOR': '1', 'PAGER': 'cat', 'GIT_PAGER': 'cat', 'MPLBACKEND': 'module://ipykernel.pylab.backend_inline'})"
      ]
     },
     "execution_count": 44,
     "metadata": {},
     "output_type": "execute_result"
    }
   ],
   "source": [
    "# 모든 환경 변수 출력하기\n",
    "os.environ"
   ]
  },
  {
   "cell_type": "markdown",
   "metadata": {},
   "source": [
    "마우스로 아이콘을 클릭하는, 그래픽 유저 인터페이스 (Graphical User Interface; GUI) 환경에서는 패스 개념이 희박하지만,   \n",
    "명령줄 실행 환경(Command Line Interface; CLI)에서는 패스가 필요하다.    \n",
    "\n",
    "가령 명령 프롬프트에서, Foo.exe라는 파일을 실행시키기 위해 foo 라는 명령을 주어도, Foo.exe 가 현재 디렉토리(폴더)에   \n",
    "없고 다른 폴더에 있다면, 컴퓨터는 Foo.exe를 실행시킬 수 없다. 만약 컴퓨터가 모든 폴더들을 다 뒤져본다면 되겠지만   \n",
    "수천 개나 되는 폴더를 다 뒤져 보려면 시간이 오래 걸리기 때문에 아예 찾기를 포기하는 것이다. (또한, 같은 이름을   \n",
    "가진 다른 파일이 잘못 실행되는 위험을 방지하기 위한 목적도 있기는 하다)    \n",
    "\n",
    "그러면 중요한 특정 디렉토리 몇 개만 간단히 뒤져보라고 지정해 주면 될 것 아닌가. 그렇다. 그렇게 지정해 주는 것이   \n",
    "바로 패스다. 패스는 파일이 아닌, '환경 변수 (environment variable)'라는 메모리에 저장된다.  \n",
    "\n",
    "윈도를 설치하면 이미 패스 몇 개가 지정되어 있다. 주로 윈도 시스템 폴더들이다. 여기에 사용자가 직접 자신이   \n",
    "필요한 폴더를 추가해 주어야 한다.  "
   ]
  },
  {
   "cell_type": "code",
   "execution_count": 48,
   "metadata": {},
   "outputs": [
    {
     "data": {
      "text/plain": [
       "'C:\\\\Users\\\\default.DESKTOP-S5Q9GAA\\\\Anaconda3;C:\\\\Users\\\\default.DESKTOP-S5Q9GAA\\\\Anaconda3\\\\Library\\\\mingw-w64\\\\bin;C:\\\\Users\\\\default.DESKTOP-S5Q9GAA\\\\Anaconda3\\\\Library\\\\usr\\\\bin;C:\\\\Users\\\\default.DESKTOP-S5Q9GAA\\\\Anaconda3\\\\Library\\\\bin;C:\\\\Users\\\\default.DESKTOP-S5Q9GAA\\\\Anaconda3\\\\Scripts;C:\\\\Users\\\\default.DESKTOP-S5Q9GAA\\\\Anaconda3\\\\Library\\\\bin;C:\\\\WINDOWS\\\\system32;C:\\\\WINDOWS;C:\\\\WINDOWS\\\\System32\\\\Wbem;C:\\\\WINDOWS\\\\System32\\\\WindowsPowerShell\\\\v1.0\\\\;C:\\\\Program Files\\\\Git\\\\cmd;C:\\\\WINDOWS\\\\System32\\\\OpenSSH\\\\;C:\\\\Users\\\\default.DESKTOP-S5Q9GAA\\\\AppData\\\\Local\\\\Microsoft\\\\WindowsApps;;C:\\\\Users\\\\default.DESKTOP-S5Q9GAA\\\\AppData\\\\Local\\\\Programs\\\\Microsoft VS Code\\\\bin'"
      ]
     },
     "execution_count": 48,
     "metadata": {},
     "output_type": "execute_result"
    }
   ],
   "source": [
    "# PATH 환경 변수 얻기\n",
    "os.environ.get('PATH')"
   ]
  },
  {
   "cell_type": "code",
   "execution_count": 49,
   "metadata": {},
   "outputs": [
    {
     "name": "stdout",
     "output_type": "stream",
     "text": [
      "C:\\Users\\default.DESKTOP-S5Q9GAA\\Anaconda3;C:\\Users\\default.DESKTOP-S5Q9GAA\\Anaconda3\\Library\\mingw-w64\\bin;C:\\Users\\default.DESKTOP-S5Q9GAA\\Anaconda3\\Library\\usr\\bin;C:\\Users\\default.DESKTOP-S5Q9GAA\\Anaconda3\\Library\\bin;C:\\Users\\default.DESKTOP-S5Q9GAA\\Anaconda3\\Scripts;C:\\Users\\default.DESKTOP-S5Q9GAA\\Anaconda3\\Library\\bin;C:\\WINDOWS\\system32;C:\\WINDOWS;C:\\WINDOWS\\System32\\Wbem;C:\\WINDOWS\\System32\\WindowsPowerShell\\v1.0\\;C:\\Program Files\\Git\\cmd;C:\\WINDOWS\\System32\\OpenSSH\\;C:\\Users\\default.DESKTOP-S5Q9GAA\\AppData\\Local\\Microsoft\\WindowsApps;;C:\\Users\\default.DESKTOP-S5Q9GAA\\AppData\\Local\\Programs\\Microsoft VS Code\\bin\\test.txt\n"
     ]
    }
   ],
   "source": [
    "# 파일 경로 결합하기\n",
    "file_path = os.path.join(os.environ.get('PATH'), 'test.txt')\n",
    "print(file_path)"
   ]
  },
  {
   "cell_type": "code",
   "execution_count": 50,
   "metadata": {},
   "outputs": [
    {
     "data": {
      "text/plain": [
       "'test.txt'"
      ]
     },
     "execution_count": 50,
     "metadata": {},
     "output_type": "execute_result"
    }
   ],
   "source": [
    "# 파일 경로에서 최하단 파일 이름만 얻기\n",
    "os.path.basename('/tmp/test.txt')"
   ]
  },
  {
   "cell_type": "code",
   "execution_count": 51,
   "metadata": {},
   "outputs": [
    {
     "data": {
      "text/plain": [
       "'/tmp'"
      ]
     },
     "execution_count": 51,
     "metadata": {},
     "output_type": "execute_result"
    }
   ],
   "source": [
    "# 파일 경로에서 디렉터리 이름만 얻기\n",
    "os.path.dirname('/tmp/test.txt')"
   ]
  },
  {
   "cell_type": "code",
   "execution_count": 52,
   "metadata": {},
   "outputs": [
    {
     "data": {
      "text/plain": [
       "('/tmp', 'test.txt')"
      ]
     },
     "execution_count": 52,
     "metadata": {},
     "output_type": "execute_result"
    }
   ],
   "source": [
    "# 파일 경로에서 최하단 파일 이름과 디렉터리 이름 얻기\n",
    "os.path.split('/tmp/test.txt')"
   ]
  },
  {
   "cell_type": "code",
   "execution_count": 53,
   "metadata": {},
   "outputs": [
    {
     "data": {
      "text/plain": [
       "False"
      ]
     },
     "execution_count": 53,
     "metadata": {},
     "output_type": "execute_result"
    }
   ],
   "source": [
    "# 파일 경로 실제 존재 여부 확인하기\n",
    "os.path.exists('/tmp/test.txt')"
   ]
  },
  {
   "cell_type": "code",
   "execution_count": 54,
   "metadata": {},
   "outputs": [
    {
     "data": {
      "text/plain": [
       "False"
      ]
     },
     "execution_count": 54,
     "metadata": {},
     "output_type": "execute_result"
    }
   ],
   "source": [
    "# 해당 경로가 디렉터리인지 확인\n",
    "os.path.isdir('/tmp/test.txt')"
   ]
  },
  {
   "cell_type": "code",
   "execution_count": 56,
   "metadata": {},
   "outputs": [
    {
     "data": {
      "text/plain": [
       "False"
      ]
     },
     "execution_count": 56,
     "metadata": {},
     "output_type": "execute_result"
    }
   ],
   "source": [
    "# 해당 경로가 파일인지 확인\n",
    "os.path.isfile('/tmp/test.txt')"
   ]
  },
  {
   "cell_type": "code",
   "execution_count": 57,
   "metadata": {},
   "outputs": [
    {
     "data": {
      "text/plain": [
       "('/tmp/test', '.txt')"
      ]
     },
     "execution_count": 57,
     "metadata": {},
     "output_type": "execute_result"
    }
   ],
   "source": [
    "# 확장자와 경로를 분리\n",
    "os.path.splitext('/tmp/test.txt')"
   ]
  },
  {
   "cell_type": "code",
   "execution_count": 58,
   "metadata": {},
   "outputs": [
    {
     "data": {
      "text/plain": [
       "'.txt'"
      ]
     },
     "execution_count": 58,
     "metadata": {},
     "output_type": "execute_result"
    }
   ],
   "source": [
    "os.path.splitext('/tmp/test.txt')[1]"
   ]
  },
  {
   "cell_type": "code",
   "execution_count": 59,
   "metadata": {},
   "outputs": [
    {
     "data": {
      "text/plain": [
       "'C:\\\\Users\\\\default.DESKTOP-S5Q9GAA\\\\Documents\\\\Programs\\\\study_odds_ends'"
      ]
     },
     "execution_count": 59,
     "metadata": {},
     "output_type": "execute_result"
    }
   ],
   "source": [
    "os.getcwd()"
   ]
  },
  {
   "cell_type": "code",
   "execution_count": 61,
   "metadata": {},
   "outputs": [],
   "source": [
    "# 디렉터리 바꾸기 연습\n",
    "os.chdir('../')"
   ]
  },
  {
   "cell_type": "code",
   "execution_count": 62,
   "metadata": {},
   "outputs": [
    {
     "data": {
      "text/plain": [
       "'C:\\\\Users\\\\default.DESKTOP-S5Q9GAA\\\\Documents\\\\Programs'"
      ]
     },
     "execution_count": 62,
     "metadata": {},
     "output_type": "execute_result"
    }
   ],
   "source": [
    "os.getcwd()"
   ]
  },
  {
   "cell_type": "code",
   "execution_count": 68,
   "metadata": {},
   "outputs": [],
   "source": [
    "os.chdir('study_odds_ends/')"
   ]
  },
  {
   "cell_type": "code",
   "execution_count": 69,
   "metadata": {},
   "outputs": [
    {
     "data": {
      "text/plain": [
       "'C:\\\\Users\\\\default.DESKTOP-S5Q9GAA\\\\Documents\\\\Programs\\\\study_odds_ends'"
      ]
     },
     "execution_count": 69,
     "metadata": {},
     "output_type": "execute_result"
    }
   ],
   "source": [
    "os.getcwd()"
   ]
  }
 ],
 "metadata": {
  "kernelspec": {
   "display_name": "Python 3",
   "language": "python",
   "name": "python3"
  },
  "language_info": {
   "codemirror_mode": {
    "name": "ipython",
    "version": 3
   },
   "file_extension": ".py",
   "mimetype": "text/x-python",
   "name": "python",
   "nbconvert_exporter": "python",
   "pygments_lexer": "ipython3",
   "version": "3.6.5"
  }
 },
 "nbformat": 4,
 "nbformat_minor": 2
}
