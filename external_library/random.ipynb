{
 "cells": [
  {
   "cell_type": "code",
   "execution_count": 1,
   "metadata": {},
   "outputs": [],
   "source": [
    "import random"
   ]
  },
  {
   "cell_type": "code",
   "execution_count": 2,
   "metadata": {},
   "outputs": [
    {
     "data": {
      "text/plain": [
       "0.86549811404068"
      ]
     },
     "execution_count": 2,
     "metadata": {},
     "output_type": "execute_result"
    }
   ],
   "source": [
    "# 0과 1 사이의 랜덤 숫자\n",
    "value = random.random()\n",
    "value"
   ]
  },
  {
   "cell_type": "code",
   "execution_count": 3,
   "metadata": {},
   "outputs": [
    {
     "data": {
      "text/plain": [
       "3.0800664593144162"
      ]
     },
     "execution_count": 3,
     "metadata": {},
     "output_type": "execute_result"
    }
   ],
   "source": [
    "# 특정 숫자 사이의 랜덤 숫자\n",
    "value2 = random.uniform(1, 10)\n",
    "value2"
   ]
  },
  {
   "cell_type": "code",
   "execution_count": 4,
   "metadata": {},
   "outputs": [
    {
     "data": {
      "text/plain": [
       "1"
      ]
     },
     "execution_count": 4,
     "metadata": {},
     "output_type": "execute_result"
    }
   ],
   "source": [
    "# 특정 숫자 사이의 랜덤 정수(1과 6 모두 포함)\n",
    "value3 = random.randint(1, 6)\n",
    "value3"
   ]
  },
  {
   "cell_type": "code",
   "execution_count": 6,
   "metadata": {},
   "outputs": [
    {
     "name": "stdout",
     "output_type": "stream",
     "text": [
      "hellow,Corey!\n"
     ]
    }
   ],
   "source": [
    "# 리스트에서 랜덤 숫자 추출\n",
    "greetings = ['hellow', 'hi', 'hey', 'howdy', 'hola']\n",
    "value4 = random.choice(greetings)\n",
    "print(value4 + ',' + 'Corey!')"
   ]
  },
  {
   "cell_type": "code",
   "execution_count": 8,
   "metadata": {},
   "outputs": [
    {
     "name": "stdout",
     "output_type": "stream",
     "text": [
      "['black', 'black', 'red', 'black', 'red', 'red', 'red', 'green', 'black', 'black']\n"
     ]
    }
   ],
   "source": [
    "# 리스트에서 여러 번 랜덤 숫자 추출\n",
    "colors = ['red', 'black', 'green']\n",
    "results = random.choices(colors, k = 10)\n",
    "print(results)"
   ]
  },
  {
   "cell_type": "code",
   "execution_count": 11,
   "metadata": {},
   "outputs": [
    {
     "name": "stdout",
     "output_type": "stream",
     "text": [
      "['black', 'black', 'red', 'black', 'black', 'black', 'black', 'black', 'black', 'black']\n"
     ]
    }
   ],
   "source": [
    "# 리스트 요소에 가중치 두기(확률 설정)\n",
    "colors = ['red', 'black', 'green']\n",
    "results2 = random.choices(colors, weights = [18, 18, 2], k = 10)\n",
    "print(results2)"
   ]
  },
  {
   "cell_type": "code",
   "execution_count": 12,
   "metadata": {},
   "outputs": [
    {
     "name": "stdout",
     "output_type": "stream",
     "text": [
      "[1, 2, 3, 4, 5, 6, 7, 8, 9, 10, 11, 12, 13, 14, 15, 16, 17, 18, 19, 20, 21, 22, 23, 24, 25, 26, 27, 28, 29, 30, 31, 32, 33, 34, 35, 36, 37, 38, 39, 40, 41, 42, 43, 44, 45, 46, 47, 48, 49, 50, 51, 52]\n"
     ]
    }
   ],
   "source": [
    "# 리스트 요소 랜덤하게 섞기\n",
    "deck = list(range(1, 53))\n",
    "print(deck)"
   ]
  },
  {
   "cell_type": "code",
   "execution_count": 14,
   "metadata": {},
   "outputs": [
    {
     "name": "stdout",
     "output_type": "stream",
     "text": [
      "[32, 8, 49, 21, 19, 10, 11, 23, 25, 50, 13, 28, 31, 1, 5, 20, 38, 29, 42, 3, 43, 37, 9, 40, 16, 6, 4, 35, 33, 36, 47, 22, 15, 44, 12, 14, 2, 24, 52, 39, 34, 17, 26, 45, 46, 48, 30, 51, 27, 7, 18, 41]\n"
     ]
    }
   ],
   "source": [
    "random.shuffle(deck)\n",
    "print(deck)"
   ]
  },
  {
   "cell_type": "code",
   "execution_count": 15,
   "metadata": {},
   "outputs": [
    {
     "data": {
      "text/plain": [
       "[7, 28, 38, 35, 36]"
      ]
     },
     "execution_count": 15,
     "metadata": {},
     "output_type": "execute_result"
    }
   ],
   "source": [
    "# choices는 특정 숫자를 여러 번 뽑는다\n",
    "# 특정 숫자를 한 번만 뽑기\n",
    "hand = random.sample(deck, k = 5)\n",
    "hand"
   ]
  },
  {
   "cell_type": "code",
   "execution_count": 17,
   "metadata": {},
   "outputs": [
    {
     "name": "stdout",
     "output_type": "stream",
     "text": [
      "Nicole Wilks\n",
      "911-555-7397\n",
      "328 Lake St., Dawnstar NY 36822\n",
      "nicolewilks@bogusemail.com\n",
      "\n",
      "Nicole White\n",
      "609-555-8476\n",
      "646 Park St., Quahog CT 66077\n",
      "nicolewhite@bogusemail.com\n",
      "\n",
      "Jane Martin\n",
      "754-555-7382\n",
      "513 Hill St., Lakeview OH 16644\n",
      "janemartin@bogusemail.com\n",
      "\n",
      "Tom Miller\n",
      "214-555-6944\n",
      "905 Washington St., Faketown MD 28966\n",
      "tommiller@bogusemail.com\n",
      "\n",
      "Nicole Moore\n",
      "307-555-9018\n",
      "689 Park St., Balmora IN 35348\n",
      "nicolemoore@bogusemail.com\n",
      "\n",
      "Mary Martin\n",
      "326-555-3473\n",
      "153 Main St., Eerie TN 41976\n",
      "marymartin@bogusemail.com\n",
      "\n",
      "Sam Wright\n",
      "443-555-6644\n",
      "686 Elm St., Blackwater CO 79319\n",
      "samwright@bogusemail.com\n",
      "\n",
      "Maria Jacobs\n",
      "198-555-3784\n",
      "205 High St., Valyria NJ 26442\n",
      "mariajacobs@bogusemail.com\n",
      "\n",
      "Joe Wilson\n",
      "938-555-9541\n",
      "943 Pine St., Lakeview PA 37345\n",
      "joewilson@bogusemail.com\n",
      "\n",
      "Dave Johnson\n",
      "495-555-7482\n",
      "596 Park St., Metropolis HI 44577\n",
      "davejohnson@bogusemail.com\n",
      "\n"
     ]
    }
   ],
   "source": [
    "# 가짜 신상 정보 생성하기 위한 방법\n",
    "# 더미 데이터가 많이 필요할 경우\n",
    "first_names = ['John', 'Jane', 'Corey', 'Travis', 'Dave', 'Kurt', 'Neil', 'Sam', 'Steve', 'Tom', 'James', 'Robert', 'Michael', 'Charles', 'Joe', 'Mary', 'Maggie', 'Nicole', 'Patricia', 'Linda', 'Barbara', 'Elizabeth', 'Laura', 'Jennifer', 'Maria']\n",
    "\n",
    "last_names = ['Smith', 'Doe', 'Jenkins', 'Robinson', 'Davis', 'Stuart', 'Jefferson', 'Jacobs', 'Wright', 'Patterson', 'Wilks', 'Arnold', 'Johnson', 'Williams', 'Jones', 'Brown', 'Davis', 'Miller', 'Wilson', 'Moore', 'Taylor', 'Anderson', 'Thomas', 'Jackson', 'White', 'Harris', 'Martin']\n",
    "\n",
    "street_names = ['Main', 'High', 'Pearl', 'Maple', 'Park', 'Oak', 'Pine', 'Cedar', 'Elm', 'Washington', 'Lake', 'Hill']\n",
    "\n",
    "fake_cities = ['Metropolis', 'Eerie', \"King's Landing\", 'Sunnydale', 'Bedrock', 'South Park', 'Atlantis', 'Mordor', 'Olympus', 'Dawnstar', 'Balmora', 'Gotham', 'Springfield', 'Quahog', 'Smalltown', 'Epicburg', 'Pythonville', 'Faketown', 'Westworld', 'Thundera', 'Vice City', 'Blackwater', 'Oldtown', 'Valyria', 'Winterfell', 'Braavos‎', 'Lakeview']\n",
    "\n",
    "states = ['AL', 'AK', 'AZ', 'AR', 'CA', 'CO', 'CT', 'DC', 'DE', 'FL', 'GA', 'HI', 'ID', 'IL', 'IN', 'IA', 'KS', 'KY', 'LA', 'ME', 'MD', 'MA', 'MI', 'MN', 'MS', 'MO', 'MT', 'NE', 'NV', 'NH', 'NJ', 'NM', 'NY', 'NC', 'ND', 'OH', 'OK', 'OR', 'PA', 'RI', 'SC', 'SD', 'TN', 'TX', 'UT', 'VT', 'VA', 'WA', 'WV', 'WI', 'WY']\n",
    "\n",
    "for num in range(10):\n",
    "    first = random.choice(first_names)\n",
    "    last = random.choice(last_names)\n",
    "\n",
    "    phone = f'{random.randint(100, 999)}-555-{random.randint(1000,9999)}'\n",
    "\n",
    "    street_num = random.randint(100, 999)\n",
    "    street = random.choice(street_names)\n",
    "    city = random.choice(fake_cities)\n",
    "    state = random.choice(states)\n",
    "    zip_code = random.randint(10000, 99999)\n",
    "    address = f'{street_num} {street} St., {city} {state} {zip_code}'\n",
    "\n",
    "    email = first.lower() + last.lower() + '@bogusemail.com'\n",
    "\n",
    "    print(f'{first} {last}\\n{phone}\\n{address}\\n{email}\\n')"
   ]
  }
 ],
 "metadata": {
  "kernelspec": {
   "display_name": "Python 3",
   "language": "python",
   "name": "python3"
  },
  "language_info": {
   "codemirror_mode": {
    "name": "ipython",
    "version": 3
   },
   "file_extension": ".py",
   "mimetype": "text/x-python",
   "name": "python",
   "nbconvert_exporter": "python",
   "pygments_lexer": "ipython3",
   "version": "3.6.5"
  }
 },
 "nbformat": 4,
 "nbformat_minor": 2
}
