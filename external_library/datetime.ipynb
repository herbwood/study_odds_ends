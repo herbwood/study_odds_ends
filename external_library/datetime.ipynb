{
 "cells": [
  {
   "cell_type": "markdown",
   "metadata": {},
   "source": [
    "Datetime\n",
    "========"
   ]
  },
  {
   "cell_type": "code",
   "execution_count": 1,
   "metadata": {},
   "outputs": [],
   "source": [
    "import datetime"
   ]
  },
  {
   "cell_type": "markdown",
   "metadata": {},
   "source": [
    "`Naive Dates and Times` timezone, daylight savings time 등을 결정하기 위한 충분한 정보가 없다.  \n",
    "하지만 그 정도 상세함이 필요하지 않을 경우 작업하기가 쉽다는 장점이 있다.   \n",
    "  \n",
    "`Aware Dates and Times`는 혼동을 방지하기 위해 상세한 시간 정보가 필요할 때 사용한다.   "
   ]
  },
  {
   "cell_type": "markdown",
   "metadata": {},
   "source": [
    "Naive Dates and Times\n",
    "----------------"
   ]
  },
  {
   "cell_type": "code",
   "execution_count": 3,
   "metadata": {},
   "outputs": [
    {
     "name": "stdout",
     "output_type": "stream",
     "text": [
      "2016-07-24\n"
     ]
    }
   ],
   "source": [
    "# 0없는 정수를 파라미터로 전달하기\n",
    "d = datetime.date(2016, 7, 24)\n",
    "print(d)"
   ]
  },
  {
   "cell_type": "code",
   "execution_count": 4,
   "metadata": {},
   "outputs": [
    {
     "name": "stdout",
     "output_type": "stream",
     "text": [
      "2018-11-08\n"
     ]
    }
   ],
   "source": [
    "# 오늘 날짜 얻기\n",
    "tday = datetime.date.today()\n",
    "print(tday)"
   ]
  },
  {
   "cell_type": "code",
   "execution_count": 5,
   "metadata": {},
   "outputs": [
    {
     "name": "stdout",
     "output_type": "stream",
     "text": [
      "2018\n",
      "11\n",
      "8\n"
     ]
    }
   ],
   "source": [
    "# 년, 월, 일 각각의 정보만 얻기\n",
    "print(tday.year)\n",
    "print(tday.month)\n",
    "print(tday.day)"
   ]
  },
  {
   "cell_type": "code",
   "execution_count": 6,
   "metadata": {},
   "outputs": [
    {
     "name": "stdout",
     "output_type": "stream",
     "text": [
      "3\n",
      "4\n"
     ]
    }
   ],
   "source": [
    "# 요일을 정수로 반환받기\n",
    "print(tday.weekday()) # Monday 0 Sunday 6\n",
    "print(tday.isoweekday()) # Monday 1 Sunday 7"
   ]
  },
  {
   "cell_type": "markdown",
   "metadata": {},
   "source": [
    "`Timedelta`는 두 날짜나 시간 사이의 차이를 의미한다   "
   ]
  },
  {
   "cell_type": "code",
   "execution_count": 7,
   "metadata": {},
   "outputs": [
    {
     "name": "stdout",
     "output_type": "stream",
     "text": [
      "2018-11-15\n"
     ]
    }
   ],
   "source": [
    "# 오늘 날짜로부터 일 주일 이후의 날짜를 얻고 싶을 때\n",
    "tdelta = datetime.timedelta(days = 7)\n",
    "\n",
    "print(tday + tdelta)"
   ]
  },
  {
   "cell_type": "markdown",
   "metadata": {},
   "source": [
    "날짜에서 날짜를 빼면 timedelta를 얻을 수 있다  \n",
    "\n",
    "date2 = date1 + timedelta  \n",
    "timedelta = date1 + date2  "
   ]
  },
  {
   "cell_type": "code",
   "execution_count": 9,
   "metadata": {},
   "outputs": [
    {
     "name": "stdout",
     "output_type": "stream",
     "text": [
      "56 days, 0:00:00\n"
     ]
    }
   ],
   "source": [
    "# 생일까지 남은 일수와 시간\n",
    "bday = datetime.date(2019, 1, 3)\n",
    "till_bday = bday - tday\n",
    "print(till_bday)"
   ]
  },
  {
   "cell_type": "code",
   "execution_count": 10,
   "metadata": {},
   "outputs": [
    {
     "name": "stdout",
     "output_type": "stream",
     "text": [
      "56\n"
     ]
    }
   ],
   "source": [
    "print(till_bday.days)"
   ]
  },
  {
   "cell_type": "code",
   "execution_count": 11,
   "metadata": {},
   "outputs": [
    {
     "name": "stdout",
     "output_type": "stream",
     "text": [
      "4838400.0\n"
     ]
    }
   ],
   "source": [
    "print(till_bday.total_seconds())"
   ]
  },
  {
   "cell_type": "code",
   "execution_count": 12,
   "metadata": {},
   "outputs": [
    {
     "name": "stdout",
     "output_type": "stream",
     "text": [
      "09:30:45.100000\n"
     ]
    }
   ],
   "source": [
    "# datetime.date오 다르게 time은 시, 분, 초, 마이크로 초까지 다룬다\n",
    "t = datetime.time(9, 30, 45, 100000)\n",
    "print(t)"
   ]
  },
  {
   "cell_type": "code",
   "execution_count": 13,
   "metadata": {},
   "outputs": [
    {
     "name": "stdout",
     "output_type": "stream",
     "text": [
      "9\n"
     ]
    }
   ],
   "source": [
    "print(t.hour)"
   ]
  },
  {
   "cell_type": "code",
   "execution_count": 15,
   "metadata": {},
   "outputs": [
    {
     "name": "stdout",
     "output_type": "stream",
     "text": [
      "2018-11-12 08:30:45.100000\n"
     ]
    }
   ],
   "source": [
    "# datetime.datetime은 전부 다!!!!\n",
    "dt = datetime.datetime(2018, 11, 12, 8, 30, 45, 100000)\n",
    "print(dt)"
   ]
  },
  {
   "cell_type": "code",
   "execution_count": 17,
   "metadata": {},
   "outputs": [
    {
     "name": "stdout",
     "output_type": "stream",
     "text": [
      "08:30:45.100000\n"
     ]
    }
   ],
   "source": [
    "print(dt.time())"
   ]
  },
  {
   "cell_type": "code",
   "execution_count": 19,
   "metadata": {},
   "outputs": [
    {
     "name": "stdout",
     "output_type": "stream",
     "text": [
      "2018-11-12\n"
     ]
    }
   ],
   "source": [
    "print(dt.date())"
   ]
  },
  {
   "cell_type": "code",
   "execution_count": 20,
   "metadata": {},
   "outputs": [
    {
     "name": "stdout",
     "output_type": "stream",
     "text": [
      "2018\n"
     ]
    }
   ],
   "source": [
    "print(dt.year)"
   ]
  },
  {
   "cell_type": "code",
   "execution_count": 21,
   "metadata": {},
   "outputs": [
    {
     "name": "stdout",
     "output_type": "stream",
     "text": [
      "2018-11-19 08:30:45.100000\n"
     ]
    }
   ],
   "source": [
    "# datetime.datetime과 timedelta 함께 사용\n",
    "tdelta = datetime.timedelta(days = 7)\n",
    "print(dt + tdelta)"
   ]
  },
  {
   "cell_type": "code",
   "execution_count": 22,
   "metadata": {},
   "outputs": [
    {
     "name": "stdout",
     "output_type": "stream",
     "text": [
      "2018-11-12 15:30:45.100000\n"
     ]
    }
   ],
   "source": [
    "tdelta = datetime.timedelta(hours = 7)\n",
    "print(dt + tdelta)"
   ]
  },
  {
   "cell_type": "markdown",
   "metadata": {},
   "source": [
    "Aware Dates and Times\n",
    "---------------"
   ]
  },
  {
   "cell_type": "code",
   "execution_count": 23,
   "metadata": {},
   "outputs": [
    {
     "name": "stdout",
     "output_type": "stream",
     "text": [
      "2018-11-08 19:55:21.005594\n",
      "2018-11-08 19:55:21.005593\n",
      "2018-11-08 10:55:21.005593\n"
     ]
    }
   ],
   "source": [
    "dt_today = datetime.datetime.today()\n",
    "dt_now = datetime.datetime.now()\n",
    "dt_utcnow = datetime.datetime.utcnow()\n",
    "print(dt_today)\n",
    "print(dt_now)\n",
    "print(dt_utcnow)"
   ]
  },
  {
   "cell_type": "markdown",
   "metadata": {},
   "source": [
    "`datetime.datetime.today()`는 현재 시간을 타임존 없이 반환   \n",
    "`datetime.datetime.now()`는 타임존을 반환할 수 있는 옵션은 있지만 타임존은 없음   \n",
    "`datetime.datetime.utcnow()`는 UTC 시간을 반환하지만 타임존 없음  "
   ]
  },
  {
   "cell_type": "code",
   "execution_count": 24,
   "metadata": {},
   "outputs": [],
   "source": [
    "import pytz"
   ]
  },
  {
   "cell_type": "code",
   "execution_count": 25,
   "metadata": {},
   "outputs": [
    {
     "name": "stdout",
     "output_type": "stream",
     "text": [
      "2016-07-27 12:30:45+00:00\n"
     ]
    }
   ],
   "source": [
    "# 타임존을 다룰 때는 UTC 시간으로 해야함!!\n",
    "dt = datetime.datetime(2016, 7, 27, 12, 30, 45, tzinfo = pytz.UTC)\n",
    "print(dt)"
   ]
  },
  {
   "cell_type": "code",
   "execution_count": 26,
   "metadata": {},
   "outputs": [
    {
     "name": "stdout",
     "output_type": "stream",
     "text": [
      "2018-11-08 11:01:47.793054+00:00\n"
     ]
    }
   ],
   "source": [
    "# 이 방식이 아래 방식보다 가독성이 좋음!\n",
    "# 타임존을 인지하는 UTC 시간 반환하는 방법\n",
    "dt_now = datetime.datetime.now(tz = pytz.UTC)\n",
    "print(dt_now)"
   ]
  },
  {
   "cell_type": "code",
   "execution_count": 27,
   "metadata": {},
   "outputs": [
    {
     "name": "stdout",
     "output_type": "stream",
     "text": [
      "2018-11-08 11:02:26.304534+00:00\n"
     ]
    }
   ],
   "source": [
    "dt_utcnow = datetime.datetime.utcnow().replace(tzinfo = pytz.UTC)\n",
    "print(dt_utcnow)"
   ]
  },
  {
   "cell_type": "code",
   "execution_count": 28,
   "metadata": {},
   "outputs": [
    {
     "name": "stdout",
     "output_type": "stream",
     "text": [
      "2018-11-08 11:05:01.811078+00:00\n",
      "2018-11-08 04:05:01.811078-07:00\n"
     ]
    }
   ],
   "source": [
    "# UTC 시간을 타임존으로 변환하는 방법\n",
    "dt_utcnow = datetime.datetime.now(tz = pytz.UTC)\n",
    "dt_mtn = dt_utcnow.astimezone(pytz.timezone('US/Mountain'))\n",
    "print(dt_utcnow)\n",
    "print(dt_mtn)"
   ]
  },
  {
   "cell_type": "code",
   "execution_count": 30,
   "metadata": {},
   "outputs": [],
   "source": [
    "# 모든 타임존 확인하기\n",
    "#for tz in pytz.all_timezones:\n",
    "#    print(tz)"
   ]
  },
  {
   "cell_type": "code",
   "execution_count": 31,
   "metadata": {},
   "outputs": [
    {
     "name": "stdout",
     "output_type": "stream",
     "text": [
      "2018-11-08 20:09:21.735219-07:00\n"
     ]
    }
   ],
   "source": [
    "# 나이브 타임을 타임존을 포함하게 만드는 방법\n",
    "dt_mtn = datetime.datetime.now()  # 나이브 타임\n",
    "mtn_tz = pytz.timezone('US/Mountain')\n",
    "dt_mtn = mtn_tz.localize(dt_mtn)\n",
    "print(dt_mtn)"
   ]
  },
  {
   "cell_type": "markdown",
   "metadata": {},
   "source": [
    "Time Format\n",
    "------------"
   ]
  },
  {
   "cell_type": "code",
   "execution_count": 33,
   "metadata": {},
   "outputs": [
    {
     "name": "stdout",
     "output_type": "stream",
     "text": [
      "November 08, 2018\n"
     ]
    }
   ],
   "source": [
    "# 특정 포맷으로 날짜를 출력하고 싶은 경우\n",
    "# strftime - Datetime to String\n",
    "# strptime - String to Datetime\n",
    "dt_mtn = datetime.datetime.now(tz = pytz.timezone('US/Mountain'))\n",
    "print(dt_mtn.strftime('%B %d, %Y'))  # 국제 표준 시간"
   ]
  },
  {
   "cell_type": "code",
   "execution_count": 34,
   "metadata": {},
   "outputs": [
    {
     "name": "stdout",
     "output_type": "stream",
     "text": [
      "2018-11-08 00:00:00\n"
     ]
    }
   ],
   "source": [
    "# 문자열을 datetime으로 변환하기\n",
    "dt_str = 'November 08, 2018'\n",
    "\n",
    "dt = datetime.datetime.strptime(dt_str, '%B %d, %Y')\n",
    "print(dt)"
   ]
  }
 ],
 "metadata": {
  "kernelspec": {
   "display_name": "Python 3",
   "language": "python",
   "name": "python3"
  },
  "language_info": {
   "codemirror_mode": {
    "name": "ipython",
    "version": 3
   },
   "file_extension": ".py",
   "mimetype": "text/x-python",
   "name": "python",
   "nbconvert_exporter": "python",
   "pygments_lexer": "ipython3",
   "version": "3.6.5"
  }
 },
 "nbformat": 4,
 "nbformat_minor": 2
}
