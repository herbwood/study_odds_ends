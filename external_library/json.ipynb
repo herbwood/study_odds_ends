{
 "cells": [
  {
   "cell_type": "markdown",
   "metadata": {},
   "source": [
    "JSON(Javascript Object Notation)\n",
    "===="
   ]
  },
  {
   "cell_type": "markdown",
   "metadata": {},
   "source": [
    "Load JSON string into a python object\n",
    "------"
   ]
  },
  {
   "cell_type": "code",
   "execution_count": 1,
   "metadata": {},
   "outputs": [],
   "source": [
    "import json"
   ]
  },
  {
   "cell_type": "code",
   "execution_count": 9,
   "metadata": {},
   "outputs": [
    {
     "name": "stdout",
     "output_type": "stream",
     "text": [
      "<class 'dict'>\n",
      "{'people': [{'name': 'John Smith', 'phone': '615-555-7164', 'emails': ['jhkwon94@naver.com', 'herbwood27@gmail.com'], 'has_license': False}, {'name': 'Seung hee', 'phone': '010-111-2222', 'emails': None, 'has_license': True}]}\n"
     ]
    }
   ],
   "source": [
    "people_string = '''\n",
    "{\n",
    "    \"people\" : [\n",
    "    {\n",
    "        \"name\" : \"John Smith\",\n",
    "        \"phone\" : \"615-555-7164\",\n",
    "        \"emails\" : [\"jhkwon94@naver.com\", \"herbwood27@gmail.com\"],\n",
    "        \"has_license\" : false\n",
    "     },\n",
    "     {\n",
    "         \"name\" : \"Seung hee\",\n",
    "         \"phone\" : \"010-111-2222\",\n",
    "         \"emails\" : null,\n",
    "         \"has_license\" : true\n",
    "     }\n",
    "    ]\n",
    "}\n",
    "'''\n",
    "\n",
    "data = json.loads(people_string)\n",
    "print(type(data))\n",
    "print(data)"
   ]
  },
  {
   "cell_type": "code",
   "execution_count": 11,
   "metadata": {},
   "outputs": [
    {
     "name": "stdout",
     "output_type": "stream",
     "text": [
      "<class 'list'>\n"
     ]
    }
   ],
   "source": [
    "print(type(data['people']))"
   ]
  },
  {
   "cell_type": "code",
   "execution_count": 13,
   "metadata": {},
   "outputs": [
    {
     "name": "stdout",
     "output_type": "stream",
     "text": [
      "John Smith\n",
      "Seung hee\n"
     ]
    }
   ],
   "source": [
    "for person in data['people']:\n",
    "    print(person['name'])"
   ]
  },
  {
   "cell_type": "markdown",
   "metadata": {},
   "source": [
    "Dump a python object to a JSON string\n",
    "-----------"
   ]
  },
  {
   "cell_type": "code",
   "execution_count": 14,
   "metadata": {},
   "outputs": [],
   "source": [
    "for person in data['people']:\n",
    "    del person['phone']"
   ]
  },
  {
   "cell_type": "code",
   "execution_count": 16,
   "metadata": {},
   "outputs": [
    {
     "name": "stdout",
     "output_type": "stream",
     "text": [
      "{\"people\": [{\"name\": \"John Smith\", \"emails\": [\"jhkwon94@naver.com\", \"herbwood27@gmail.com\"], \"has_license\": false}, {\"name\": \"Seung hee\", \"emails\": null, \"has_license\": true}]}\n"
     ]
    }
   ],
   "source": [
    "new_string = json.dumps(data)\n",
    "print(new_string)"
   ]
  },
  {
   "cell_type": "code",
   "execution_count": 17,
   "metadata": {},
   "outputs": [
    {
     "name": "stdout",
     "output_type": "stream",
     "text": [
      "{\n",
      "  \"people\": [\n",
      "    {\n",
      "      \"name\": \"John Smith\",\n",
      "      \"emails\": [\n",
      "        \"jhkwon94@naver.com\",\n",
      "        \"herbwood27@gmail.com\"\n",
      "      ],\n",
      "      \"has_license\": false\n",
      "    },\n",
      "    {\n",
      "      \"name\": \"Seung hee\",\n",
      "      \"emails\": null,\n",
      "      \"has_license\": true\n",
      "    }\n",
      "  ]\n",
      "}\n"
     ]
    }
   ],
   "source": [
    "# 각각의 레벨에서 띄어쓰기를 하게 해주고 싶으면 indent 인자 전달\n",
    "new_string = json.dumps(data, indent = 2)\n",
    "print(new_string)"
   ]
  },
  {
   "cell_type": "code",
   "execution_count": 18,
   "metadata": {},
   "outputs": [
    {
     "name": "stdout",
     "output_type": "stream",
     "text": [
      "{\n",
      "  \"people\": [\n",
      "    {\n",
      "      \"emails\": [\n",
      "        \"jhkwon94@naver.com\",\n",
      "        \"herbwood27@gmail.com\"\n",
      "      ],\n",
      "      \"has_license\": false,\n",
      "      \"name\": \"John Smith\"\n",
      "    },\n",
      "    {\n",
      "      \"emails\": null,\n",
      "      \"has_license\": true,\n",
      "      \"name\": \"Seung hee\"\n",
      "    }\n",
      "  ]\n",
      "}\n"
     ]
    }
   ],
   "source": [
    "# key를 알파벳 순으로 정렬하는 sort_keys 인자\n",
    "new_string = json.dumps(data, indent = 2, sort_keys=True)\n",
    "print(new_string)"
   ]
  },
  {
   "cell_type": "markdown",
   "metadata": {},
   "source": [
    "Going Back and Forth\n",
    "--------"
   ]
  },
  {
   "cell_type": "code",
   "execution_count": 31,
   "metadata": {},
   "outputs": [
    {
     "name": "stdout",
     "output_type": "stream",
     "text": [
      "Alabama AL\n",
      "Alaska AK\n",
      "Arizona AZ\n",
      "Arkansas AR\n",
      "California CA\n",
      "Colorado CO\n",
      "Connecticut CT\n",
      "Delaware DE\n",
      "Florida FL\n",
      "Georgia GA\n"
     ]
    }
   ],
   "source": [
    "# load : loads file\n",
    "# loads : loads a string\n",
    "with open('states.json') as f:\n",
    "    data = json.load(f)\n",
    "    \n",
    "for state in data['states'][:10]:\n",
    "    print(state['name'], state['abbreviation'])"
   ]
  },
  {
   "cell_type": "code",
   "execution_count": 32,
   "metadata": {},
   "outputs": [],
   "source": [
    "for state in data['states']:\n",
    "    del state['area_codes']\n",
    "    \n",
    "with open('new_states.json', 'w') as f:\n",
    "    json.dump(data, f, indent = 2)"
   ]
  },
  {
   "cell_type": "markdown",
   "metadata": {},
   "source": [
    "Example\n",
    "----"
   ]
  },
  {
   "cell_type": "code",
   "execution_count": null,
   "metadata": {},
   "outputs": [],
   "source": [
    "from urllib.request import urlopen\n",
    "\n",
    "with urlopen(\"https://finance.yahoo.com/webservice/v1/symbols/allcurrencies/quote?format=json\") as response:\n",
    "    source = response.read()\n",
    "    \n",
    "data = json.loads(source)\n",
    "\n",
    "json.dumps(data, indent=2)\n",
    "\n",
    "usd_rates = dict()\n",
    "\n",
    "for item in data['list']['resources']:\n",
    "    name = item[resource]['fields']['name']\n",
    "    price = item['resource']['fields']['price']\n",
    "    usd_rates[name] = price\n",
    "    \n",
    "print(50 * float(usd_rates['USD/INR']))"
   ]
  },
  {
   "cell_type": "markdown",
   "metadata": {},
   "source": [
    "References\n",
    "---------\n",
    "\n",
    "https://www.youtube.com/watch?v=9N6a-VLBa2I&index=44&list=PL-osiE80TeTt2d9bfVyTiXJA-UTHn6WwU"
   ]
  }
 ],
 "metadata": {
  "kernelspec": {
   "display_name": "Python 3",
   "language": "python",
   "name": "python3"
  },
  "language_info": {
   "codemirror_mode": {
    "name": "ipython",
    "version": 3
   },
   "file_extension": ".py",
   "mimetype": "text/x-python",
   "name": "python",
   "nbconvert_exporter": "python",
   "pygments_lexer": "ipython3",
   "version": "3.6.5"
  }
 },
 "nbformat": 4,
 "nbformat_minor": 2
}
