{
 "cells": [
  {
   "cell_type": "markdown",
   "metadata": {},
   "source": [
    "Unit Testing\n",
    "======="
   ]
  },
  {
   "cell_type": "code",
   "execution_count": 2,
   "metadata": {},
   "outputs": [],
   "source": [
    "import calc\n",
    "import unittest"
   ]
  },
  {
   "cell_type": "code",
   "execution_count": 14,
   "metadata": {},
   "outputs": [
    {
     "name": "stderr",
     "output_type": "stream",
     "text": [
      ".E..\n",
      "======================================================================\n",
      "ERROR: test_div (__main__.TestCalc)\n",
      "----------------------------------------------------------------------\n",
      "Traceback (most recent call last):\n",
      "  File \"<ipython-input-14-906a496ee76d>\", line 25, in test_div\n",
      "    calc.div(10, 0)\n",
      "  File \"C:\\Users\\default.DESKTOP-S5Q9GAA\\Documents\\Programs\\study_odds_ends\\external_library\\calc.py\", line 11, in div\n",
      "    if y == 0:\n",
      "ZeroDivisionError: division by zero\n",
      "\n",
      "----------------------------------------------------------------------\n",
      "Ran 4 tests in 0.010s\n",
      "\n",
      "FAILED (errors=1)\n"
     ]
    }
   ],
   "source": [
    "class TestCalc(unittest.TestCase):\n",
    "    \n",
    "    def test_add(self):\n",
    "        self.assertEqual(calc.add(10, 5), 15)\n",
    "        self.assertEqual(calc.add(-1, 1), 0)\n",
    "        self.assertEqual(calc.add(-1, -1), -2)\n",
    "        \n",
    "    def test_sub(self):\n",
    "        self.assertEqual(calc.sub(10, 5), 5)\n",
    "        self.assertEqual(calc.sub(-1, 1), -2)\n",
    "        self.assertEqual(calc.sub(-1, -1), 0)\n",
    "        \n",
    "    def test_mul(self):\n",
    "        self.assertEqual(calc.mul(10, 5), 50)\n",
    "        self.assertEqual(calc.mul(-1, 1), -1)\n",
    "        self.assertEqual(calc.mul(-1, -1), 1)\n",
    "        \n",
    "    def test_div(self):\n",
    "        self.assertEqual(calc.div(10, 5), 2)\n",
    "        self.assertEqual(calc.div(-1, 1), -1)\n",
    "        self.assertEqual(calc.div(-1, -1), 1)\n",
    "        self.assertEqual(calc.div(5, 2), 2.5)\n",
    "        \n",
    "        with self.assertRaises(ValueError):\n",
    "            calc.div(10, 0)\n",
    "        \n",
    "if __name__ == '__main__':\n",
    "    unittest.main(argv=['first-arg-is-ignored'], exit=False)"
   ]
  },
  {
   "cell_type": "code",
   "execution_count": 15,
   "metadata": {},
   "outputs": [],
   "source": [
    "import employee"
   ]
  },
  {
   "cell_type": "code",
   "execution_count": 16,
   "metadata": {},
   "outputs": [
    {
     "name": "stderr",
     "output_type": "stream",
     "text": [
      ".E......"
     ]
    },
    {
     "name": "stdout",
     "output_type": "stream",
     "text": [
      "setupClass\n",
      "setUp\n",
      "test_apply_raise\n",
      "tearDown\n",
      "\n",
      "setUp\n",
      "test_email\n",
      "tearDown\n",
      "\n",
      "setUp\n",
      "test_fullname\n",
      "tearDown\n",
      "\n",
      "setUp\n",
      "tearDown\n",
      "\n",
      "teardownClass\n"
     ]
    },
    {
     "name": "stderr",
     "output_type": "stream",
     "text": [
      "\n",
      "======================================================================\n",
      "ERROR: test_div (__main__.TestCalc)\n",
      "----------------------------------------------------------------------\n",
      "Traceback (most recent call last):\n",
      "  File \"<ipython-input-14-906a496ee76d>\", line 25, in test_div\n",
      "    calc.div(10, 0)\n",
      "  File \"C:\\Users\\default.DESKTOP-S5Q9GAA\\Documents\\Programs\\study_odds_ends\\external_library\\calc.py\", line 11, in div\n",
      "    if y == 0:\n",
      "ZeroDivisionError: division by zero\n",
      "\n",
      "----------------------------------------------------------------------\n",
      "Ran 8 tests in 0.028s\n",
      "\n",
      "FAILED (errors=1)\n"
     ]
    }
   ],
   "source": [
    "import unittest\n",
    "from unittest.mock import patch\n",
    "from employee import Employee\n",
    "\n",
    "\n",
    "class TestEmployee(unittest.TestCase):\n",
    "\n",
    "    @classmethod\n",
    "    def setUpClass(cls):\n",
    "        print('setupClass')\n",
    "\n",
    "    @classmethod\n",
    "    def tearDownClass(cls):\n",
    "        print('teardownClass')\n",
    "\n",
    "    def setUp(self):\n",
    "        print('setUp')\n",
    "        self.emp_1 = Employee('Corey', 'Schafer', 50000)\n",
    "        self.emp_2 = Employee('Sue', 'Smith', 60000)\n",
    "\n",
    "    def tearDown(self):\n",
    "        print('tearDown\\n')\n",
    "\n",
    "    def test_email(self):\n",
    "        print('test_email')\n",
    "        self.assertEqual(self.emp_1.email, 'Corey.Schafer@email.com')\n",
    "        self.assertEqual(self.emp_2.email, 'Sue.Smith@email.com')\n",
    "\n",
    "        self.emp_1.first = 'John'\n",
    "        self.emp_2.first = 'Jane'\n",
    "\n",
    "        self.assertEqual(self.emp_1.email, 'John.Schafer@email.com')\n",
    "        self.assertEqual(self.emp_2.email, 'Jane.Smith@email.com')\n",
    "\n",
    "    def test_fullname(self):\n",
    "        print('test_fullname')\n",
    "        self.assertEqual(self.emp_1.fullname, 'Corey Schafer')\n",
    "        self.assertEqual(self.emp_2.fullname, 'Sue Smith')\n",
    "\n",
    "        self.emp_1.first = 'John'\n",
    "        self.emp_2.first = 'Jane'\n",
    "\n",
    "        self.assertEqual(self.emp_1.fullname, 'John Schafer')\n",
    "        self.assertEqual(self.emp_2.fullname, 'Jane Smith')\n",
    "\n",
    "    def test_apply_raise(self):\n",
    "        print('test_apply_raise')\n",
    "        self.emp_1.apply_raise()\n",
    "        self.emp_2.apply_raise()\n",
    "\n",
    "        self.assertEqual(self.emp_1.pay, 52500)\n",
    "        self.assertEqual(self.emp_2.pay, 63000)\n",
    "\n",
    "    def test_monthly_schedule(self):\n",
    "        with patch('employee.requests.get') as mocked_get:\n",
    "            mocked_get.return_value.ok = True\n",
    "            mocked_get.return_value.text = 'Success'\n",
    "\n",
    "            schedule = self.emp_1.monthly_schedule('May')\n",
    "            mocked_get.assert_called_with('http://company.com/Schafer/May')\n",
    "            self.assertEqual(schedule, 'Success')\n",
    "\n",
    "            mocked_get.return_value.ok = False\n",
    "\n",
    "            schedule = self.emp_2.monthly_schedule('June')\n",
    "            mocked_get.assert_called_with('http://company.com/Smith/June')\n",
    "            self.assertEqual(schedule, 'Bad Response!')\n",
    "\n",
    "\n",
    "if __name__ == '__main__':\n",
    "    unittest.main(argv=['first-arg-is-ignored'], exit=False)"
   ]
  },
  {
   "cell_type": "markdown",
   "metadata": {},
   "source": [
    "References\n",
    "--------\n",
    "\n",
    "https://www.youtube.com/watch?v=6tNS--WetLI&index=54&list=PL-osiE80TeTt2d9bfVyTiXJA-UTHn6WwU"
   ]
  }
 ],
 "metadata": {
  "kernelspec": {
   "display_name": "Python 3",
   "language": "python",
   "name": "python3"
  },
  "language_info": {
   "codemirror_mode": {
    "name": "ipython",
    "version": 3
   },
   "file_extension": ".py",
   "mimetype": "text/x-python",
   "name": "python",
   "nbconvert_exporter": "python",
   "pygments_lexer": "ipython3",
   "version": "3.6.5"
  }
 },
 "nbformat": 4,
 "nbformat_minor": 2
}
